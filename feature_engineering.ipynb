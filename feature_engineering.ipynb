{
 "cells": [
  {
   "cell_type": "markdown",
   "id": "e44d8291",
   "metadata": {},
   "source": [
    "# Feature Engineering\n",
    "\n",
    "**Objective:**  \n",
    "In this notebook, we apply feature engineering techniques to enhance the dataset and prepare it for modeling. The goal is to extract, transform, and encode features in a way that improves the model’s ability to predict `SalePrice`.\n",
    "\n",
    "---\n",
    "\n",
    "## Key Steps:\n",
    "\n",
    "1. **Handle missing values**\n",
    "   - Domain-specific imputation strategies\n",
    "   - Use of indicators for missingness (if meaningful)\n",
    "\n",
    "2. **Transform variables**\n",
    "   - Log transformation for skewed features\n",
    "   - Binning or discretization of continuous variables\n",
    "   - Date or time-based feature extraction\n",
    "\n",
    "3. **Encode categorical features**\n",
    "   - Ordinal encoding for ranked categories\n",
    "   - One-hot encoding for nominal variables\n",
    "   - Group rare categories\n",
    "\n",
    "4. **Create new features**\n",
    "   - Total square footage (`TotalSF = TotalBsmtSF + 1stFlrSF + 2ndFlrSF`)\n",
    "   - Age-related features (`Age = YrSold - YearBuilt`)\n",
    "   - Quality-related scores (`OverallQual * OverallCond`)\n",
    "\n",
    "5. **Feature scaling (if required)**\n",
    "   - Standardization or normalization of numerical values for certain models\n",
    "\n",
    "---\n",
    "\n",
    "**Outcome:**  \n",
    "We produce a cleaned and transformed dataset with meaningful features that are ready to be fed into machine learning models for accurate price prediction.\n"
   ]
  },
  {
   "cell_type": "code",
   "execution_count": 1,
   "id": "6abf9437",
   "metadata": {},
   "outputs": [
    {
     "data": {
      "text/html": [
       "<script type=\"esms-options\">{\"shimMode\": true}</script><style>*[data-root-id],\n",
       "*[data-root-id] > * {\n",
       "  box-sizing: border-box;\n",
       "  font-family: var(--jp-ui-font-family);\n",
       "  font-size: var(--jp-ui-font-size1);\n",
       "  color: var(--vscode-editor-foreground, var(--jp-ui-font-color1));\n",
       "}\n",
       "\n",
       "/* Override VSCode background color */\n",
       ".cell-output-ipywidget-background:has(\n",
       "    > .cell-output-ipywidget-background > .lm-Widget > *[data-root-id]\n",
       "  ),\n",
       ".cell-output-ipywidget-background:has(> .lm-Widget > *[data-root-id]) {\n",
       "  background-color: transparent !important;\n",
       "}\n",
       "</style>"
      ]
     },
     "metadata": {},
     "output_type": "display_data"
    },
    {
     "data": {
      "application/javascript": "(function(root) {\n  function now() {\n    return new Date();\n  }\n\n  const force = true;\n  const py_version = '3.7.3'.replace('rc', '-rc.').replace('.dev', '-dev.');\n  const reloading = false;\n  const Bokeh = root.Bokeh;\n\n  // Set a timeout for this load but only if we are not already initializing\n  if (typeof (root._bokeh_timeout) === \"undefined\" || (force || !root._bokeh_is_initializing)) {\n    root._bokeh_timeout = Date.now() + 5000;\n    root._bokeh_failed_load = false;\n  }\n\n  function run_callbacks() {\n    try {\n      root._bokeh_onload_callbacks.forEach(function(callback) {\n        if (callback != null)\n          callback();\n      });\n    } finally {\n      delete root._bokeh_onload_callbacks;\n    }\n    console.debug(\"Bokeh: all callbacks have finished\");\n  }\n\n  function load_libs(css_urls, js_urls, js_modules, js_exports, callback) {\n    if (css_urls == null) css_urls = [];\n    if (js_urls == null) js_urls = [];\n    if (js_modules == null) js_modules = [];\n    if (js_exports == null) js_exports = {};\n\n    root._bokeh_onload_callbacks.push(callback);\n\n    if (root._bokeh_is_loading > 0) {\n      // Don't load bokeh if it is still initializing\n      console.debug(\"Bokeh: BokehJS is being loaded, scheduling callback at\", now());\n      return null;\n    } else if (js_urls.length === 0 && js_modules.length === 0 && Object.keys(js_exports).length === 0) {\n      // There is nothing to load\n      run_callbacks();\n      return null;\n    }\n\n    function on_load() {\n      root._bokeh_is_loading--;\n      if (root._bokeh_is_loading === 0) {\n        console.debug(\"Bokeh: all BokehJS libraries/stylesheets loaded\");\n        run_callbacks()\n      }\n    }\n    window._bokeh_on_load = on_load\n\n    function on_error(e) {\n      const src_el = e.srcElement\n      console.error(\"failed to load \" + (src_el.href || src_el.src));\n    }\n\n    const skip = [];\n    if (window.requirejs) {\n      window.requirejs.config({'packages': {}, 'paths': {}, 'shim': {}});\n      root._bokeh_is_loading = css_urls.length + 0;\n    } else {\n      root._bokeh_is_loading = css_urls.length + js_urls.length + js_modules.length + Object.keys(js_exports).length;\n    }\n\n    const existing_stylesheets = []\n    const links = document.getElementsByTagName('link')\n    for (let i = 0; i < links.length; i++) {\n      const link = links[i]\n      if (link.href != null) {\n        existing_stylesheets.push(link.href)\n      }\n    }\n    for (let i = 0; i < css_urls.length; i++) {\n      const url = css_urls[i];\n      const escaped = encodeURI(url)\n      if (existing_stylesheets.indexOf(escaped) !== -1) {\n        on_load()\n        continue;\n      }\n      const element = document.createElement(\"link\");\n      element.onload = on_load;\n      element.onerror = on_error;\n      element.rel = \"stylesheet\";\n      element.type = \"text/css\";\n      element.href = url;\n      console.debug(\"Bokeh: injecting link tag for BokehJS stylesheet: \", url);\n      document.body.appendChild(element);\n    }    var existing_scripts = []\n    const scripts = document.getElementsByTagName('script')\n    for (let i = 0; i < scripts.length; i++) {\n      var script = scripts[i]\n      if (script.src != null) {\n        existing_scripts.push(script.src)\n      }\n    }\n    for (let i = 0; i < js_urls.length; i++) {\n      const url = js_urls[i];\n      const escaped = encodeURI(url)\n      if (skip.indexOf(escaped) !== -1 || existing_scripts.indexOf(escaped) !== -1) {\n        if (!window.requirejs) {\n          on_load();\n        }\n        continue;\n      }\n      const element = document.createElement('script');\n      element.onload = on_load;\n      element.onerror = on_error;\n      element.async = false;\n      element.src = url;\n      console.debug(\"Bokeh: injecting script tag for BokehJS library: \", url);\n      document.head.appendChild(element);\n    }\n    for (let i = 0; i < js_modules.length; i++) {\n      const url = js_modules[i];\n      const escaped = encodeURI(url)\n      if (skip.indexOf(escaped) !== -1 || existing_scripts.indexOf(escaped) !== -1) {\n        if (!window.requirejs) {\n          on_load();\n        }\n        continue;\n      }\n      var element = document.createElement('script');\n      element.onload = on_load;\n      element.onerror = on_error;\n      element.async = false;\n      element.src = url;\n      element.type = \"module\";\n      console.debug(\"Bokeh: injecting script tag for BokehJS library: \", url);\n      document.head.appendChild(element);\n    }\n    for (const name in js_exports) {\n      const url = js_exports[name];\n      const escaped = encodeURI(url)\n      if (skip.indexOf(escaped) >= 0 || root[name] != null) {\n        if (!window.requirejs) {\n          on_load();\n        }\n        continue;\n      }\n      var element = document.createElement('script');\n      element.onerror = on_error;\n      element.async = false;\n      element.type = \"module\";\n      console.debug(\"Bokeh: injecting script tag for BokehJS library: \", url);\n      element.textContent = `\n      import ${name} from \"${url}\"\n      window.${name} = ${name}\n      window._bokeh_on_load()\n      `\n      document.head.appendChild(element);\n    }\n    if (!js_urls.length && !js_modules.length) {\n      on_load()\n    }\n  };\n\n  function inject_raw_css(css) {\n    const element = document.createElement(\"style\");\n    element.appendChild(document.createTextNode(css));\n    document.body.appendChild(element);\n  }\n\n  const js_urls = [\"https://cdn.holoviz.org/panel/1.7.1/dist/bundled/reactiveesm/es-module-shims@^1.10.0/dist/es-module-shims.min.js\", \"https://cdn.bokeh.org/bokeh/release/bokeh-3.7.3.min.js\", \"https://cdn.bokeh.org/bokeh/release/bokeh-gl-3.7.3.min.js\", \"https://cdn.bokeh.org/bokeh/release/bokeh-widgets-3.7.3.min.js\", \"https://cdn.bokeh.org/bokeh/release/bokeh-tables-3.7.3.min.js\", \"https://cdn.holoviz.org/panel/1.7.1/dist/panel.min.js\"];\n  const js_modules = [];\n  const js_exports = {};\n  const css_urls = [];\n  const inline_js = [    function(Bokeh) {\n      Bokeh.set_log_level(\"info\");\n    },\nfunction(Bokeh) {} // ensure no trailing comma for IE\n  ];\n\n  function run_inline_js() {\n    if ((root.Bokeh !== undefined) || (force === true)) {\n      for (let i = 0; i < inline_js.length; i++) {\n        try {\n          inline_js[i].call(root, root.Bokeh);\n        } catch(e) {\n          if (!reloading) {\n            throw e;\n          }\n        }\n      }\n      // Cache old bokeh versions\n      if (Bokeh != undefined && !reloading) {\n        var NewBokeh = root.Bokeh;\n        if (Bokeh.versions === undefined) {\n          Bokeh.versions = new Map();\n        }\n        if (NewBokeh.version !== Bokeh.version) {\n          Bokeh.versions.set(NewBokeh.version, NewBokeh)\n        }\n        root.Bokeh = Bokeh;\n      }\n    } else if (Date.now() < root._bokeh_timeout) {\n      setTimeout(run_inline_js, 100);\n    } else if (!root._bokeh_failed_load) {\n      console.log(\"Bokeh: BokehJS failed to load within specified timeout.\");\n      root._bokeh_failed_load = true;\n    }\n    root._bokeh_is_initializing = false\n  }\n\n  function load_or_wait() {\n    // Implement a backoff loop that tries to ensure we do not load multiple\n    // versions of Bokeh and its dependencies at the same time.\n    // In recent versions we use the root._bokeh_is_initializing flag\n    // to determine whether there is an ongoing attempt to initialize\n    // bokeh, however for backward compatibility we also try to ensure\n    // that we do not start loading a newer (Panel>=1.0 and Bokeh>3) version\n    // before older versions are fully initialized.\n    if (root._bokeh_is_initializing && Date.now() > root._bokeh_timeout) {\n      // If the timeout and bokeh was not successfully loaded we reset\n      // everything and try loading again\n      root._bokeh_timeout = Date.now() + 5000;\n      root._bokeh_is_initializing = false;\n      root._bokeh_onload_callbacks = undefined;\n      root._bokeh_is_loading = 0\n      console.log(\"Bokeh: BokehJS was loaded multiple times but one version failed to initialize.\");\n      load_or_wait();\n    } else if (root._bokeh_is_initializing || (typeof root._bokeh_is_initializing === \"undefined\" && root._bokeh_onload_callbacks !== undefined)) {\n      setTimeout(load_or_wait, 100);\n    } else {\n      root._bokeh_is_initializing = true\n      root._bokeh_onload_callbacks = []\n      const bokeh_loaded = root.Bokeh != null && (root.Bokeh.version === py_version || (root.Bokeh.versions !== undefined && root.Bokeh.versions.has(py_version)));\n      if (!reloading && !bokeh_loaded) {\n        if (root.Bokeh) {\n          root.Bokeh = undefined;\n        }\n        console.debug(\"Bokeh: BokehJS not loaded, scheduling load and callback at\", now());\n      }\n      load_libs(css_urls, js_urls, js_modules, js_exports, function() {\n        console.debug(\"Bokeh: BokehJS plotting callback run at\", now());\n        run_inline_js();\n      });\n    }\n  }\n  // Give older versions of the autoload script a head-start to ensure\n  // they initialize before we start loading newer version.\n  setTimeout(load_or_wait, 100)\n}(window));",
      "application/vnd.holoviews_load.v0+json": ""
     },
     "metadata": {},
     "output_type": "display_data"
    },
    {
     "data": {
      "application/javascript": "\nif ((window.PyViz === undefined) || (window.PyViz instanceof HTMLElement)) {\n  window.PyViz = {comms: {}, comm_status:{}, kernels:{}, receivers: {}, plot_index: []}\n}\n\n\n    function JupyterCommManager() {\n    }\n\n    JupyterCommManager.prototype.register_target = function(plot_id, comm_id, msg_handler) {\n      if (window.comm_manager || ((window.Jupyter !== undefined) && (Jupyter.notebook.kernel != null))) {\n        var comm_manager = window.comm_manager || Jupyter.notebook.kernel.comm_manager;\n        comm_manager.register_target(comm_id, function(comm) {\n          comm.on_msg(msg_handler);\n        });\n      } else if ((plot_id in window.PyViz.kernels) && (window.PyViz.kernels[plot_id])) {\n        window.PyViz.kernels[plot_id].registerCommTarget(comm_id, function(comm) {\n          comm.onMsg = msg_handler;\n        });\n      } else if (typeof google != 'undefined' && google.colab.kernel != null) {\n        google.colab.kernel.comms.registerTarget(comm_id, (comm) => {\n          var messages = comm.messages[Symbol.asyncIterator]();\n          function processIteratorResult(result) {\n            var message = result.value;\n            var content = {data: message.data, comm_id};\n            var buffers = []\n            for (var buffer of message.buffers || []) {\n              buffers.push(new DataView(buffer))\n            }\n            var metadata = message.metadata || {};\n            var msg = {content, buffers, metadata}\n            msg_handler(msg);\n            return messages.next().then(processIteratorResult);\n          }\n          return messages.next().then(processIteratorResult);\n        })\n      }\n    }\n\n    JupyterCommManager.prototype.get_client_comm = function(plot_id, comm_id, msg_handler) {\n      if (comm_id in window.PyViz.comms) {\n        return window.PyViz.comms[comm_id];\n      } else if (window.comm_manager || ((window.Jupyter !== undefined) && (Jupyter.notebook.kernel != null))) {\n        var comm_manager = window.comm_manager || Jupyter.notebook.kernel.comm_manager;\n        var comm = comm_manager.new_comm(comm_id, {}, {}, {}, comm_id);\n        if (msg_handler) {\n          comm.on_msg(msg_handler);\n        }\n      } else if ((plot_id in window.PyViz.kernels) && (window.PyViz.kernels[plot_id])) {\n        var comm = window.PyViz.kernels[plot_id].connectToComm(comm_id);\n        let retries = 0;\n        const open = () => {\n          if (comm.active) {\n            comm.open();\n          } else if (retries > 3) {\n            console.warn('Comm target never activated')\n          } else {\n            retries += 1\n            setTimeout(open, 500)\n          }\n        }\n        if (comm.active) {\n          comm.open();\n        } else {\n          setTimeout(open, 500)\n        }\n        if (msg_handler) {\n          comm.onMsg = msg_handler;\n        }\n      } else if (typeof google != 'undefined' && google.colab.kernel != null) {\n        var comm_promise = google.colab.kernel.comms.open(comm_id)\n        comm_promise.then((comm) => {\n          window.PyViz.comms[comm_id] = comm;\n          if (msg_handler) {\n            var messages = comm.messages[Symbol.asyncIterator]();\n            function processIteratorResult(result) {\n              var message = result.value;\n              var content = {data: message.data};\n              var metadata = message.metadata || {comm_id};\n              var msg = {content, metadata}\n              msg_handler(msg);\n              return messages.next().then(processIteratorResult);\n            }\n            return messages.next().then(processIteratorResult);\n          }\n        })\n        var sendClosure = (data, metadata, buffers, disposeOnDone) => {\n          return comm_promise.then((comm) => {\n            comm.send(data, metadata, buffers, disposeOnDone);\n          });\n        };\n        var comm = {\n          send: sendClosure\n        };\n      }\n      window.PyViz.comms[comm_id] = comm;\n      return comm;\n    }\n    window.PyViz.comm_manager = new JupyterCommManager();\n    \n\n\nvar JS_MIME_TYPE = 'application/javascript';\nvar HTML_MIME_TYPE = 'text/html';\nvar EXEC_MIME_TYPE = 'application/vnd.holoviews_exec.v0+json';\nvar CLASS_NAME = 'output';\n\n/**\n * Render data to the DOM node\n */\nfunction render(props, node) {\n  var div = document.createElement(\"div\");\n  var script = document.createElement(\"script\");\n  node.appendChild(div);\n  node.appendChild(script);\n}\n\n/**\n * Handle when a new output is added\n */\nfunction handle_add_output(event, handle) {\n  var output_area = handle.output_area;\n  var output = handle.output;\n  if ((output.data == undefined) || (!output.data.hasOwnProperty(EXEC_MIME_TYPE))) {\n    return\n  }\n  var id = output.metadata[EXEC_MIME_TYPE][\"id\"];\n  var toinsert = output_area.element.find(\".\" + CLASS_NAME.split(' ')[0]);\n  if (id !== undefined) {\n    var nchildren = toinsert.length;\n    var html_node = toinsert[nchildren-1].children[0];\n    html_node.innerHTML = output.data[HTML_MIME_TYPE];\n    var scripts = [];\n    var nodelist = html_node.querySelectorAll(\"script\");\n    for (var i in nodelist) {\n      if (nodelist.hasOwnProperty(i)) {\n        scripts.push(nodelist[i])\n      }\n    }\n\n    scripts.forEach( function (oldScript) {\n      var newScript = document.createElement(\"script\");\n      var attrs = [];\n      var nodemap = oldScript.attributes;\n      for (var j in nodemap) {\n        if (nodemap.hasOwnProperty(j)) {\n          attrs.push(nodemap[j])\n        }\n      }\n      attrs.forEach(function(attr) { newScript.setAttribute(attr.name, attr.value) });\n      newScript.appendChild(document.createTextNode(oldScript.innerHTML));\n      oldScript.parentNode.replaceChild(newScript, oldScript);\n    });\n    if (JS_MIME_TYPE in output.data) {\n      toinsert[nchildren-1].children[1].textContent = output.data[JS_MIME_TYPE];\n    }\n    output_area._hv_plot_id = id;\n    if ((window.Bokeh !== undefined) && (id in Bokeh.index)) {\n      window.PyViz.plot_index[id] = Bokeh.index[id];\n    } else {\n      window.PyViz.plot_index[id] = null;\n    }\n  } else if (output.metadata[EXEC_MIME_TYPE][\"server_id\"] !== undefined) {\n    var bk_div = document.createElement(\"div\");\n    bk_div.innerHTML = output.data[HTML_MIME_TYPE];\n    var script_attrs = bk_div.children[0].attributes;\n    for (var i = 0; i < script_attrs.length; i++) {\n      toinsert[toinsert.length - 1].childNodes[1].setAttribute(script_attrs[i].name, script_attrs[i].value);\n    }\n    // store reference to server id on output_area\n    output_area._bokeh_server_id = output.metadata[EXEC_MIME_TYPE][\"server_id\"];\n  }\n}\n\n/**\n * Handle when an output is cleared or removed\n */\nfunction handle_clear_output(event, handle) {\n  var id = handle.cell.output_area._hv_plot_id;\n  var server_id = handle.cell.output_area._bokeh_server_id;\n  if (((id === undefined) || !(id in PyViz.plot_index)) && (server_id !== undefined)) { return; }\n  var comm = window.PyViz.comm_manager.get_client_comm(\"hv-extension-comm\", \"hv-extension-comm\", function () {});\n  if (server_id !== null) {\n    comm.send({event_type: 'server_delete', 'id': server_id});\n    return;\n  } else if (comm !== null) {\n    comm.send({event_type: 'delete', 'id': id});\n  }\n  delete PyViz.plot_index[id];\n  if ((window.Bokeh !== undefined) & (id in window.Bokeh.index)) {\n    var doc = window.Bokeh.index[id].model.document\n    doc.clear();\n    const i = window.Bokeh.documents.indexOf(doc);\n    if (i > -1) {\n      window.Bokeh.documents.splice(i, 1);\n    }\n  }\n}\n\n/**\n * Handle kernel restart event\n */\nfunction handle_kernel_cleanup(event, handle) {\n  delete PyViz.comms[\"hv-extension-comm\"];\n  window.PyViz.plot_index = {}\n}\n\n/**\n * Handle update_display_data messages\n */\nfunction handle_update_output(event, handle) {\n  handle_clear_output(event, {cell: {output_area: handle.output_area}})\n  handle_add_output(event, handle)\n}\n\nfunction register_renderer(events, OutputArea) {\n  function append_mime(data, metadata, element) {\n    // create a DOM node to render to\n    var toinsert = this.create_output_subarea(\n    metadata,\n    CLASS_NAME,\n    EXEC_MIME_TYPE\n    );\n    this.keyboard_manager.register_events(toinsert);\n    // Render to node\n    var props = {data: data, metadata: metadata[EXEC_MIME_TYPE]};\n    render(props, toinsert[0]);\n    element.append(toinsert);\n    return toinsert\n  }\n\n  events.on('output_added.OutputArea', handle_add_output);\n  events.on('output_updated.OutputArea', handle_update_output);\n  events.on('clear_output.CodeCell', handle_clear_output);\n  events.on('delete.Cell', handle_clear_output);\n  events.on('kernel_ready.Kernel', handle_kernel_cleanup);\n\n  OutputArea.prototype.register_mime_type(EXEC_MIME_TYPE, append_mime, {\n    safe: true,\n    index: 0\n  });\n}\n\nif (window.Jupyter !== undefined) {\n  try {\n    var events = require('base/js/events');\n    var OutputArea = require('notebook/js/outputarea').OutputArea;\n    if (OutputArea.prototype.mime_types().indexOf(EXEC_MIME_TYPE) == -1) {\n      register_renderer(events, OutputArea);\n    }\n  } catch(err) {\n  }\n}\n",
      "application/vnd.holoviews_load.v0+json": ""
     },
     "metadata": {},
     "output_type": "display_data"
    },
    {
     "data": {
      "application/vnd.holoviews_exec.v0+json": "",
      "text/html": [
       "<div id='bc32b7dd-f93c-4303-99ce-4b7de7279019'>\n",
       "  <div id=\"d1019acd-ef34-4b6e-b3a3-eb72c6785ac5\" data-root-id=\"bc32b7dd-f93c-4303-99ce-4b7de7279019\" style=\"display: contents;\"></div>\n",
       "</div>\n",
       "<script type=\"application/javascript\">(function(root) {\n",
       "  var docs_json = {\"af788c2d-42f5-4566-a307-367484de6766\":{\"version\":\"3.7.3\",\"title\":\"Bokeh Application\",\"roots\":[{\"type\":\"object\",\"name\":\"panel.models.browser.BrowserInfo\",\"id\":\"bc32b7dd-f93c-4303-99ce-4b7de7279019\"},{\"type\":\"object\",\"name\":\"panel.models.comm_manager.CommManager\",\"id\":\"83d6f733-9e84-45a0-bb87-449daa450d6e\",\"attributes\":{\"plot_id\":\"bc32b7dd-f93c-4303-99ce-4b7de7279019\",\"comm_id\":\"b8c10a817315418d9dc9fa51941b64f1\",\"client_comm_id\":\"b93afea490224fdd8cd7c406ec2e297a\"}}],\"defs\":[{\"type\":\"model\",\"name\":\"ReactiveHTML1\"},{\"type\":\"model\",\"name\":\"FlexBox1\",\"properties\":[{\"name\":\"align_content\",\"kind\":\"Any\",\"default\":\"flex-start\"},{\"name\":\"align_items\",\"kind\":\"Any\",\"default\":\"flex-start\"},{\"name\":\"flex_direction\",\"kind\":\"Any\",\"default\":\"row\"},{\"name\":\"flex_wrap\",\"kind\":\"Any\",\"default\":\"wrap\"},{\"name\":\"gap\",\"kind\":\"Any\",\"default\":\"\"},{\"name\":\"justify_content\",\"kind\":\"Any\",\"default\":\"flex-start\"}]},{\"type\":\"model\",\"name\":\"FloatPanel1\",\"properties\":[{\"name\":\"config\",\"kind\":\"Any\",\"default\":{\"type\":\"map\"}},{\"name\":\"contained\",\"kind\":\"Any\",\"default\":true},{\"name\":\"position\",\"kind\":\"Any\",\"default\":\"right-top\"},{\"name\":\"offsetx\",\"kind\":\"Any\",\"default\":null},{\"name\":\"offsety\",\"kind\":\"Any\",\"default\":null},{\"name\":\"theme\",\"kind\":\"Any\",\"default\":\"primary\"},{\"name\":\"status\",\"kind\":\"Any\",\"default\":\"normalized\"}]},{\"type\":\"model\",\"name\":\"GridStack1\",\"properties\":[{\"name\":\"ncols\",\"kind\":\"Any\",\"default\":null},{\"name\":\"nrows\",\"kind\":\"Any\",\"default\":null},{\"name\":\"allow_resize\",\"kind\":\"Any\",\"default\":true},{\"name\":\"allow_drag\",\"kind\":\"Any\",\"default\":true},{\"name\":\"state\",\"kind\":\"Any\",\"default\":[]}]},{\"type\":\"model\",\"name\":\"drag1\",\"properties\":[{\"name\":\"slider_width\",\"kind\":\"Any\",\"default\":5},{\"name\":\"slider_color\",\"kind\":\"Any\",\"default\":\"black\"},{\"name\":\"value\",\"kind\":\"Any\",\"default\":50}]},{\"type\":\"model\",\"name\":\"click1\",\"properties\":[{\"name\":\"terminal_output\",\"kind\":\"Any\",\"default\":\"\"},{\"name\":\"debug_name\",\"kind\":\"Any\",\"default\":\"\"},{\"name\":\"clears\",\"kind\":\"Any\",\"default\":0}]},{\"type\":\"model\",\"name\":\"FastWrapper1\",\"properties\":[{\"name\":\"object\",\"kind\":\"Any\",\"default\":null},{\"name\":\"style\",\"kind\":\"Any\",\"default\":null}]},{\"type\":\"model\",\"name\":\"NotificationArea1\",\"properties\":[{\"name\":\"js_events\",\"kind\":\"Any\",\"default\":{\"type\":\"map\"}},{\"name\":\"max_notifications\",\"kind\":\"Any\",\"default\":5},{\"name\":\"notifications\",\"kind\":\"Any\",\"default\":[]},{\"name\":\"position\",\"kind\":\"Any\",\"default\":\"bottom-right\"},{\"name\":\"_clear\",\"kind\":\"Any\",\"default\":0},{\"name\":\"types\",\"kind\":\"Any\",\"default\":[{\"type\":\"map\",\"entries\":[[\"type\",\"warning\"],[\"background\",\"#ffc107\"],[\"icon\",{\"type\":\"map\",\"entries\":[[\"className\",\"fas fa-exclamation-triangle\"],[\"tagName\",\"i\"],[\"color\",\"white\"]]}]]},{\"type\":\"map\",\"entries\":[[\"type\",\"info\"],[\"background\",\"#007bff\"],[\"icon\",{\"type\":\"map\",\"entries\":[[\"className\",\"fas fa-info-circle\"],[\"tagName\",\"i\"],[\"color\",\"white\"]]}]]}]}]},{\"type\":\"model\",\"name\":\"Notification\",\"properties\":[{\"name\":\"background\",\"kind\":\"Any\",\"default\":null},{\"name\":\"duration\",\"kind\":\"Any\",\"default\":3000},{\"name\":\"icon\",\"kind\":\"Any\",\"default\":null},{\"name\":\"message\",\"kind\":\"Any\",\"default\":\"\"},{\"name\":\"notification_type\",\"kind\":\"Any\",\"default\":null},{\"name\":\"_rendered\",\"kind\":\"Any\",\"default\":false},{\"name\":\"_destroyed\",\"kind\":\"Any\",\"default\":false}]},{\"type\":\"model\",\"name\":\"TemplateActions1\",\"properties\":[{\"name\":\"open_modal\",\"kind\":\"Any\",\"default\":0},{\"name\":\"close_modal\",\"kind\":\"Any\",\"default\":0}]},{\"type\":\"model\",\"name\":\"BootstrapTemplateActions1\",\"properties\":[{\"name\":\"open_modal\",\"kind\":\"Any\",\"default\":0},{\"name\":\"close_modal\",\"kind\":\"Any\",\"default\":0}]},{\"type\":\"model\",\"name\":\"TemplateEditor1\",\"properties\":[{\"name\":\"layout\",\"kind\":\"Any\",\"default\":[]}]},{\"type\":\"model\",\"name\":\"MaterialTemplateActions1\",\"properties\":[{\"name\":\"open_modal\",\"kind\":\"Any\",\"default\":0},{\"name\":\"close_modal\",\"kind\":\"Any\",\"default\":0}]},{\"type\":\"model\",\"name\":\"ReactiveESM1\",\"properties\":[{\"name\":\"esm_constants\",\"kind\":\"Any\",\"default\":{\"type\":\"map\"}}]},{\"type\":\"model\",\"name\":\"JSComponent1\",\"properties\":[{\"name\":\"esm_constants\",\"kind\":\"Any\",\"default\":{\"type\":\"map\"}}]},{\"type\":\"model\",\"name\":\"ReactComponent1\",\"properties\":[{\"name\":\"esm_constants\",\"kind\":\"Any\",\"default\":{\"type\":\"map\"}}]},{\"type\":\"model\",\"name\":\"AnyWidgetComponent1\",\"properties\":[{\"name\":\"esm_constants\",\"kind\":\"Any\",\"default\":{\"type\":\"map\"}}]},{\"type\":\"model\",\"name\":\"request_value1\",\"properties\":[{\"name\":\"fill\",\"kind\":\"Any\",\"default\":\"none\"},{\"name\":\"_synced\",\"kind\":\"Any\",\"default\":null},{\"name\":\"_request_sync\",\"kind\":\"Any\",\"default\":0}]}]}};\n",
       "  var render_items = [{\"docid\":\"af788c2d-42f5-4566-a307-367484de6766\",\"roots\":{\"bc32b7dd-f93c-4303-99ce-4b7de7279019\":\"d1019acd-ef34-4b6e-b3a3-eb72c6785ac5\"},\"root_ids\":[\"bc32b7dd-f93c-4303-99ce-4b7de7279019\"]}];\n",
       "  var docs = Object.values(docs_json)\n",
       "  if (!docs) {\n",
       "    return\n",
       "  }\n",
       "  const py_version = docs[0].version.replace('rc', '-rc.').replace('.dev', '-dev.')\n",
       "  async function embed_document(root) {\n",
       "    var Bokeh = get_bokeh(root)\n",
       "    await Bokeh.embed.embed_items_notebook(docs_json, render_items);\n",
       "    for (const render_item of render_items) {\n",
       "      for (const root_id of render_item.root_ids) {\n",
       "\tconst id_el = document.getElementById(root_id)\n",
       "\tif (id_el.children.length && id_el.children[0].hasAttribute('data-root-id')) {\n",
       "\t  const root_el = id_el.children[0]\n",
       "\t  root_el.id = root_el.id + '-rendered'\n",
       "\t  for (const child of root_el.children) {\n",
       "            // Ensure JupyterLab does not capture keyboard shortcuts\n",
       "            // see: https://jupyterlab.readthedocs.io/en/4.1.x/extension/notebook.html#keyboard-interaction-model\n",
       "\t    child.setAttribute('data-lm-suppress-shortcuts', 'true')\n",
       "\t  }\n",
       "\t}\n",
       "      }\n",
       "    }\n",
       "  }\n",
       "  function get_bokeh(root) {\n",
       "    if (root.Bokeh === undefined) {\n",
       "      return null\n",
       "    } else if (root.Bokeh.version !== py_version) {\n",
       "      if (root.Bokeh.versions === undefined || !root.Bokeh.versions.has(py_version)) {\n",
       "\treturn null\n",
       "      }\n",
       "      return root.Bokeh.versions.get(py_version);\n",
       "    } else if (root.Bokeh.version === py_version) {\n",
       "      return root.Bokeh\n",
       "    }\n",
       "    return null\n",
       "  }\n",
       "  function is_loaded(root) {\n",
       "    var Bokeh = get_bokeh(root)\n",
       "    return (Bokeh != null && Bokeh.Panel !== undefined)\n",
       "  }\n",
       "  if (is_loaded(root)) {\n",
       "    embed_document(root);\n",
       "  } else {\n",
       "    var attempts = 0;\n",
       "    var timer = setInterval(function(root) {\n",
       "      if (is_loaded(root)) {\n",
       "        clearInterval(timer);\n",
       "        embed_document(root);\n",
       "      } else if (document.readyState == \"complete\") {\n",
       "        attempts++;\n",
       "        if (attempts > 200) {\n",
       "          clearInterval(timer);\n",
       "\t  var Bokeh = get_bokeh(root)\n",
       "\t  if (Bokeh == null || Bokeh.Panel == null) {\n",
       "            console.warn(\"Panel: ERROR: Unable to run Panel code because Bokeh or Panel library is missing\");\n",
       "\t  } else {\n",
       "\t    console.warn(\"Panel: WARNING: Attempting to render but not all required libraries could be resolved.\")\n",
       "\t    embed_document(root)\n",
       "\t  }\n",
       "        }\n",
       "      }\n",
       "    }, 25, root)\n",
       "  }\n",
       "})(window);</script>"
      ]
     },
     "metadata": {
      "application/vnd.holoviews_exec.v0+json": {
       "id": "bc32b7dd-f93c-4303-99ce-4b7de7279019"
      }
     },
     "output_type": "display_data"
    },
    {
     "data": {
      "text/html": [
       "\n",
       "<div class=\"logo-block\">\n",
       "<img src='data:image/png;base64,iVBORw0KGgoAAAANSUhEUgAAAEAAAABACAYAAACqaXHeAAAABHNCSVQICAgIfAhkiAAAAAlwSFlz\n",
       "AAAB+wAAAfsBxc2miwAAABl0RVh0U29mdHdhcmUAd3d3Lmlua3NjYXBlLm9yZ5vuPBoAAA6zSURB\n",
       "VHic7ZtpeFRVmsf/5966taWqUlUJ2UioBBJiIBAwCZtog9IOgjqACsogKtqirT2ttt069nQ/zDzt\n",
       "tI4+CrJIREFaFgWhBXpUNhHZQoKBkIUASchWla1S+3ar7r1nPkDaCAnZKoQP/D7mnPOe9/xy76n3\n",
       "nFSAW9ziFoPFNED2LLK5wcyBDObkb8ZkxuaoSYlI6ZcOKq1eWFdedqNzGHQBk9RMEwFAASkk0Xw3\n",
       "ETacDNi2vtvc7L0ROdw0AjoSotQVkKSvHQz/wRO1lScGModBFbDMaNRN1A4tUBCS3lk7BWhQkgpD\n",
       "lG4852/+7DWr1R3uHAZVQDsbh6ZPN7CyxUrCzJMRouusj0ipRwD2uKm0Zn5d2dFwzX1TCGhnmdGo\n",
       "G62Nna+isiUqhkzuKrkQaJlPEv5mFl2fvGg2t/VnzkEV8F5ioioOEWkLG86fvbpthynjdhXYZziQ\n",
       "x1hC9J2NFyi8vCTt91Fh04KGip0AaG9zuCk2wQCVyoNU3Hjezee9bq92duzzTmxsRJoy+jEZZZYo\n",
       "GTKJ6SJngdJqAfRzpze0+jHreUtPc7gpBLQnIYK6BYp/uGhw9YK688eu7v95ysgshcg9qSLMo3JC\n",
       "4jqLKQFBgdKDPoQ+Pltb8dUyQLpeDjeVgI6EgLIQFT5tEl3rn2losHVsexbZ3EyT9wE1uGdkIPcy\n",
       "BGxn8QUq1QrA5nqW5i2tLqvrrM9NK6AdkVIvL9E9bZL/oyfMVd/jqvc8LylzRBKDJSzIExwhQzuL\n",
       "QYGQj4rHfFTc8mUdu3E7yoLtbTe9gI4EqVgVkug2i5+uXGo919ixbRog+3fTbQ8qJe4ZOYNfMoTI\n",
       "OoshUNosgO60AisX15aeI2PSIp5KiFLI9ubb1vV3Qb2ltwLakUCDAkWX7/nHKRmmGIl9VgYsUhJm\n",
       "2NXjKYADtM1ygne9QQDIXlk49FBstMKx66D1v4+XuQr7vqTe0VcBHQlRWiOCbmmSYe2SqtL6q5rJ\n",
       "zsTb7lKx3FKOYC4DoqyS/B5bvLPxvD9Qtf6saxYLQGJErmDOdOMr/zo96km1nElr8bmPOBwI9COv\n",
       "HnFPRIwmkSOv9kcAS4heRsidOkpeWBgZM+UBrTFAXNYL5Vf2ii9c1trNzpYdaoVil3WIc+wdk+gQ\n",
       "noie3ecCcxt9ITcLAPWt/laGEO/9U6PmzZkenTtsSMQ8uYywJVW+grCstAvCIaAdArAsIWkRDDs/\n",
       "KzLm2YcjY1Lv0UdW73HabE9n6V66cxSzfEmuJssTpKGVp+0vHq73FwL46eOjpMpbRAnNmJFrGJNu\n",
       "Ukf9Yrz+3rghiumCKNXXWPhLYcjxGsIpoCMsIRoFITkW8AuyM8jC1+/QLx4bozCEJIq38+1rtpR6\n",
       "V/yzb8eBlRb3fo5l783N0CWolAzJHaVNzkrTzlEp2bQ2q3TC5gn6wpnoQAmwSiGh2GitnTmVMc5O\n",
       "UyfKWUKCIsU7+fZDKwqdT6DDpvkzAX4/+AMFjk0tDp5GRXLpQ2MUmhgDp5gxQT8+Y7hyPsMi8uxF\n",
       "71H0oebujHALECjFKaW9Lm68n18wXp2kVzIcABytD5iXFzg+WVXkegpAsOOYziqo0OkK76GyquC3\n",
       "ltZAzMhhqlSNmmWTE5T6e3IN05ITFLM4GdN0vtZ3ob8Jh1NAKXFbm5PtLU/eqTSlGjkNAJjdgn/N\n",
       "aedXa0tdi7+t9G0FIF49rtMSEgAs1kDLkTPO7ebm4IUWeyh1bKomXqlgMG6kJmHcSM0clYLJ8XtR\n",
       "1GTnbV3F6I5wCGikAb402npp1h1s7LQUZZSMIfALFOuL3UUrfnS8+rez7v9qcold5tilgHbO1fjK\n",
       "9ubb17u9oshxzMiUBKXWqJNxd+fqb0tLVs4lILFnK71H0Ind7uiPgACVcFJlrb0tV6DzxqqTIhUM\n",
       "CwDf1/rrVhTa33/3pGPxJYdQ2l2cbgVcQSosdx8uqnDtbGjh9SlDVSMNWhlnilfqZk42Th2ZpLpf\n",
       "xrHec5e815zrr0dfBZSwzkZfqsv+1FS1KUknUwPARVvItfKUY+cn57yP7qv07UE3p8B2uhUwLk09\n",
       "e0SCOrK+hbdYHYLjRIl71wWzv9jpEoeOHhGRrJAzyEyNiJuUqX0g2sBN5kGK6y2Blp5M3lsB9Qh4\n",
       "y2Ja6x6+i0ucmKgwMATwhSjdUu49tKrQ/pvN5d53ml2CGwCmJipmKjgmyuaXzNeL2a0AkQ01Th5j\n",
       "2DktO3Jyk8f9vcOBQHV94OK+fPumJmvQHxJoWkaKWq9Vs+yUsbq0zGT1I4RgeH2b5wef7+c7bl8F\n",
       "eKgoHVVZa8ZPEORzR6sT1BzDUAD/d9F78e2Tzv99v8D+fLVTqAKAsbGamKey1Mt9Ann4eH3gTXTz\n",
       "idWtAJ8PQWOk7NzSeQn/OTHDuEikVF1R4z8BQCy+6D1aWRfY0tTGG2OM8rRoPaeIj5ZHzJxszElN\n",
       "VM8K8JS5WOfv8mzRnQAKoEhmt8gyPM4lU9SmBK1MCQBnW4KONT86v1hZ1PbwSXPw4JWussVjtH9Y\n",
       "NCoiL9UoH/6PSu8jFrfY2t36erQHXLIEakMi1SydmzB31h3GGXFDFNPaK8Rme9B79Ixrd0WN+1ij\n",
       "NRQ/doRmuFLBkHSTOm5GruG+pFjFdAmorG4IXH1Qua6ASniclfFtDYt+oUjKipPrCQB7QBQ2lrgP\n",
       "fFzm+9XWUtcqJ3/5vDLDpJ79XHZk3u8nGZ42qlj1+ydtbxysCezrydp6ugmipNJ7WBPB5tydY0jP\n",
       "HaVNzs3QzeE4ZpTbI+ZbnSFPbVOw9vsfnVvqWnirPyCNGD08IlqtYkh2hjZ5dErEQzoNm+6ykyOt\n",
       "Lt5/PQEuSRRKo22VkydK+vvS1XEKlhCJAnsqvcVvH7f/ZU2R67eXbMEGAMiIV5oWZWiWvz5Fv2xG\n",
       "sjqNJQRvn3Rs2lji/lNP19VjAQDgD7FHhujZB9OGqYxRkZxixgRDVlqS6uEOFaJUVu0rPFzctrnF\n",
       "JqijImVp8dEKVWyUXDk92zAuMZ6bFwpBU1HrOw6AdhQgUooChb0+ItMbWJitSo5Ws3IAOGEOtL53\n",
       "0vHZih9sC4vtofZ7Qu6523V/fmGcds1TY3V36pUsBwAbSlxnVh2xLfAD/IAIMDf7XYIkNmXfpp2l\n",
       "18rkAJAy9HKFaIr/qULkeQQKy9zf1JgDB2uaeFNGijo5QsUyacNUUTOnGO42xSnv4oOwpDi1zYkc\n",
       "efUc3I5Gk6PhyTuVKaOGyLUAYPGIoY9Pu/atL/L92+4q9wbflRJ2Trpm/jPjdBtfnqB/dIThcl8A\n",
       "KG7hbRuKnb8qsQsVvVlTrwQAQMUlf3kwJI24Z4JhPMtcfng5GcH49GsrxJpGvvHIaeem2ma+KSjQ\n",
       "lIwUdYyCY8j4dE1KzijNnIP2llF2wcXNnsoapw9XxsgYAl6k+KzUXbi2yP3KR2ecf6z3BFsBICdW\n",
       "nvnIaG3eHybqX7vbpEqUMT+9OL4Qpe8VON7dXuFd39v19FoAABRVePbGGuXTszO0P7tu6lghUonE\n",
       "llRdrhArLvmKdh9u29jcFiRRkfLUxBiFNiqSU9icoZQHo5mYBI1MBgBH6wMNb+U7Pnw337H4gi1Y\n",
       "ciWs+uks3Z9fztUvfzxTm9Ne8XXkvQLHNytOOZeiD4e0PgkAIAYCYknKUNUDSXEKzdWNpnil7r4p\n",
       "xqkjTarZMtk/K8TQ6Qve78qqvXurGwIJqcOUKfUWHsm8KGvxSP68YudXq4pcj39X49uOK2X142O0\n",
       "Tz5/u/7TVybqH0rSya6ZBwD21/gubbrgWdDgEOx9WUhfBaC2ibcEBYm7a7x+ukrBMNcEZggyR0TE\n",
       "T8zUPjikQ4VosQZbTpS4vqizBKvqmvjsqnpfzaZyx9JPiz1/bfGKdgD45XB1zoIMzYbfTdS/NClB\n",
       "Gct0USiY3YL/g0LHy/uq/Ef6uo5+n0R/vyhp17Klpge763f8rMu6YU/zrn2nml+2WtH+Z+5IAAFc\n",
       "2bUTdTDOSNa9+cQY7YLsOIXhevEkCvzph7a8laecz/Un/z4/Ae04XeL3UQb57IwU9ZDr9UuKVajv\n",
       "nxp1+1UVIo/LjztZkKH59fO3G/JemqCfmaCRqbqbd90ZZ8FfjtkfAyD0J/9+C2h1hDwsSxvGjNDc\n",
       "b4zk5NfrSwiQblLHzZhg+Jf4aPlUwpDqkQqa9nimbt1/TDH8OitGMaQnj+RJS6B1fbF7SY1TqO5v\n",
       "/v0WAADl1f7zokgS7s7VT2DZ7pegUjBM7mjtiDZbcN4j0YrHH0rXpCtY0qPX0cVL0rv5jv/ZXend\n",
       "0u/EESYBAFBU4T4Qa5TflZOhTe7pmKpaP8kCVUVw1+yhXfJWvn1P3hnXi33JsTN6PnP3hHZ8Z3/h\n",
       "aLHzmkNPuPj7Bc/F/Q38CwjTpSwQXgE4Vmwry9tpfq/ZFgqFMy4AVDtCvi8rvMvOmv0N4YwbVgEA\n",
       "sPM72/KVnzfspmH7HQGCRLG2yL1+z8XwvPcdCbsAANh+xPzstgMtxeGKt+6MK3/tacfvwhWvIwMi\n",
       "oKEBtm0H7W+UVfkc/Y1V0BhoPlDr/w1w/eu1vjIgAgDg22OtX6/eYfnEz/focrZTHAFR+PSs56/7\n",
       "q32nwpjazxgwAQCwcU/T62t3WL7r6/jVRa6/byp1rei+Z98ZUAEAhEPHPc8fKnTU9nbgtnOe8h0l\n",
       "9hcGIqmODLQAHCy2Xti6v/XNRivf43f4fFvIteu854+VHnR7q9tfBlwAAGz+pnndB9vM26UebAe8\n",
       "SLHujPOTPVW+rwY+sxskAAC2HrA8t2Vvc7ffP1r9o+vwR2dcr92InIAbKKC1FZ5tB1tf+/G8p8sv\n",
       "N/9Q5zd/XR34LYCwV5JdccMEAMDBk45DH243r/X4xGvqxFa/GNpS7n6rwOwNWwHVE26oAADYurf1\n",
       "zx/utOzt+DMKYM0p17YtZZ5VNzqfsB2HewG1WXE8PoZ7gOclbTIvynZf9JV+fqZtfgs/8F/Nu5rB\n",
       "EIBmJ+8QRMmpU7EzGRsf2FzuePqYRbzh/zE26EwdrT10f6r6o8HOYzCJB9Dpff8tbnGLG8L/A/WE\n",
       "roTBs2RqAAAAAElFTkSuQmCC'\n",
       "     style='height:25px; border-radius:12px; display: inline-block; float: left; vertical-align: middle'></img>\n",
       "\n",
       "\n",
       "  <img src='data:image/png;base64,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'\n",
       "       style='height:15px; border-radius:12px; display: inline-block; float: left'></img>\n",
       "  \n",
       "\n",
       "\n",
       "\n",
       "\n",
       "</div>\n"
      ]
     },
     "metadata": {},
     "output_type": "display_data"
    }
   ],
   "source": [
    "# Import Libraries\n",
    "import polars as pl\n",
    "import pandas as pd\n",
    "import numpy as np\n",
    "from sklearn.preprocessing import MinMaxScaler\n",
    "import numpy as np\n",
    "from bokeh.models import NumeralTickFormatter\n",
    "import holoviews as hv\n",
    "from sklearn.model_selection import train_test_split\n",
    "from numpy import log\n",
    "hv.extension('bokeh')"
   ]
  },
  {
   "cell_type": "code",
   "execution_count": 2,
   "id": "527ce4b4",
   "metadata": {},
   "outputs": [
    {
     "name": "stdout",
     "output_type": "stream",
     "text": [
      "The dataset contains 1460 rows and 81 columns\n"
     ]
    },
    {
     "data": {
      "text/html": [
       "<div><style>\n",
       ".dataframe > thead > tr,\n",
       ".dataframe > tbody > tr {\n",
       "  text-align: right;\n",
       "  white-space: pre-wrap;\n",
       "}\n",
       "</style>\n",
       "<small>shape: (5, 81)</small><table border=\"1\" class=\"dataframe\"><thead><tr><th>Id</th><th>MSSubClass</th><th>MSZoning</th><th>LotFrontage</th><th>LotArea</th><th>Street</th><th>Alley</th><th>LotShape</th><th>LandContour</th><th>Utilities</th><th>LotConfig</th><th>LandSlope</th><th>Neighborhood</th><th>Condition1</th><th>Condition2</th><th>BldgType</th><th>HouseStyle</th><th>OverallQual</th><th>OverallCond</th><th>YearBuilt</th><th>YearRemodAdd</th><th>RoofStyle</th><th>RoofMatl</th><th>Exterior1st</th><th>Exterior2nd</th><th>MasVnrType</th><th>MasVnrArea</th><th>ExterQual</th><th>ExterCond</th><th>Foundation</th><th>BsmtQual</th><th>BsmtCond</th><th>BsmtExposure</th><th>BsmtFinType1</th><th>BsmtFinSF1</th><th>BsmtFinType2</th><th>BsmtFinSF2</th><th>&hellip;</th><th>2ndFlrSF</th><th>LowQualFinSF</th><th>GrLivArea</th><th>BsmtFullBath</th><th>BsmtHalfBath</th><th>FullBath</th><th>HalfBath</th><th>BedroomAbvGr</th><th>KitchenAbvGr</th><th>KitchenQual</th><th>TotRmsAbvGrd</th><th>Functional</th><th>Fireplaces</th><th>FireplaceQu</th><th>GarageType</th><th>GarageYrBlt</th><th>GarageFinish</th><th>GarageCars</th><th>GarageArea</th><th>GarageQual</th><th>GarageCond</th><th>PavedDrive</th><th>WoodDeckSF</th><th>OpenPorchSF</th><th>EnclosedPorch</th><th>3SsnPorch</th><th>ScreenPorch</th><th>PoolArea</th><th>PoolQC</th><th>Fence</th><th>MiscFeature</th><th>MiscVal</th><th>MoSold</th><th>YrSold</th><th>SaleType</th><th>SaleCondition</th><th>SalePrice</th></tr><tr><td>i64</td><td>i64</td><td>str</td><td>i64</td><td>i64</td><td>str</td><td>str</td><td>str</td><td>str</td><td>str</td><td>str</td><td>str</td><td>str</td><td>str</td><td>str</td><td>str</td><td>str</td><td>i64</td><td>i64</td><td>i64</td><td>i64</td><td>str</td><td>str</td><td>str</td><td>str</td><td>str</td><td>i64</td><td>str</td><td>str</td><td>str</td><td>str</td><td>str</td><td>str</td><td>str</td><td>i64</td><td>str</td><td>i64</td><td>&hellip;</td><td>i64</td><td>i64</td><td>i64</td><td>i64</td><td>i64</td><td>i64</td><td>i64</td><td>i64</td><td>i64</td><td>str</td><td>i64</td><td>str</td><td>i64</td><td>str</td><td>str</td><td>i64</td><td>str</td><td>i64</td><td>i64</td><td>str</td><td>str</td><td>str</td><td>i64</td><td>i64</td><td>i64</td><td>i64</td><td>i64</td><td>i64</td><td>str</td><td>str</td><td>str</td><td>i64</td><td>i64</td><td>i64</td><td>str</td><td>str</td><td>i64</td></tr></thead><tbody><tr><td>1</td><td>60</td><td>&quot;RL&quot;</td><td>65</td><td>8450</td><td>&quot;Pave&quot;</td><td>null</td><td>&quot;Reg&quot;</td><td>&quot;Lvl&quot;</td><td>&quot;AllPub&quot;</td><td>&quot;Inside&quot;</td><td>&quot;Gtl&quot;</td><td>&quot;CollgCr&quot;</td><td>&quot;Norm&quot;</td><td>&quot;Norm&quot;</td><td>&quot;1Fam&quot;</td><td>&quot;2Story&quot;</td><td>7</td><td>5</td><td>2003</td><td>2003</td><td>&quot;Gable&quot;</td><td>&quot;CompShg&quot;</td><td>&quot;VinylSd&quot;</td><td>&quot;VinylSd&quot;</td><td>&quot;BrkFace&quot;</td><td>196</td><td>&quot;Gd&quot;</td><td>&quot;TA&quot;</td><td>&quot;PConc&quot;</td><td>&quot;Gd&quot;</td><td>&quot;TA&quot;</td><td>&quot;No&quot;</td><td>&quot;GLQ&quot;</td><td>706</td><td>&quot;Unf&quot;</td><td>0</td><td>&hellip;</td><td>854</td><td>0</td><td>1710</td><td>1</td><td>0</td><td>2</td><td>1</td><td>3</td><td>1</td><td>&quot;Gd&quot;</td><td>8</td><td>&quot;Typ&quot;</td><td>0</td><td>null</td><td>&quot;Attchd&quot;</td><td>2003</td><td>&quot;RFn&quot;</td><td>2</td><td>548</td><td>&quot;TA&quot;</td><td>&quot;TA&quot;</td><td>&quot;Y&quot;</td><td>0</td><td>61</td><td>0</td><td>0</td><td>0</td><td>0</td><td>null</td><td>null</td><td>null</td><td>0</td><td>2</td><td>2008</td><td>&quot;WD&quot;</td><td>&quot;Normal&quot;</td><td>208500</td></tr><tr><td>2</td><td>20</td><td>&quot;RL&quot;</td><td>80</td><td>9600</td><td>&quot;Pave&quot;</td><td>null</td><td>&quot;Reg&quot;</td><td>&quot;Lvl&quot;</td><td>&quot;AllPub&quot;</td><td>&quot;FR2&quot;</td><td>&quot;Gtl&quot;</td><td>&quot;Veenker&quot;</td><td>&quot;Feedr&quot;</td><td>&quot;Norm&quot;</td><td>&quot;1Fam&quot;</td><td>&quot;1Story&quot;</td><td>6</td><td>8</td><td>1976</td><td>1976</td><td>&quot;Gable&quot;</td><td>&quot;CompShg&quot;</td><td>&quot;MetalSd&quot;</td><td>&quot;MetalSd&quot;</td><td>&quot;None&quot;</td><td>0</td><td>&quot;TA&quot;</td><td>&quot;TA&quot;</td><td>&quot;CBlock&quot;</td><td>&quot;Gd&quot;</td><td>&quot;TA&quot;</td><td>&quot;Gd&quot;</td><td>&quot;ALQ&quot;</td><td>978</td><td>&quot;Unf&quot;</td><td>0</td><td>&hellip;</td><td>0</td><td>0</td><td>1262</td><td>0</td><td>1</td><td>2</td><td>0</td><td>3</td><td>1</td><td>&quot;TA&quot;</td><td>6</td><td>&quot;Typ&quot;</td><td>1</td><td>&quot;TA&quot;</td><td>&quot;Attchd&quot;</td><td>1976</td><td>&quot;RFn&quot;</td><td>2</td><td>460</td><td>&quot;TA&quot;</td><td>&quot;TA&quot;</td><td>&quot;Y&quot;</td><td>298</td><td>0</td><td>0</td><td>0</td><td>0</td><td>0</td><td>null</td><td>null</td><td>null</td><td>0</td><td>5</td><td>2007</td><td>&quot;WD&quot;</td><td>&quot;Normal&quot;</td><td>181500</td></tr><tr><td>3</td><td>60</td><td>&quot;RL&quot;</td><td>68</td><td>11250</td><td>&quot;Pave&quot;</td><td>null</td><td>&quot;IR1&quot;</td><td>&quot;Lvl&quot;</td><td>&quot;AllPub&quot;</td><td>&quot;Inside&quot;</td><td>&quot;Gtl&quot;</td><td>&quot;CollgCr&quot;</td><td>&quot;Norm&quot;</td><td>&quot;Norm&quot;</td><td>&quot;1Fam&quot;</td><td>&quot;2Story&quot;</td><td>7</td><td>5</td><td>2001</td><td>2002</td><td>&quot;Gable&quot;</td><td>&quot;CompShg&quot;</td><td>&quot;VinylSd&quot;</td><td>&quot;VinylSd&quot;</td><td>&quot;BrkFace&quot;</td><td>162</td><td>&quot;Gd&quot;</td><td>&quot;TA&quot;</td><td>&quot;PConc&quot;</td><td>&quot;Gd&quot;</td><td>&quot;TA&quot;</td><td>&quot;Mn&quot;</td><td>&quot;GLQ&quot;</td><td>486</td><td>&quot;Unf&quot;</td><td>0</td><td>&hellip;</td><td>866</td><td>0</td><td>1786</td><td>1</td><td>0</td><td>2</td><td>1</td><td>3</td><td>1</td><td>&quot;Gd&quot;</td><td>6</td><td>&quot;Typ&quot;</td><td>1</td><td>&quot;TA&quot;</td><td>&quot;Attchd&quot;</td><td>2001</td><td>&quot;RFn&quot;</td><td>2</td><td>608</td><td>&quot;TA&quot;</td><td>&quot;TA&quot;</td><td>&quot;Y&quot;</td><td>0</td><td>42</td><td>0</td><td>0</td><td>0</td><td>0</td><td>null</td><td>null</td><td>null</td><td>0</td><td>9</td><td>2008</td><td>&quot;WD&quot;</td><td>&quot;Normal&quot;</td><td>223500</td></tr><tr><td>4</td><td>70</td><td>&quot;RL&quot;</td><td>60</td><td>9550</td><td>&quot;Pave&quot;</td><td>null</td><td>&quot;IR1&quot;</td><td>&quot;Lvl&quot;</td><td>&quot;AllPub&quot;</td><td>&quot;Corner&quot;</td><td>&quot;Gtl&quot;</td><td>&quot;Crawfor&quot;</td><td>&quot;Norm&quot;</td><td>&quot;Norm&quot;</td><td>&quot;1Fam&quot;</td><td>&quot;2Story&quot;</td><td>7</td><td>5</td><td>1915</td><td>1970</td><td>&quot;Gable&quot;</td><td>&quot;CompShg&quot;</td><td>&quot;Wd Sdng&quot;</td><td>&quot;Wd Shng&quot;</td><td>&quot;None&quot;</td><td>0</td><td>&quot;TA&quot;</td><td>&quot;TA&quot;</td><td>&quot;BrkTil&quot;</td><td>&quot;TA&quot;</td><td>&quot;Gd&quot;</td><td>&quot;No&quot;</td><td>&quot;ALQ&quot;</td><td>216</td><td>&quot;Unf&quot;</td><td>0</td><td>&hellip;</td><td>756</td><td>0</td><td>1717</td><td>1</td><td>0</td><td>1</td><td>0</td><td>3</td><td>1</td><td>&quot;Gd&quot;</td><td>7</td><td>&quot;Typ&quot;</td><td>1</td><td>&quot;Gd&quot;</td><td>&quot;Detchd&quot;</td><td>1998</td><td>&quot;Unf&quot;</td><td>3</td><td>642</td><td>&quot;TA&quot;</td><td>&quot;TA&quot;</td><td>&quot;Y&quot;</td><td>0</td><td>35</td><td>272</td><td>0</td><td>0</td><td>0</td><td>null</td><td>null</td><td>null</td><td>0</td><td>2</td><td>2006</td><td>&quot;WD&quot;</td><td>&quot;Abnorml&quot;</td><td>140000</td></tr><tr><td>5</td><td>60</td><td>&quot;RL&quot;</td><td>84</td><td>14260</td><td>&quot;Pave&quot;</td><td>null</td><td>&quot;IR1&quot;</td><td>&quot;Lvl&quot;</td><td>&quot;AllPub&quot;</td><td>&quot;FR2&quot;</td><td>&quot;Gtl&quot;</td><td>&quot;NoRidge&quot;</td><td>&quot;Norm&quot;</td><td>&quot;Norm&quot;</td><td>&quot;1Fam&quot;</td><td>&quot;2Story&quot;</td><td>8</td><td>5</td><td>2000</td><td>2000</td><td>&quot;Gable&quot;</td><td>&quot;CompShg&quot;</td><td>&quot;VinylSd&quot;</td><td>&quot;VinylSd&quot;</td><td>&quot;BrkFace&quot;</td><td>350</td><td>&quot;Gd&quot;</td><td>&quot;TA&quot;</td><td>&quot;PConc&quot;</td><td>&quot;Gd&quot;</td><td>&quot;TA&quot;</td><td>&quot;Av&quot;</td><td>&quot;GLQ&quot;</td><td>655</td><td>&quot;Unf&quot;</td><td>0</td><td>&hellip;</td><td>1053</td><td>0</td><td>2198</td><td>1</td><td>0</td><td>2</td><td>1</td><td>4</td><td>1</td><td>&quot;Gd&quot;</td><td>9</td><td>&quot;Typ&quot;</td><td>1</td><td>&quot;TA&quot;</td><td>&quot;Attchd&quot;</td><td>2000</td><td>&quot;RFn&quot;</td><td>3</td><td>836</td><td>&quot;TA&quot;</td><td>&quot;TA&quot;</td><td>&quot;Y&quot;</td><td>192</td><td>84</td><td>0</td><td>0</td><td>0</td><td>0</td><td>null</td><td>null</td><td>null</td><td>0</td><td>12</td><td>2008</td><td>&quot;WD&quot;</td><td>&quot;Normal&quot;</td><td>250000</td></tr></tbody></table></div>"
      ],
      "text/plain": [
       "shape: (5, 81)\n",
       "┌─────┬────────────┬──────────┬─────────────┬───┬────────┬──────────┬───────────────┬───────────┐\n",
       "│ Id  ┆ MSSubClass ┆ MSZoning ┆ LotFrontage ┆ … ┆ YrSold ┆ SaleType ┆ SaleCondition ┆ SalePrice │\n",
       "│ --- ┆ ---        ┆ ---      ┆ ---         ┆   ┆ ---    ┆ ---      ┆ ---           ┆ ---       │\n",
       "│ i64 ┆ i64        ┆ str      ┆ i64         ┆   ┆ i64    ┆ str      ┆ str           ┆ i64       │\n",
       "╞═════╪════════════╪══════════╪═════════════╪═══╪════════╪══════════╪═══════════════╪═══════════╡\n",
       "│ 1   ┆ 60         ┆ RL       ┆ 65          ┆ … ┆ 2008   ┆ WD       ┆ Normal        ┆ 208500    │\n",
       "│ 2   ┆ 20         ┆ RL       ┆ 80          ┆ … ┆ 2007   ┆ WD       ┆ Normal        ┆ 181500    │\n",
       "│ 3   ┆ 60         ┆ RL       ┆ 68          ┆ … ┆ 2008   ┆ WD       ┆ Normal        ┆ 223500    │\n",
       "│ 4   ┆ 70         ┆ RL       ┆ 60          ┆ … ┆ 2006   ┆ WD       ┆ Abnorml       ┆ 140000    │\n",
       "│ 5   ┆ 60         ┆ RL       ┆ 84          ┆ … ┆ 2008   ┆ WD       ┆ Normal        ┆ 250000    │\n",
       "└─────┴────────────┴──────────┴─────────────┴───┴────────┴──────────┴───────────────┴───────────┘"
      ]
     },
     "execution_count": 2,
     "metadata": {},
     "output_type": "execute_result"
    }
   ],
   "source": [
    "# Load the dataset, handle missing values and get basic information\n",
    "data = pl.read_csv('data/train.csv', null_values=\"NA\")\n",
    "print(f'The dataset contains {data.shape[0]} rows and {data.shape[1]} columns')\n",
    "data.head()"
   ]
  },
  {
   "cell_type": "markdown",
   "id": "6e4a4029",
   "metadata": {},
   "source": [
    "###  Missing Values"
   ]
  },
  {
   "cell_type": "code",
   "execution_count": 3,
   "id": "e661ce5e",
   "metadata": {},
   "outputs": [
    {
     "name": "stdout",
     "output_type": "stream",
     "text": [
      "Missing Data - Categorical Columns\n",
      "We have 5 of columns with more than 10% data and 38 of columns with less than 10%\n"
     ]
    }
   ],
   "source": [
    "# We start the missing value process by the categorical data\n",
    "print('Missing Data - Categorical Columns')\n",
    "categorical_features = data.select(pl.col(pl.String)).columns\n",
    "\n",
    "# First we find which columns have more or less than 10% missing data. \n",
    "lot_missing_data = [column for column in categorical_features if data.select(pl.col(column).is_null().sum()).item() / data.height > 0.1]\n",
    "few_missing_data = [column for column in categorical_features if data.select(pl.col(column).is_null().sum()).item() / data.height <= 0.1]\n",
    "print(f'We have {len(lot_missing_data)} of columns with more than 10% data and {len(few_missing_data)} of columns with less than 10%')\n",
    "\n",
    "# Ensure that all the categorical features are regarded as strings\n",
    "data = data.with_columns([pl.col(col).cast(pl.Utf8).alias(col) for col in categorical_features])"
   ]
  },
  {
   "cell_type": "code",
   "execution_count": 4,
   "id": "8dee4960",
   "metadata": {},
   "outputs": [
    {
     "name": "stdout",
     "output_type": "stream",
     "text": [
      "For the column MSZoning we have 0\n",
      "For the column Street we have 0\n",
      "For the column Alley we have 0\n",
      "For the column LotShape we have 0\n",
      "For the column LandContour we have 0\n",
      "For the column Utilities we have 0\n",
      "For the column LotConfig we have 0\n",
      "For the column LandSlope we have 0\n",
      "For the column Neighborhood we have 0\n",
      "For the column Condition1 we have 0\n",
      "For the column Condition2 we have 0\n",
      "For the column BldgType we have 0\n",
      "For the column HouseStyle we have 0\n",
      "For the column RoofStyle we have 0\n",
      "For the column RoofMatl we have 0\n",
      "For the column Exterior1st we have 0\n",
      "For the column Exterior2nd we have 0\n",
      "For the column MasVnrType we have 0\n",
      "For the column ExterQual we have 0\n",
      "For the column ExterCond we have 0\n",
      "For the column Foundation we have 0\n",
      "For the column BsmtQual we have 0\n",
      "For the column BsmtCond we have 0\n",
      "For the column BsmtExposure we have 0\n",
      "For the column BsmtFinType1 we have 0\n",
      "For the column BsmtFinType2 we have 0\n",
      "For the column Heating we have 0\n",
      "For the column HeatingQC we have 0\n",
      "For the column CentralAir we have 0\n",
      "For the column Electrical we have 0\n",
      "For the column KitchenQual we have 0\n",
      "For the column Functional we have 0\n",
      "For the column FireplaceQu we have 0\n",
      "For the column GarageType we have 0\n",
      "For the column GarageFinish we have 0\n",
      "For the column GarageQual we have 0\n",
      "For the column GarageCond we have 0\n",
      "For the column PavedDrive we have 0\n",
      "For the column PoolQC we have 0\n",
      "For the column Fence we have 0\n",
      "For the column MiscFeature we have 0\n",
      "For the column SaleType we have 0\n",
      "For the column SaleCondition we have 0\n"
     ]
    }
   ],
   "source": [
    "# For the columns that have >10% missing values we replace the NA or null with 'Missing'\n",
    "data = data.with_columns([\n",
    "    pl.col(column).cast(pl.Utf8).fill_null('Missing').alias(column)\n",
    "    for column in lot_missing_data\n",
    "])\n",
    "\n",
    "# For the columns that have <=10% missing values we are going to replace them with the most common value\n",
    "data = data.with_columns([\n",
    "    pl.col(column).cast(pl.Utf8).fill_null(data.select(pl.col(column).drop_nulls().mode()).item()).alias(column)\n",
    "    for column in few_missing_data\n",
    "])\n",
    "\n",
    "\n",
    "# Ensure that we have no null values\n",
    "for column in categorical_features:\n",
    "  print(f'For the column {column} we have {data.select(pl.col(column).is_null().sum()).item()}')"
   ]
  },
  {
   "cell_type": "code",
   "execution_count": 5,
   "id": "6bc0a881",
   "metadata": {},
   "outputs": [
    {
     "name": "stdout",
     "output_type": "stream",
     "text": [
      "Missing Data - Numerical Columns\n",
      "We have 1 of columns with more than 10% data and 36 of columns with less than 10%\n"
     ]
    }
   ],
   "source": [
    "# We follow the missing value process by the numerical data\n",
    "print('Missing Data - Numerical Columns')\n",
    "numerical_features = data.select(pl.col(pl.Int64)).columns\n",
    "numerical_features.remove('SalePrice')\n",
    "\n",
    "# First we find which columns have more or less than 10% missing data. \n",
    "lot_missing_data = [column for column in numerical_features if data.select(pl.col(column).is_null().sum()).item() / data.height > 0.1]\n",
    "few_missing_data = [column for column in numerical_features if data.select(pl.col(column).is_null().sum()).item() / data.height <= 0.1]\n",
    "print(f'We have {len(lot_missing_data)} of columns with more than 10% data and {len(few_missing_data)} of columns with less than 10%')\n",
    "\n",
    "# Ensure that all the categorical features are regarded as strings\n",
    "data = data.with_columns([pl.col(column).cast(pl.Utf8).alias(column) for column in numerical_features])"
   ]
  },
  {
   "cell_type": "markdown",
   "id": "990a784b",
   "metadata": {},
   "source": [
    "### Numerical variable transformation\n"
   ]
  },
  {
   "cell_type": "code",
   "execution_count": 6,
   "id": "061cd8cf",
   "metadata": {},
   "outputs": [],
   "source": [
    "# We know that the columns LotFrontage, 1stFlrSF, GrLivArea have a right skewed distribution\n",
    "log_columns = ['LotFrontage', '1stFlrSF', 'GrLivArea']\n",
    "data = data.with_columns([pl.col(column).cast(pl.Float64).fill_null(1.0).log().alias(column) for column in log_columns])"
   ]
  },
  {
   "cell_type": "markdown",
   "id": "61a82851",
   "metadata": {},
   "source": [
    "### Binarize skewed variables\n"
   ]
  },
  {
   "cell_type": "code",
   "execution_count": 7,
   "id": "10355d44",
   "metadata": {},
   "outputs": [],
   "source": [
    "# We know that the columns 'BsmtFinSF2', 'LowQualFinSF', 'EnclosedPorch', '3SsnPorch', 'ScreenPorch', 'MiscVal' have a skewed distribution\n",
    "binarised_columns = ['BsmtFinSF2', 'LowQualFinSF', 'EnclosedPorch', '3SsnPorch', 'ScreenPorch', 'MiscVal']\n",
    "data = data.with_columns([(pl.col(column).cast(pl.Float64).fill_null(0) > 0).cast(pl.Int8).alias(column) for column in binarised_columns])"
   ]
  },
  {
   "cell_type": "markdown",
   "id": "6e0fd245",
   "metadata": {},
   "source": [
    "### Categorical Variables Mapping"
   ]
  },
  {
   "cell_type": "code",
   "execution_count": 8,
   "id": "01e9257e",
   "metadata": {},
   "outputs": [],
   "source": [
    "# Map categorical values to numerical values for the quality related columns\n",
    "quality_mappings = {'Po': 1, 'Fa': 2, 'TA': 3, 'Gd': 4, 'Ex': 5, 'Missing': 0, 'NA': 0}\n",
    "quality_columns  = ['ExterQual', 'ExterCond', 'BsmtQual', 'BsmtCond', 'HeatingQC', 'KitchenQual', 'FireplaceQu', 'GarageQual', 'GarageCond']\n",
    "data = data.with_columns([pl.col(col).fill_null('Missing').replace(quality_mappings).cast(pl.Int8).alias(col) for col in quality_columns])"
   ]
  },
  {
   "cell_type": "code",
   "execution_count": 9,
   "id": "9a0d363b",
   "metadata": {},
   "outputs": [],
   "source": [
    "# Map categorical values to numerical values for the exposure column\n",
    "exposure_mappings = {'No': 1, 'Mn': 2, 'Av': 3, 'Gd': 4}\n",
    "exposure_column   = 'BsmtExposure'\n",
    "data = data.with_columns([pl.col(exposure_column).fill_null('Missing').replace(exposure_mappings).cast(pl.Int8).alias(exposure_column)])"
   ]
  },
  {
   "cell_type": "code",
   "execution_count": 10,
   "id": "5ef17e85",
   "metadata": {},
   "outputs": [],
   "source": [
    "# Map categorical values to numerical values for the finishing columns\n",
    "finish_mappings = {'Missing': 0, 'NA': 0, 'Unf': 1, 'LwQ': 2, 'Rec': 3, 'BLQ': 4, 'ALQ': 5, 'GLQ': 6}\n",
    "finish_columns = ['BsmtFinType1', 'BsmtFinType2']\n",
    "data = data.with_columns(pl.col(column).fill_null('Missing').replace(finish_mappings).cast(pl.Int8).alias(column) for column in finish_columns)"
   ]
  },
  {
   "cell_type": "code",
   "execution_count": 11,
   "id": "7e00f326",
   "metadata": {},
   "outputs": [],
   "source": [
    "# Map categorical values to numerical values for the garage column\n",
    "garage_mappings = {'Missing': 0, 'NA': 0, 'Unf': 1, 'RFn': 2, 'Fin': 3}\n",
    "garage_columns  = 'GarageFinish'\n",
    "data = data.with_columns(pl.col(garage_columns).fill_null('Missing').replace(garage_mappings).cast(pl.Int8).alias(garage_columns))"
   ]
  },
  {
   "cell_type": "code",
   "execution_count": 12,
   "id": "d3169152",
   "metadata": {},
   "outputs": [],
   "source": [
    "# Map categorical values to numerical values for the garage type column\n",
    "garage_type_mappings = {'2Types': 1, 'Detchd': 2, 'Attchd': 3, 'CarPort': 2, 'BuiltIn': 4, 'Basment': 5}\n",
    "garage_type_columns  = 'GarageType'\n",
    "data = data.with_columns(pl.col(garage_type_columns).fill_null('Missing').replace(garage_type_mappings).cast(pl.Int8).alias(garage_type_columns))"
   ]
  },
  {
   "cell_type": "code",
   "execution_count": 13,
   "id": "996d1ca8",
   "metadata": {},
   "outputs": [],
   "source": [
    "# Map categorical values to numerical values for the fence column\n",
    "fence_mappings = {'Missing': 0, 'NA': 0, 'MnWw': 1, 'GdWo': 2, 'MnPrv': 3, 'GdPrv': 4}\n",
    "fence_column  = 'Fence'\n",
    "data = data.with_columns(pl.col(fence_column).fill_null('Missing').replace(fence_mappings).cast(pl.Int8).alias(fence_column))"
   ]
  },
  {
   "cell_type": "code",
   "execution_count": 14,
   "id": "aba36f77",
   "metadata": {},
   "outputs": [],
   "source": [
    "# Map categorical values to numerical values for the zoning column\n",
    "zoning_mappings = {'Missing': 0, 'NA': 0, 'RM': 1, 'C (all)': 2, 'RL': 3, 'FV': 4, 'RH': 5}\n",
    "zoning_column  = 'MSZoning'\n",
    "data = data.with_columns(pl.col(zoning_column).fill_null('Missing').replace(zoning_mappings).cast(pl.Int8).alias(zoning_column))"
   ]
  },
  {
   "cell_type": "code",
   "execution_count": 15,
   "id": "9596edbb",
   "metadata": {},
   "outputs": [],
   "source": [
    "# Map categorical values to numerical values for the street, alley column\n",
    "street_mappings = {'Missing': 0, 'Grvl': 1, 'Pave': 2}\n",
    "street_columns  = ['Street', 'Alley']\n",
    "data = data.with_columns(pl.col(column).fill_null('Missing').replace(street_mappings).cast(pl.Int8).alias(column) for column in street_columns)"
   ]
  },
  {
   "cell_type": "code",
   "execution_count": 16,
   "id": "04634f51",
   "metadata": {},
   "outputs": [],
   "source": [
    "# Map categorical values to numerical values for the lot shape column\n",
    "lot_shape_mappings = {'IR1': 1, 'IR2': 2, 'IR3': 3, 'Reg': 4}\n",
    "lot_shape_column  = 'LotShape'\n",
    "data = data.with_columns(pl.col(lot_shape_column).fill_null('Missing').replace(lot_shape_mappings).cast(pl.Int8).alias(lot_shape_column))"
   ]
  },
  {
   "cell_type": "code",
   "execution_count": 17,
   "id": "d4e2fc9f",
   "metadata": {},
   "outputs": [],
   "source": [
    "# Map categorical values to numerical values for the land contour column\n",
    "lot_contour_mappings = {'Low': 1, 'Bnk': 2, 'Lvl': 3, 'HLS': 4}\n",
    "lot_contour_column  = 'LandContour'\n",
    "data = data.with_columns(pl.col(lot_contour_column).fill_null('Missing').replace(lot_contour_mappings).cast(pl.Int8).alias(lot_contour_column))"
   ]
  },
  {
   "cell_type": "code",
   "execution_count": 18,
   "id": "a6874e27",
   "metadata": {},
   "outputs": [],
   "source": [
    "# Map categorical values to numerical values for the Utilities column\n",
    "utilities_mappings = {'AllPub': 1, 'NoSeWa': 2}\n",
    "utilities_column  = 'Utilities'\n",
    "data = data.with_columns(pl.col(utilities_column).fill_null('Missing').replace(utilities_mappings).cast(pl.Int8).alias(utilities_column))"
   ]
  },
  {
   "cell_type": "code",
   "execution_count": 19,
   "id": "d19c5446",
   "metadata": {},
   "outputs": [],
   "source": [
    "# Map categorical values to numerical values for the LotConfig column\n",
    "lot_config_mappings = {'FR2': 1, 'FR3': 2, 'CulDSac': 3 , 'Inside': 4, 'Corner': 5}\n",
    "lot_config_column  = 'LotConfig'\n",
    "data = data.with_columns(pl.col(lot_config_column).fill_null('Missing').replace(lot_config_mappings).cast(pl.Int8).alias(lot_config_column))"
   ]
  },
  {
   "cell_type": "code",
   "execution_count": 20,
   "id": "ef8a35f7",
   "metadata": {},
   "outputs": [],
   "source": [
    "# Map categorical values to numerical values for the LandSlope column\n",
    "land_slope_mappings = {'Gtl': 1, 'Mod': 2, 'Sev': 3 }\n",
    "land_slope_column  = 'LandSlope'\n",
    "data = data.with_columns(pl.col(land_slope_column).fill_null('Missing').replace(land_slope_mappings).cast(pl.Int8).alias(land_slope_column))"
   ]
  },
  {
   "cell_type": "code",
   "execution_count": 21,
   "id": "fccf7abe",
   "metadata": {},
   "outputs": [],
   "source": [
    "# Map categorical values to numerical values for the condition columns\n",
    "condition_mappings = {'Missing': 0, 'Artery': 1, 'RRNn': 2, 'RRNe': 3, 'RRAn': 4, 'RRAe':5, 'PosA':6, 'PosN':7, 'Feedr': 8, 'Norm':9}\n",
    "conditions_columns  = ['Condition1', 'Condition2']\n",
    "data = data.with_columns(pl.col(column).fill_null('Missing').replace(condition_mappings).cast(pl.Int8).alias(column) for column in conditions_columns)"
   ]
  },
  {
   "cell_type": "code",
   "execution_count": 22,
   "id": "6a69d1a6",
   "metadata": {},
   "outputs": [],
   "source": [
    "# Map categorical values to numerical values for the BldgType column\n",
    "bldg_type_mappings = {'Twnhs': 1, 'TwnhsE': 2, 'Duplex': 3, '2fmCon':4, '1Fam':5}\n",
    "bldg_type_column  = 'BldgType'\n",
    "data = data.with_columns(pl.col(bldg_type_column).fill_null('Missing').replace(bldg_type_mappings).cast(pl.Int8).alias(bldg_type_column))"
   ]
  },
  {
   "cell_type": "code",
   "execution_count": 23,
   "id": "bd1564e4",
   "metadata": {},
   "outputs": [],
   "source": [
    "# Map categorical values to numerical values for the HouseStyle column\n",
    "house_style_mappings = {'1.5Unf': 1, '2Story': 2, '1.5Fin': 3, '2.5Fin': 4, 'SLvl':5, '2.5Unf': 6, 'SFoyer': 7, '1Story': 8}\n",
    "house_style_column  = 'HouseStyle'\n",
    "data = data.with_columns(pl.col(house_style_column).fill_null('Missing').replace(house_style_mappings).cast(pl.Int8).alias(house_style_column))"
   ]
  },
  {
   "cell_type": "code",
   "execution_count": 24,
   "id": "4e842e7c",
   "metadata": {},
   "outputs": [],
   "source": [
    "# Map categorical values to numerical values for the RoofStyle column\n",
    "roof_style_mappings = {'Gambrel': 1, 'Gable': 2, 'Mansard': 3, 'Flat': 4, 'Shed':5, 'Hip': 6}\n",
    "roof_style_column  = 'RoofStyle'\n",
    "data = data.with_columns(pl.col(roof_style_column).fill_null('Missing').replace(roof_style_mappings).cast(pl.Int8).alias(roof_style_column))"
   ]
  },
  {
   "cell_type": "code",
   "execution_count": 25,
   "id": "df5027f3",
   "metadata": {},
   "outputs": [],
   "source": [
    "# Map categorical values to numerical values for the RoofMatl column\n",
    "roof_material_mappings = {'Tar&Grv': 1, 'ClyTile': 2, 'WdShngl': 3, 'Roll': 4, 'Membran': 5, 'WdShake': 6, 'Metal': 7, 'CompShg': 8}\n",
    "roof_material_column  = 'RoofMatl'\n",
    "data = data.with_columns(pl.col(roof_material_column).fill_null('Missing').replace(roof_material_mappings).cast(pl.Int8).alias(roof_material_column))"
   ]
  },
  {
   "cell_type": "code",
   "execution_count": 26,
   "id": "ccbaf2dd",
   "metadata": {},
   "outputs": [],
   "source": [
    "# Map categorical values to numerical values for the MasVnrType column\n",
    "mas_vnr_type_mappings = {'Stone': 1, 'BrkCmn': 2, 'None': 3, 'BrkFace': 4}\n",
    "mas_vnr_type_column  = 'MasVnrType'\n",
    "data = data.with_columns(pl.col(mas_vnr_type_column).fill_null('Missing').replace(mas_vnr_type_mappings).cast(pl.Int8).alias(mas_vnr_type_column))"
   ]
  },
  {
   "cell_type": "code",
   "execution_count": 27,
   "id": "546e5fd3",
   "metadata": {},
   "outputs": [],
   "source": [
    "# Map categorical values to numerical values for the Foundation column\n",
    "foundation_mappings = {'BrkTil': 1, 'CBlock': 2, 'PConc': 3, 'Wood': 4, 'Stone': 5, 'Slab':6}\n",
    "foundation_column  = 'Foundation'\n",
    "data = data.with_columns(pl.col(foundation_column).fill_null('Missing').replace(foundation_mappings).cast(pl.Int8).alias(foundation_column))"
   ]
  },
  {
   "cell_type": "code",
   "execution_count": 28,
   "id": "ffdb2319",
   "metadata": {},
   "outputs": [],
   "source": [
    "# Map categorical values to numerical values for the Functional column\n",
    "functional_mappings = {'Min1': 1, 'Min2': 2, 'Maj1': 3, 'Maj2': 4, 'Mod': 5, 'Typ': 6, 'Sev': 7}\n",
    "functional_column  = 'Functional'\n",
    "data = data.with_columns(pl.col(functional_column).fill_null('Missing').replace(functional_mappings).cast(pl.Int8).alias(functional_column))"
   ]
  },
  {
   "cell_type": "code",
   "execution_count": 29,
   "id": "77c205b7",
   "metadata": {},
   "outputs": [],
   "source": [
    "# Map categorical values to numerical values for the SaleCondition column\n",
    "sale_condition_mappings = {'Normal': 1, 'Abnorml': 2, 'Alloca': 3, 'Family': 4, 'Partial': 5, 'AdjLand': 6}\n",
    "sale_condition_column  = 'SaleCondition'\n",
    "data = data.with_columns(pl.col(sale_condition_column).fill_null('Missing').replace(sale_condition_mappings).cast(pl.Int8).alias(sale_condition_column))"
   ]
  },
  {
   "cell_type": "code",
   "execution_count": 30,
   "id": "010a7887",
   "metadata": {},
   "outputs": [],
   "source": [
    "# Map categorical values to numerical values for the SaleType column\n",
    "sale_type_mappings = {'Oth': 1, 'ConLw': 2, 'CWD': 3, 'WD': 4, 'ConLD': 5, 'New': 6, 'COD': 7, 'Con': 8, 'ConLI': 9}\n",
    "sale_type_column  = 'SaleType'\n",
    "data = data.with_columns(pl.col(sale_type_column).fill_null('Missing').replace(sale_type_mappings).cast(pl.Int8).alias(sale_type_column))"
   ]
  },
  {
   "cell_type": "code",
   "execution_count": 31,
   "id": "6355839c",
   "metadata": {},
   "outputs": [],
   "source": [
    "# Map categorical values to numerical values for the Heating column\n",
    "heating_mappings = {'GasA': 1, 'Wall': 2, 'OthW': 3, 'Floor': 4, 'GasW': 5, 'Grav': 6}\n",
    "heating_column  = 'Heating'\n",
    "data = data.with_columns(pl.col(heating_column).fill_null('Missing').replace(heating_mappings).cast(pl.Int8).alias(heating_column))"
   ]
  },
  {
   "cell_type": "code",
   "execution_count": 32,
   "id": "0327a501",
   "metadata": {},
   "outputs": [],
   "source": [
    "# Map categorical values to numerical values for the CentralAir column\n",
    "central_air_mappings = {'Y': 1, 'N': 2}\n",
    "central_air_column  = 'CentralAir'\n",
    "data = data.with_columns(pl.col(central_air_column).fill_null('Missing').replace(central_air_mappings).cast(pl.Int8).alias(central_air_column))"
   ]
  },
  {
   "cell_type": "code",
   "execution_count": 33,
   "id": "fec3c218",
   "metadata": {},
   "outputs": [],
   "source": [
    "# Map categorical values to numerical values for the Electrical column\n",
    "electrical_mappings = {'FuseP': 1, 'Mix': 2, 'FuseA': 3, 'SBrkr': 4, 'FuseF': 5}\n",
    "electrical_column  = 'Electrical'\n",
    "data = data.with_columns(pl.col(electrical_column).fill_null('Missing').replace(electrical_mappings).cast(pl.Int8).alias(electrical_column))"
   ]
  },
  {
   "cell_type": "code",
   "execution_count": 34,
   "id": "0cf9ccc8",
   "metadata": {},
   "outputs": [],
   "source": [
    "# Map categorical values to numerical values for the PavedDrive column\n",
    "paved_drive_mappings = {'P': 1, 'Y': 2, 'N': 3}\n",
    "paved_drive_column  = 'PavedDrive'\n",
    "data = data.with_columns(pl.col(paved_drive_column).fill_null('Missing').replace(paved_drive_mappings).cast(pl.Int8).alias(paved_drive_column))"
   ]
  },
  {
   "cell_type": "code",
   "execution_count": 35,
   "id": "6077cf5b",
   "metadata": {},
   "outputs": [],
   "source": [
    "# Drop columns with rare values\n",
    "data = data.drop(['Id', 'Neighborhood', 'Exterior1st', 'Exterior2nd', 'PoolQC', 'MiscFeature'])\n",
    "\n",
    "# Convert stringified numbers (like \"2003\") to actual Int32\n",
    "string_columns = [col for col in data.columns if data[col].dtype == pl.Utf8]\n",
    "\n",
    "# Attempt to convert each string column to numeric if all non-null values look like digits\n",
    "convertible_cols = []\n",
    "for col in string_columns:\n",
    "    try:\n",
    "        # Check: all non-null values are digits\n",
    "        if data.select(pl.col(col).drop_nulls().str.contains(r'^\\d+$').all()).item():\n",
    "            convertible_cols.append(col)\n",
    "    except:\n",
    "        pass\n",
    "\n",
    "# Perform cast\n",
    "data = data.with_columns([pl.col(col).cast(pl.Int32).alias(col) for col in convertible_cols])"
   ]
  },
  {
   "cell_type": "code",
   "execution_count": 36,
   "id": "9b1397ec",
   "metadata": {},
   "outputs": [
    {
     "name": "stdout",
     "output_type": "stream",
     "text": [
      "The dataset contains 0 categorical features and 44 numerical features\n"
     ]
    }
   ],
   "source": [
    "# Categorical and Numerical Features\n",
    "categorical_features = data.select(pl.col(pl.String))\n",
    "numerical_features   = data.select(pl.col(pl.Int8))\n",
    "print(f'The dataset contains {categorical_features.shape[1]} categorical features and {numerical_features.shape[1]} numerical features')"
   ]
  },
  {
   "cell_type": "markdown",
   "id": "402922ee",
   "metadata": {},
   "source": [
    "### Feature Scaling"
   ]
  },
  {
   "cell_type": "code",
   "execution_count": 37,
   "id": "dba5b315",
   "metadata": {},
   "outputs": [
    {
     "name": "stdout",
     "output_type": "stream",
     "text": [
      "The final dataset is:\n",
      "\n"
     ]
    },
    {
     "data": {
      "application/vnd.microsoft.datawrangler.viewer.v0+json": {
       "columns": [
        {
         "name": "index",
         "rawType": "int64",
         "type": "integer"
        },
        {
         "name": "MSSubClass",
         "rawType": "float64",
         "type": "float"
        },
        {
         "name": "MSZoning",
         "rawType": "float64",
         "type": "float"
        },
        {
         "name": "LotFrontage",
         "rawType": "float64",
         "type": "float"
        },
        {
         "name": "LotArea",
         "rawType": "float64",
         "type": "float"
        },
        {
         "name": "Street",
         "rawType": "float64",
         "type": "float"
        },
        {
         "name": "Alley",
         "rawType": "float64",
         "type": "float"
        },
        {
         "name": "LotShape",
         "rawType": "float64",
         "type": "float"
        },
        {
         "name": "LandContour",
         "rawType": "float64",
         "type": "float"
        },
        {
         "name": "Utilities",
         "rawType": "float64",
         "type": "float"
        },
        {
         "name": "LotConfig",
         "rawType": "float64",
         "type": "float"
        },
        {
         "name": "LandSlope",
         "rawType": "float64",
         "type": "float"
        },
        {
         "name": "Condition1",
         "rawType": "float64",
         "type": "float"
        },
        {
         "name": "Condition2",
         "rawType": "float64",
         "type": "float"
        },
        {
         "name": "BldgType",
         "rawType": "float64",
         "type": "float"
        },
        {
         "name": "HouseStyle",
         "rawType": "float64",
         "type": "float"
        },
        {
         "name": "OverallQual",
         "rawType": "float64",
         "type": "float"
        },
        {
         "name": "OverallCond",
         "rawType": "float64",
         "type": "float"
        },
        {
         "name": "YearBuilt",
         "rawType": "float64",
         "type": "float"
        },
        {
         "name": "YearRemodAdd",
         "rawType": "float64",
         "type": "float"
        },
        {
         "name": "RoofStyle",
         "rawType": "float64",
         "type": "float"
        },
        {
         "name": "RoofMatl",
         "rawType": "float64",
         "type": "float"
        },
        {
         "name": "MasVnrType",
         "rawType": "float64",
         "type": "float"
        },
        {
         "name": "MasVnrArea",
         "rawType": "float64",
         "type": "float"
        },
        {
         "name": "ExterQual",
         "rawType": "float64",
         "type": "float"
        },
        {
         "name": "ExterCond",
         "rawType": "float64",
         "type": "float"
        },
        {
         "name": "Foundation",
         "rawType": "float64",
         "type": "float"
        },
        {
         "name": "BsmtQual",
         "rawType": "float64",
         "type": "float"
        },
        {
         "name": "BsmtCond",
         "rawType": "float64",
         "type": "float"
        },
        {
         "name": "BsmtExposure",
         "rawType": "float64",
         "type": "float"
        },
        {
         "name": "BsmtFinType1",
         "rawType": "float64",
         "type": "float"
        },
        {
         "name": "BsmtFinSF1",
         "rawType": "float64",
         "type": "float"
        },
        {
         "name": "BsmtFinType2",
         "rawType": "float64",
         "type": "float"
        },
        {
         "name": "BsmtFinSF2",
         "rawType": "float64",
         "type": "float"
        },
        {
         "name": "BsmtUnfSF",
         "rawType": "float64",
         "type": "float"
        },
        {
         "name": "TotalBsmtSF",
         "rawType": "float64",
         "type": "float"
        },
        {
         "name": "Heating",
         "rawType": "float64",
         "type": "float"
        },
        {
         "name": "HeatingQC",
         "rawType": "float64",
         "type": "float"
        },
        {
         "name": "CentralAir",
         "rawType": "float64",
         "type": "float"
        },
        {
         "name": "Electrical",
         "rawType": "float64",
         "type": "float"
        },
        {
         "name": "1stFlrSF",
         "rawType": "float64",
         "type": "float"
        },
        {
         "name": "2ndFlrSF",
         "rawType": "float64",
         "type": "float"
        },
        {
         "name": "LowQualFinSF",
         "rawType": "float64",
         "type": "float"
        },
        {
         "name": "GrLivArea",
         "rawType": "float64",
         "type": "float"
        },
        {
         "name": "BsmtFullBath",
         "rawType": "float64",
         "type": "float"
        },
        {
         "name": "BsmtHalfBath",
         "rawType": "float64",
         "type": "float"
        },
        {
         "name": "FullBath",
         "rawType": "float64",
         "type": "float"
        },
        {
         "name": "HalfBath",
         "rawType": "float64",
         "type": "float"
        },
        {
         "name": "BedroomAbvGr",
         "rawType": "float64",
         "type": "float"
        },
        {
         "name": "KitchenAbvGr",
         "rawType": "float64",
         "type": "float"
        },
        {
         "name": "KitchenQual",
         "rawType": "float64",
         "type": "float"
        },
        {
         "name": "TotRmsAbvGrd",
         "rawType": "float64",
         "type": "float"
        },
        {
         "name": "Functional",
         "rawType": "float64",
         "type": "float"
        },
        {
         "name": "Fireplaces",
         "rawType": "float64",
         "type": "float"
        },
        {
         "name": "FireplaceQu",
         "rawType": "float64",
         "type": "float"
        },
        {
         "name": "GarageType",
         "rawType": "float64",
         "type": "float"
        },
        {
         "name": "GarageYrBlt",
         "rawType": "float64",
         "type": "float"
        },
        {
         "name": "GarageFinish",
         "rawType": "float64",
         "type": "float"
        },
        {
         "name": "GarageCars",
         "rawType": "float64",
         "type": "float"
        },
        {
         "name": "GarageArea",
         "rawType": "float64",
         "type": "float"
        },
        {
         "name": "GarageQual",
         "rawType": "float64",
         "type": "float"
        },
        {
         "name": "GarageCond",
         "rawType": "float64",
         "type": "float"
        },
        {
         "name": "PavedDrive",
         "rawType": "float64",
         "type": "float"
        },
        {
         "name": "WoodDeckSF",
         "rawType": "float64",
         "type": "float"
        },
        {
         "name": "OpenPorchSF",
         "rawType": "float64",
         "type": "float"
        },
        {
         "name": "EnclosedPorch",
         "rawType": "float64",
         "type": "float"
        },
        {
         "name": "3SsnPorch",
         "rawType": "float64",
         "type": "float"
        },
        {
         "name": "ScreenPorch",
         "rawType": "float64",
         "type": "float"
        },
        {
         "name": "PoolArea",
         "rawType": "float64",
         "type": "float"
        },
        {
         "name": "Fence",
         "rawType": "float64",
         "type": "float"
        },
        {
         "name": "MiscVal",
         "rawType": "float64",
         "type": "float"
        },
        {
         "name": "MoSold",
         "rawType": "float64",
         "type": "float"
        },
        {
         "name": "YrSold",
         "rawType": "float64",
         "type": "float"
        },
        {
         "name": "SaleType",
         "rawType": "float64",
         "type": "float"
        },
        {
         "name": "SaleCondition",
         "rawType": "float64",
         "type": "float"
        },
        {
         "name": "SalePrice",
         "rawType": "float64",
         "type": "float"
        }
       ],
       "ref": "c3c080e2-e6ef-40c8-926b-cb79d5e932de",
       "rows": [
        [
         "0",
         "0.2352941176470588",
         "0.5",
         "0.7264600870306567",
         "0.03341980415527355",
         "1.0",
         "0.0",
         "1.0",
         "0.6666666666666667",
         "0.0",
         "0.75",
         "0.0",
         "1.0",
         "1.0",
         "1.0",
         "0.14285714285714285",
         "0.6666666666666665",
         "0.5",
         "0.9492753623188417",
         "0.8833333333333329",
         "0.2",
         "1.0",
         "1.0",
         "0.1225",
         "0.6666666666666666",
         "0.5",
         "0.4000000000000001",
         "0.6666666666666666",
         "0.6666666666666667",
         "0.0",
         "1.0000000000000002",
         "0.12508858965272857",
         "0.0",
         "0.0",
         "0.06421232876712328",
         "0.14009819967266776",
         "0.0",
         "1.0",
         "0.0",
         "0.75",
         "0.35615474820438253",
         "0.4135593220338983",
         "0.0",
         "0.5777122882260084",
         "0.3333333333333333",
         "0.0",
         "0.6666666666666666",
         "0.5",
         "0.375",
         "0.3333333333333333",
         "0.6666666666666666",
         "0.5",
         "0.8333333333333334",
         "0.0",
         "0.0",
         "0.5",
         "0.9363636363636338",
         "0.5",
         "0.5",
         "0.38645980253878703",
         "0.5",
         "0.5",
         "0.5",
         "0.0",
         "0.11151736745886655",
         "0.0",
         "0.0",
         "0.0",
         "0.0",
         "0.0",
         "0.0",
         "0.09090909090909091",
         "0.5",
         "0.375",
         "0.0",
         "0.24107762810720734"
        ],
        [
         "1",
         "0.0",
         "0.5",
         "0.7625951414123181",
         "0.03879501741101685",
         "1.0",
         "0.0",
         "1.0",
         "0.6666666666666667",
         "0.0",
         "0.0",
         "0.0",
         "0.875",
         "1.0",
         "1.0",
         "1.0",
         "0.5555555555555556",
         "0.875",
         "0.7536231884057969",
         "0.43333333333333",
         "0.2",
         "1.0",
         "0.6666666666666667",
         "0.0",
         "0.33333333333333337",
         "0.5",
         "0.2",
         "0.6666666666666666",
         "0.6666666666666667",
         "1.0",
         "0.8",
         "0.1732813607370659",
         "0.0",
         "0.0",
         "0.12157534246575341",
         "0.2065466448445172",
         "0.0",
         "1.0",
         "0.0",
         "0.75",
         "0.5030560164904583",
         "0.0",
         "0.0",
         "0.4702445078729567",
         "0.0",
         "0.5",
         "0.6666666666666666",
         "0.0",
         "0.375",
         "0.3333333333333333",
         "0.33333333333333337",
         "0.33333333333333337",
         "0.8333333333333334",
         "0.3333333333333333",
         "0.6000000000000001",
         "0.5",
         "0.6909090909090878",
         "0.5",
         "0.5",
         "0.3244005641748942",
         "0.5",
         "0.5",
         "0.5",
         "0.34772462077012833",
         "0.0",
         "0.0",
         "0.0",
         "0.0",
         "0.0",
         "0.0",
         "0.0",
         "0.36363636363636365",
         "0.25",
         "0.375",
         "0.0",
         "0.2035828357172615"
        ],
        [
         "2",
         "0.2352941176470588",
         "0.5",
         "0.7343123041876746",
         "0.04650727990838767",
         "1.0",
         "0.0",
         "0.0",
         "0.6666666666666667",
         "0.0",
         "0.75",
         "0.0",
         "1.0",
         "1.0",
         "1.0",
         "0.14285714285714285",
         "0.6666666666666665",
         "0.5",
         "0.9347826086956523",
         "0.8666666666666671",
         "0.2",
         "1.0",
         "1.0",
         "0.10125",
         "0.6666666666666666",
         "0.5",
         "0.4000000000000001",
         "0.6666666666666666",
         "0.6666666666666667",
         "0.3333333333333333",
         "1.0000000000000002",
         "0.08610914245216159",
         "0.0",
         "0.0",
         "0.1857876712328767",
         "0.15057283142389527",
         "0.0",
         "1.0",
         "0.0",
         "0.75",
         "0.3834410394874981",
         "0.41937046004842615",
         "0.0",
         "0.59309515868294",
         "0.3333333333333333",
         "0.0",
         "0.6666666666666666",
         "0.5",
         "0.375",
         "0.3333333333333333",
         "0.6666666666666666",
         "0.33333333333333337",
         "0.8333333333333334",
         "0.3333333333333333",
         "0.6000000000000001",
         "0.5",
         "0.918181818181818",
         "0.5",
         "0.5",
         "0.4287729196050776",
         "0.5",
         "0.5",
         "0.5",
         "0.0",
         "0.07678244972577697",
         "0.0",
         "0.0",
         "0.0",
         "0.0",
         "0.0",
         "0.0",
         "0.7272727272727273",
         "0.5",
         "0.375",
         "0.0",
         "0.2619080683238439"
        ],
        [
         "3",
         "0.2941176470588235",
         "0.5",
         "0.7125304181659516",
         "0.0385613124868541",
         "1.0",
         "0.0",
         "0.0",
         "0.6666666666666667",
         "0.0",
         "1.0",
         "0.0",
         "1.0",
         "1.0",
         "1.0",
         "0.14285714285714285",
         "0.6666666666666665",
         "0.5",
         "0.3115942028985508",
         "0.3333333333333357",
         "0.2",
         "1.0",
         "0.6666666666666667",
         "0.0",
         "0.33333333333333337",
         "0.5",
         "0.0",
         "0.33333333333333337",
         "1.0",
         "0.0",
         "0.8",
         "0.03827072997873848",
         "0.0",
         "0.0",
         "0.23116438356164382",
         "0.12373158756137481",
         "0.0",
         "0.75",
         "0.0",
         "0.75",
         "0.39994101331885457",
         "0.36610169491525424",
         "0.0",
         "0.5791574328965412",
         "0.3333333333333333",
         "0.0",
         "0.3333333333333333",
         "0.0",
         "0.375",
         "0.3333333333333333",
         "0.6666666666666666",
         "0.41666666666666663",
         "0.8333333333333334",
         "0.3333333333333333",
         "0.8",
         "0.25",
         "0.8909090909090907",
         "0.0",
         "0.75",
         "0.4527503526093089",
         "0.5",
         "0.5",
         "0.5",
         "0.0",
         "0.06398537477148081",
         "1.0",
         "0.0",
         "0.0",
         "0.0",
         "0.0",
         "0.0",
         "0.09090909090909091",
         "0.0",
         "0.375",
         "0.2",
         "0.14595195111790032"
        ],
        [
         "4",
         "0.2352941176470588",
         "0.5",
         "0.7710859939895041",
         "0.06057631634298535",
         "1.0",
         "0.0",
         "0.0",
         "0.6666666666666667",
         "0.0",
         "0.0",
         "0.0",
         "1.0",
         "1.0",
         "1.0",
         "0.14285714285714285",
         "0.7777777777777777",
         "0.5",
         "0.9275362318840585",
         "0.8333333333333357",
         "0.2",
         "1.0",
         "1.0",
         "0.21875",
         "0.6666666666666666",
         "0.5",
         "0.4000000000000001",
         "0.6666666666666666",
         "0.6666666666666667",
         "0.6666666666666667",
         "1.0000000000000002",
         "0.11605244507441531",
         "0.0",
         "0.0",
         "0.20976027397260272",
         "0.18739770867430444",
         "0.0",
         "1.0",
         "0.0",
         "0.75",
         "0.4662370521602308",
         "0.5099273607748184",
         "0.0",
         "0.6665228823649914",
         "0.3333333333333333",
         "0.0",
         "0.6666666666666666",
         "0.5",
         "0.5",
         "0.3333333333333333",
         "0.6666666666666666",
         "0.5833333333333334",
         "0.8333333333333334",
         "0.3333333333333333",
         "0.6000000000000001",
         "0.5",
         "0.9090909090909065",
         "0.5",
         "0.75",
         "0.5895627644569816",
         "0.5",
         "0.5",
         "0.5",
         "0.22403733955659275",
         "0.15356489945155394",
         "0.0",
         "0.0",
         "0.0",
         "0.0",
         "0.0",
         "0.0",
         "0.9999999999999999",
         "0.5",
         "0.375",
         "0.0",
         "0.29870851270656856"
        ]
       ],
       "shape": {
        "columns": 75,
        "rows": 5
       }
      },
      "text/html": [
       "<div>\n",
       "<style scoped>\n",
       "    .dataframe tbody tr th:only-of-type {\n",
       "        vertical-align: middle;\n",
       "    }\n",
       "\n",
       "    .dataframe tbody tr th {\n",
       "        vertical-align: top;\n",
       "    }\n",
       "\n",
       "    .dataframe thead th {\n",
       "        text-align: right;\n",
       "    }\n",
       "</style>\n",
       "<table border=\"1\" class=\"dataframe\">\n",
       "  <thead>\n",
       "    <tr style=\"text-align: right;\">\n",
       "      <th></th>\n",
       "      <th>MSSubClass</th>\n",
       "      <th>MSZoning</th>\n",
       "      <th>LotFrontage</th>\n",
       "      <th>LotArea</th>\n",
       "      <th>Street</th>\n",
       "      <th>Alley</th>\n",
       "      <th>LotShape</th>\n",
       "      <th>LandContour</th>\n",
       "      <th>Utilities</th>\n",
       "      <th>LotConfig</th>\n",
       "      <th>...</th>\n",
       "      <th>3SsnPorch</th>\n",
       "      <th>ScreenPorch</th>\n",
       "      <th>PoolArea</th>\n",
       "      <th>Fence</th>\n",
       "      <th>MiscVal</th>\n",
       "      <th>MoSold</th>\n",
       "      <th>YrSold</th>\n",
       "      <th>SaleType</th>\n",
       "      <th>SaleCondition</th>\n",
       "      <th>SalePrice</th>\n",
       "    </tr>\n",
       "  </thead>\n",
       "  <tbody>\n",
       "    <tr>\n",
       "      <th>0</th>\n",
       "      <td>0.235294</td>\n",
       "      <td>0.5</td>\n",
       "      <td>0.726460</td>\n",
       "      <td>0.033420</td>\n",
       "      <td>1.0</td>\n",
       "      <td>0.0</td>\n",
       "      <td>1.0</td>\n",
       "      <td>0.666667</td>\n",
       "      <td>0.0</td>\n",
       "      <td>0.75</td>\n",
       "      <td>...</td>\n",
       "      <td>0.0</td>\n",
       "      <td>0.0</td>\n",
       "      <td>0.0</td>\n",
       "      <td>0.0</td>\n",
       "      <td>0.0</td>\n",
       "      <td>0.090909</td>\n",
       "      <td>0.50</td>\n",
       "      <td>0.375</td>\n",
       "      <td>0.0</td>\n",
       "      <td>0.241078</td>\n",
       "    </tr>\n",
       "    <tr>\n",
       "      <th>1</th>\n",
       "      <td>0.000000</td>\n",
       "      <td>0.5</td>\n",
       "      <td>0.762595</td>\n",
       "      <td>0.038795</td>\n",
       "      <td>1.0</td>\n",
       "      <td>0.0</td>\n",
       "      <td>1.0</td>\n",
       "      <td>0.666667</td>\n",
       "      <td>0.0</td>\n",
       "      <td>0.00</td>\n",
       "      <td>...</td>\n",
       "      <td>0.0</td>\n",
       "      <td>0.0</td>\n",
       "      <td>0.0</td>\n",
       "      <td>0.0</td>\n",
       "      <td>0.0</td>\n",
       "      <td>0.363636</td>\n",
       "      <td>0.25</td>\n",
       "      <td>0.375</td>\n",
       "      <td>0.0</td>\n",
       "      <td>0.203583</td>\n",
       "    </tr>\n",
       "    <tr>\n",
       "      <th>2</th>\n",
       "      <td>0.235294</td>\n",
       "      <td>0.5</td>\n",
       "      <td>0.734312</td>\n",
       "      <td>0.046507</td>\n",
       "      <td>1.0</td>\n",
       "      <td>0.0</td>\n",
       "      <td>0.0</td>\n",
       "      <td>0.666667</td>\n",
       "      <td>0.0</td>\n",
       "      <td>0.75</td>\n",
       "      <td>...</td>\n",
       "      <td>0.0</td>\n",
       "      <td>0.0</td>\n",
       "      <td>0.0</td>\n",
       "      <td>0.0</td>\n",
       "      <td>0.0</td>\n",
       "      <td>0.727273</td>\n",
       "      <td>0.50</td>\n",
       "      <td>0.375</td>\n",
       "      <td>0.0</td>\n",
       "      <td>0.261908</td>\n",
       "    </tr>\n",
       "    <tr>\n",
       "      <th>3</th>\n",
       "      <td>0.294118</td>\n",
       "      <td>0.5</td>\n",
       "      <td>0.712530</td>\n",
       "      <td>0.038561</td>\n",
       "      <td>1.0</td>\n",
       "      <td>0.0</td>\n",
       "      <td>0.0</td>\n",
       "      <td>0.666667</td>\n",
       "      <td>0.0</td>\n",
       "      <td>1.00</td>\n",
       "      <td>...</td>\n",
       "      <td>0.0</td>\n",
       "      <td>0.0</td>\n",
       "      <td>0.0</td>\n",
       "      <td>0.0</td>\n",
       "      <td>0.0</td>\n",
       "      <td>0.090909</td>\n",
       "      <td>0.00</td>\n",
       "      <td>0.375</td>\n",
       "      <td>0.2</td>\n",
       "      <td>0.145952</td>\n",
       "    </tr>\n",
       "    <tr>\n",
       "      <th>4</th>\n",
       "      <td>0.235294</td>\n",
       "      <td>0.5</td>\n",
       "      <td>0.771086</td>\n",
       "      <td>0.060576</td>\n",
       "      <td>1.0</td>\n",
       "      <td>0.0</td>\n",
       "      <td>0.0</td>\n",
       "      <td>0.666667</td>\n",
       "      <td>0.0</td>\n",
       "      <td>0.00</td>\n",
       "      <td>...</td>\n",
       "      <td>0.0</td>\n",
       "      <td>0.0</td>\n",
       "      <td>0.0</td>\n",
       "      <td>0.0</td>\n",
       "      <td>0.0</td>\n",
       "      <td>1.000000</td>\n",
       "      <td>0.50</td>\n",
       "      <td>0.375</td>\n",
       "      <td>0.0</td>\n",
       "      <td>0.298709</td>\n",
       "    </tr>\n",
       "  </tbody>\n",
       "</table>\n",
       "<p>5 rows × 75 columns</p>\n",
       "</div>"
      ],
      "text/plain": [
       "   MSSubClass  MSZoning  LotFrontage   LotArea  Street  Alley  LotShape  \\\n",
       "0    0.235294       0.5     0.726460  0.033420     1.0    0.0       1.0   \n",
       "1    0.000000       0.5     0.762595  0.038795     1.0    0.0       1.0   \n",
       "2    0.235294       0.5     0.734312  0.046507     1.0    0.0       0.0   \n",
       "3    0.294118       0.5     0.712530  0.038561     1.0    0.0       0.0   \n",
       "4    0.235294       0.5     0.771086  0.060576     1.0    0.0       0.0   \n",
       "\n",
       "   LandContour  Utilities  LotConfig  ...  3SsnPorch  ScreenPorch  PoolArea  \\\n",
       "0     0.666667        0.0       0.75  ...        0.0          0.0       0.0   \n",
       "1     0.666667        0.0       0.00  ...        0.0          0.0       0.0   \n",
       "2     0.666667        0.0       0.75  ...        0.0          0.0       0.0   \n",
       "3     0.666667        0.0       1.00  ...        0.0          0.0       0.0   \n",
       "4     0.666667        0.0       0.00  ...        0.0          0.0       0.0   \n",
       "\n",
       "   Fence  MiscVal    MoSold  YrSold  SaleType  SaleCondition  SalePrice  \n",
       "0    0.0      0.0  0.090909    0.50     0.375            0.0   0.241078  \n",
       "1    0.0      0.0  0.363636    0.25     0.375            0.0   0.203583  \n",
       "2    0.0      0.0  0.727273    0.50     0.375            0.0   0.261908  \n",
       "3    0.0      0.0  0.090909    0.00     0.375            0.2   0.145952  \n",
       "4    0.0      0.0  1.000000    0.50     0.375            0.0   0.298709  \n",
       "\n",
       "[5 rows x 75 columns]"
      ]
     },
     "execution_count": 37,
     "metadata": {},
     "output_type": "execute_result"
    }
   ],
   "source": [
    "# Convert polars DataFrame to pandas DataFrame for scaling\n",
    "data_pd = data.to_pandas()\n",
    "\n",
    "# Initialise scaler and fit data\n",
    "scaler = MinMaxScaler()\n",
    "scaler.fit(data_pd)\n",
    "\n",
    "# Create the final dataset that is going to be using in the training\n",
    "final_data = pd.DataFrame(scaler.transform(data_pd), columns=data.columns)\n",
    "print('The final dataset is:\\n')\n",
    "final_data.head()"
   ]
  },
  {
   "cell_type": "code",
   "execution_count": 38,
   "id": "c13c4cf2",
   "metadata": {},
   "outputs": [],
   "source": [
    "# Save the dataset to the data folder\n",
    "final_data.to_csv('Data/final_data.csv', index=False)"
   ]
  }
 ],
 "metadata": {
  "kernelspec": {
   "display_name": "Python 3",
   "language": "python",
   "name": "python3"
  },
  "language_info": {
   "codemirror_mode": {
    "name": "ipython",
    "version": 3
   },
   "file_extension": ".py",
   "mimetype": "text/x-python",
   "name": "python",
   "nbconvert_exporter": "python",
   "pygments_lexer": "ipython3",
   "version": "3.10.11"
  }
 },
 "nbformat": 4,
 "nbformat_minor": 5
}
