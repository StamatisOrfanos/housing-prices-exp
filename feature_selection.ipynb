{
 "cells": [
  {
   "cell_type": "markdown",
   "id": "daad8f8f",
   "metadata": {},
   "source": [
    "# Feature Selection"
   ]
  },
  {
   "cell_type": "markdown",
   "id": "c2e8a526",
   "metadata": {},
   "source": [
    "### Reproducibility: Setting the seed\n",
    "With the aim to ensure reproducibility between runs of the same notebook, but also between the research and production environment, for each step that includes some element of randomness, it is extremely important that we set the seed"
   ]
  },
  {
   "cell_type": "markdown",
   "id": "2d3b8880",
   "metadata": {},
   "source": [
    "---"
   ]
  },
  {
   "cell_type": "code",
   "execution_count": 1,
   "id": "3d8036e4",
   "metadata": {},
   "outputs": [],
   "source": [
    "# Import Libraries\n",
    "import polars as pl\n",
    "import pandas as pd\n",
    "import numpy as np\n",
    "import matplotlib.pyplot as plt\n",
    "from sklearn.linear_model import Lasso\n",
    "from sklearn.feature_selection import SelectFromModel, RFE\n",
    "from sklearn.linear_model import LinearRegression\n",
    "from sklearn.model_selection import train_test_split\n",
    "from sklearn.pipeline import make_pipeline"
   ]
  },
  {
   "cell_type": "code",
   "execution_count": 2,
   "id": "7de88a79",
   "metadata": {},
   "outputs": [
    {
     "data": {
      "application/vnd.microsoft.datawrangler.viewer.v0+json": {
       "columns": [
        {
         "name": "index",
         "rawType": "int64",
         "type": "integer"
        },
        {
         "name": "feature",
         "rawType": "object",
         "type": "string"
        },
        {
         "name": "selected_by_rfe",
         "rawType": "bool",
         "type": "boolean"
        },
        {
         "name": "ranking",
         "rawType": "int64",
         "type": "integer"
        }
       ],
       "ref": "2dd7f0c5-ea5a-4509-85f7-5b8f0284a9b2",
       "rows": [
        [
         "47",
         "BedroomAbvGr",
         "True",
         "1"
        ],
        [
         "34",
         "TotalBsmtSF",
         "True",
         "1"
        ],
        [
         "39",
         "1stFlrSF",
         "True",
         "1"
        ],
        [
         "40",
         "2ndFlrSF",
         "True",
         "1"
        ],
        [
         "15",
         "OverallQual",
         "True",
         "1"
        ],
        [
         "42",
         "GrLivArea",
         "True",
         "1"
        ],
        [
         "48",
         "KitchenAbvGr",
         "True",
         "1"
        ],
        [
         "50",
         "TotRmsAbvGrd",
         "True",
         "1"
        ],
        [
         "26",
         "BsmtQual",
         "True",
         "1"
        ],
        [
         "3",
         "LotArea",
         "True",
         "1"
        ],
        [
         "22",
         "MasVnrArea",
         "False",
         "2"
        ],
        [
         "8",
         "Utilities",
         "False",
         "3"
        ],
        [
         "49",
         "KitchenQual",
         "False",
         "4"
        ],
        [
         "57",
         "GarageCars",
         "False",
         "5"
        ],
        [
         "33",
         "BsmtUnfSF",
         "False",
         "6"
        ],
        [
         "23",
         "ExterQual",
         "False",
         "7"
        ],
        [
         "67",
         "PoolArea",
         "False",
         "8"
        ],
        [
         "16",
         "OverallCond",
         "False",
         "9"
        ],
        [
         "24",
         "ExterCond",
         "False",
         "10"
        ],
        [
         "59",
         "GarageQual",
         "False",
         "11"
        ],
        [
         "20",
         "RoofMatl",
         "False",
         "12"
        ],
        [
         "0",
         "MSSubClass",
         "False",
         "13"
        ],
        [
         "28",
         "BsmtExposure",
         "False",
         "14"
        ],
        [
         "1",
         "MSZoning",
         "False",
         "15"
        ],
        [
         "52",
         "Fireplaces",
         "False",
         "16"
        ],
        [
         "51",
         "Functional",
         "False",
         "17"
        ],
        [
         "62",
         "WoodDeckSF",
         "False",
         "18"
        ],
        [
         "73",
         "SaleCondition",
         "False",
         "19"
        ],
        [
         "10",
         "LandSlope",
         "False",
         "20"
        ],
        [
         "7",
         "LandContour",
         "False",
         "21"
        ],
        [
         "60",
         "GarageCond",
         "False",
         "22"
        ],
        [
         "11",
         "Condition1",
         "False",
         "23"
        ],
        [
         "43",
         "BsmtFullBath",
         "False",
         "24"
        ],
        [
         "25",
         "Foundation",
         "False",
         "25"
        ],
        [
         "63",
         "OpenPorchSF",
         "False",
         "26"
        ],
        [
         "45",
         "FullBath",
         "False",
         "27"
        ],
        [
         "17",
         "YearBuilt",
         "False",
         "28"
        ],
        [
         "46",
         "HalfBath",
         "False",
         "29"
        ],
        [
         "21",
         "MasVnrType",
         "False",
         "30"
        ],
        [
         "19",
         "RoofStyle",
         "False",
         "31"
        ],
        [
         "72",
         "SaleType",
         "False",
         "32"
        ],
        [
         "58",
         "GarageArea",
         "False",
         "33"
        ],
        [
         "29",
         "BsmtFinType1",
         "False",
         "34"
        ],
        [
         "30",
         "BsmtFinSF1",
         "False",
         "35"
        ],
        [
         "32",
         "BsmtFinSF2",
         "False",
         "36"
        ],
        [
         "31",
         "BsmtFinType2",
         "False",
         "37"
        ],
        [
         "4",
         "Street",
         "False",
         "38"
        ],
        [
         "41",
         "LowQualFinSF",
         "False",
         "39"
        ],
        [
         "66",
         "ScreenPorch",
         "False",
         "40"
        ],
        [
         "13",
         "BldgType",
         "False",
         "41"
        ]
       ],
       "shape": {
        "columns": 3,
        "rows": 74
       }
      },
      "text/html": [
       "<div>\n",
       "<style scoped>\n",
       "    .dataframe tbody tr th:only-of-type {\n",
       "        vertical-align: middle;\n",
       "    }\n",
       "\n",
       "    .dataframe tbody tr th {\n",
       "        vertical-align: top;\n",
       "    }\n",
       "\n",
       "    .dataframe thead th {\n",
       "        text-align: right;\n",
       "    }\n",
       "</style>\n",
       "<table border=\"1\" class=\"dataframe\">\n",
       "  <thead>\n",
       "    <tr style=\"text-align: right;\">\n",
       "      <th></th>\n",
       "      <th>feature</th>\n",
       "      <th>selected_by_rfe</th>\n",
       "      <th>ranking</th>\n",
       "    </tr>\n",
       "  </thead>\n",
       "  <tbody>\n",
       "    <tr>\n",
       "      <th>47</th>\n",
       "      <td>BedroomAbvGr</td>\n",
       "      <td>True</td>\n",
       "      <td>1</td>\n",
       "    </tr>\n",
       "    <tr>\n",
       "      <th>34</th>\n",
       "      <td>TotalBsmtSF</td>\n",
       "      <td>True</td>\n",
       "      <td>1</td>\n",
       "    </tr>\n",
       "    <tr>\n",
       "      <th>39</th>\n",
       "      <td>1stFlrSF</td>\n",
       "      <td>True</td>\n",
       "      <td>1</td>\n",
       "    </tr>\n",
       "    <tr>\n",
       "      <th>40</th>\n",
       "      <td>2ndFlrSF</td>\n",
       "      <td>True</td>\n",
       "      <td>1</td>\n",
       "    </tr>\n",
       "    <tr>\n",
       "      <th>15</th>\n",
       "      <td>OverallQual</td>\n",
       "      <td>True</td>\n",
       "      <td>1</td>\n",
       "    </tr>\n",
       "    <tr>\n",
       "      <th>...</th>\n",
       "      <td>...</td>\n",
       "      <td>...</td>\n",
       "      <td>...</td>\n",
       "    </tr>\n",
       "    <tr>\n",
       "      <th>53</th>\n",
       "      <td>FireplaceQu</td>\n",
       "      <td>False</td>\n",
       "      <td>61</td>\n",
       "    </tr>\n",
       "    <tr>\n",
       "      <th>36</th>\n",
       "      <td>HeatingQC</td>\n",
       "      <td>False</td>\n",
       "      <td>62</td>\n",
       "    </tr>\n",
       "    <tr>\n",
       "      <th>71</th>\n",
       "      <td>YrSold</td>\n",
       "      <td>False</td>\n",
       "      <td>63</td>\n",
       "    </tr>\n",
       "    <tr>\n",
       "      <th>54</th>\n",
       "      <td>GarageType</td>\n",
       "      <td>False</td>\n",
       "      <td>64</td>\n",
       "    </tr>\n",
       "    <tr>\n",
       "      <th>27</th>\n",
       "      <td>BsmtCond</td>\n",
       "      <td>False</td>\n",
       "      <td>65</td>\n",
       "    </tr>\n",
       "  </tbody>\n",
       "</table>\n",
       "<p>74 rows × 3 columns</p>\n",
       "</div>"
      ],
      "text/plain": [
       "         feature  selected_by_rfe  ranking\n",
       "47  BedroomAbvGr             True        1\n",
       "34   TotalBsmtSF             True        1\n",
       "39      1stFlrSF             True        1\n",
       "40      2ndFlrSF             True        1\n",
       "15   OverallQual             True        1\n",
       "..           ...              ...      ...\n",
       "53   FireplaceQu            False       61\n",
       "36     HeatingQC            False       62\n",
       "71        YrSold            False       63\n",
       "54    GarageType            False       64\n",
       "27      BsmtCond            False       65\n",
       "\n",
       "[74 rows x 3 columns]"
      ]
     },
     "execution_count": 2,
     "metadata": {},
     "output_type": "execute_result"
    }
   ],
   "source": [
    "# Load the dataset, get features and label\n",
    "data = pl.read_csv('Data/final_data.csv')\n",
    "labels = data.select('SalePrice')\n",
    "features = data.drop('SalePrice')\n",
    "\n",
    "# Convert to pandas DataFrame for sklearn compatibility\n",
    "features_pd = features.to_pandas()\n",
    "labels_pd = labels.to_pandas()\n",
    "\n",
    "# Handle missing values by filling NaNs with the mean of each column\n",
    "features_pd = features_pd.fillna(features_pd.mean())\n",
    "labels_pd = labels_pd.fillna(labels_pd.mean())\n",
    "\n",
    "# Train RandomForest and get the feature importance\n",
    "X_train, X_test, y_train, y_test = train_test_split(features_pd, labels_pd, test_size=0.1, random_state=26)\n",
    "\n",
    "# Create the linear regression model\n",
    "model = LinearRegression()\n",
    "\n",
    "# Select at least 10 features and run the Recursive Feature Elimination\n",
    "n_features_to_select = 10\n",
    "rfe = RFE(estimator=model, n_features_to_select=n_features_to_select)\n",
    "rfe.fit(X_train, y_train.values.ravel())\n",
    "rfe_df = pd.DataFrame({'feature': features_pd.columns, 'selected_by_rfe': rfe.support_, 'ranking': rfe.ranking_}).sort_values(by='ranking')\n",
    "\n",
    "rfe_df"
   ]
  }
 ],
 "metadata": {
  "kernelspec": {
   "display_name": "Python 3",
   "language": "python",
   "name": "python3"
  },
  "language_info": {
   "codemirror_mode": {
    "name": "ipython",
    "version": 3
   },
   "file_extension": ".py",
   "mimetype": "text/x-python",
   "name": "python",
   "nbconvert_exporter": "python",
   "pygments_lexer": "ipython3",
   "version": "3.10.11"
  }
 },
 "nbformat": 4,
 "nbformat_minor": 5
}
