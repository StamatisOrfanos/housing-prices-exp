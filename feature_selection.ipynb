{
 "cells": [
  {
   "cell_type": "markdown",
   "id": "daad8f8f",
   "metadata": {},
   "source": [
    "# Feature Selection"
   ]
  },
  {
   "cell_type": "markdown",
   "id": "c2e8a526",
   "metadata": {},
   "source": [
    "### Reproducibility: Setting the seed\n",
    "With the aim to ensure reproducibility between runs of the same notebook, but also between the research and production environment, for each step that includes some element of randomness, it is extremely important that we set the seed"
   ]
  },
  {
   "cell_type": "markdown",
   "id": "2d3b8880",
   "metadata": {},
   "source": [
    "---"
   ]
  },
  {
   "cell_type": "code",
   "execution_count": 1,
   "id": "3d8036e4",
   "metadata": {},
   "outputs": [],
   "source": [
    "# Import Libraries\n",
    "import polars as pl\n",
    "import pandas as pd\n",
    "import numpy as np\n",
    "import matplotlib.pyplot as plt\n",
    "from sklearn.linear_model import Lasso\n",
    "from sklearn.feature_selection import SelectFromModel, RFE\n",
    "from sklearn.linear_model import LinearRegression\n",
    "from sklearn.model_selection import train_test_split\n",
    "from sklearn.pipeline import make_pipeline"
   ]
  },
  {
   "cell_type": "code",
   "execution_count": 2,
   "id": "7de88a79",
   "metadata": {},
   "outputs": [],
   "source": [
    "# Load the dataset, get features and label\n",
    "data = pl.read_csv('Data/final_data.csv')\n",
    "labels = data.select('SalePrice')\n",
    "features = data.drop('SalePrice')\n",
    "\n",
    "# Convert to pandas DataFrame for sklearn compatibility\n",
    "features_pd = features.to_pandas()\n",
    "labels_pd = labels.to_pandas()\n",
    "\n",
    "# Handle missing values by filling NaNs with the mean of each column\n",
    "features_pd = features_pd.fillna(features_pd.mean())\n",
    "labels_pd = labels_pd.fillna(labels_pd.mean())\n",
    "\n",
    "# Train RandomForest and get the feature importance\n",
    "X_train, X_test, y_train, y_test = train_test_split(features_pd, labels_pd, test_size=0.1, random_state=26)\n",
    "\n",
    "# Create the linear regression model\n",
    "model = LinearRegression()\n",
    "\n",
    "# Select at least 10 features and run the Recursive Feature Elimination\n",
    "n_features_to_select = 10\n",
    "rfe = RFE(estimator=model, n_features_to_select=n_features_to_select)\n",
    "rfe.fit(X_train, y_train.values.ravel())\n",
    "rfe_df = pd.DataFrame({'feature': features_pd.columns, 'selected_by_rfe': rfe.support_, 'ranking': rfe.ranking_}).sort_values(by='ranking')\n",
    "\n",
    "rfe_df.to_csv('Data/features_selected.csv')"
   ]
  }
 ],
 "metadata": {
  "kernelspec": {
   "display_name": "Python 3",
   "language": "python",
   "name": "python3"
  },
  "language_info": {
   "codemirror_mode": {
    "name": "ipython",
    "version": 3
   },
   "file_extension": ".py",
   "mimetype": "text/x-python",
   "name": "python",
   "nbconvert_exporter": "python",
   "pygments_lexer": "ipython3",
   "version": "3.10.11"
  }
 },
 "nbformat": 4,
 "nbformat_minor": 5
}
