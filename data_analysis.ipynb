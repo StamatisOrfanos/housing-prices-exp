{
 "cells": [
  {
   "cell_type": "markdown",
   "id": "c92570eb",
   "metadata": {},
   "source": [
    "# Housing Prices Prediction"
   ]
  },
  {
   "cell_type": "markdown",
   "id": "3a589c6c",
   "metadata": {},
   "source": [
    "#### Machine Learning Pipeline - Data Analysis\n",
    "\n",
    "**Predicting Sale Price of Houses**\n",
    "The aim of the project is to build a machine learning model to predict the sale price of homes based on different explanatory variables describing aspects of residential houses.\n",
    "We aim to minimize the difference between the real price and the price estimated by our model. We will evaluate model performance with the:\n",
    "- mean squared error (mse)\n",
    "- root squared of the mean squared error (rmse)\n",
    "- r-squared (r2)\n",
    "\n"
   ]
  },
  {
   "cell_type": "markdown",
   "id": "98a2da76",
   "metadata": {},
   "source": [
    "## Data Analysis"
   ]
  },
  {
   "cell_type": "code",
   "execution_count": 40,
   "id": "cc2b5d43",
   "metadata": {},
   "outputs": [
    {
     "data": {
      "text/html": [
       "<script type=\"esms-options\">{\"shimMode\": true}</script><style>*[data-root-id],\n",
       "*[data-root-id] > * {\n",
       "  box-sizing: border-box;\n",
       "  font-family: var(--jp-ui-font-family);\n",
       "  font-size: var(--jp-ui-font-size1);\n",
       "  color: var(--vscode-editor-foreground, var(--jp-ui-font-color1));\n",
       "}\n",
       "\n",
       "/* Override VSCode background color */\n",
       ".cell-output-ipywidget-background:has(\n",
       "    > .cell-output-ipywidget-background > .lm-Widget > *[data-root-id]\n",
       "  ),\n",
       ".cell-output-ipywidget-background:has(> .lm-Widget > *[data-root-id]) {\n",
       "  background-color: transparent !important;\n",
       "}\n",
       "</style>"
      ]
     },
     "metadata": {},
     "output_type": "display_data"
    },
    {
     "data": {
      "application/javascript": "(function(root) {\n  function now() {\n    return new Date();\n  }\n\n  const force = true;\n  const py_version = '3.7.3'.replace('rc', '-rc.').replace('.dev', '-dev.');\n  const reloading = false;\n  const Bokeh = root.Bokeh;\n\n  // Set a timeout for this load but only if we are not already initializing\n  if (typeof (root._bokeh_timeout) === \"undefined\" || (force || !root._bokeh_is_initializing)) {\n    root._bokeh_timeout = Date.now() + 5000;\n    root._bokeh_failed_load = false;\n  }\n\n  function run_callbacks() {\n    try {\n      root._bokeh_onload_callbacks.forEach(function(callback) {\n        if (callback != null)\n          callback();\n      });\n    } finally {\n      delete root._bokeh_onload_callbacks;\n    }\n    console.debug(\"Bokeh: all callbacks have finished\");\n  }\n\n  function load_libs(css_urls, js_urls, js_modules, js_exports, callback) {\n    if (css_urls == null) css_urls = [];\n    if (js_urls == null) js_urls = [];\n    if (js_modules == null) js_modules = [];\n    if (js_exports == null) js_exports = {};\n\n    root._bokeh_onload_callbacks.push(callback);\n\n    if (root._bokeh_is_loading > 0) {\n      // Don't load bokeh if it is still initializing\n      console.debug(\"Bokeh: BokehJS is being loaded, scheduling callback at\", now());\n      return null;\n    } else if (js_urls.length === 0 && js_modules.length === 0 && Object.keys(js_exports).length === 0) {\n      // There is nothing to load\n      run_callbacks();\n      return null;\n    }\n\n    function on_load() {\n      root._bokeh_is_loading--;\n      if (root._bokeh_is_loading === 0) {\n        console.debug(\"Bokeh: all BokehJS libraries/stylesheets loaded\");\n        run_callbacks()\n      }\n    }\n    window._bokeh_on_load = on_load\n\n    function on_error(e) {\n      const src_el = e.srcElement\n      console.error(\"failed to load \" + (src_el.href || src_el.src));\n    }\n\n    const skip = [];\n    if (window.requirejs) {\n      window.requirejs.config({'packages': {}, 'paths': {}, 'shim': {}});\n      root._bokeh_is_loading = css_urls.length + 0;\n    } else {\n      root._bokeh_is_loading = css_urls.length + js_urls.length + js_modules.length + Object.keys(js_exports).length;\n    }\n\n    const existing_stylesheets = []\n    const links = document.getElementsByTagName('link')\n    for (let i = 0; i < links.length; i++) {\n      const link = links[i]\n      if (link.href != null) {\n        existing_stylesheets.push(link.href)\n      }\n    }\n    for (let i = 0; i < css_urls.length; i++) {\n      const url = css_urls[i];\n      const escaped = encodeURI(url)\n      if (existing_stylesheets.indexOf(escaped) !== -1) {\n        on_load()\n        continue;\n      }\n      const element = document.createElement(\"link\");\n      element.onload = on_load;\n      element.onerror = on_error;\n      element.rel = \"stylesheet\";\n      element.type = \"text/css\";\n      element.href = url;\n      console.debug(\"Bokeh: injecting link tag for BokehJS stylesheet: \", url);\n      document.body.appendChild(element);\n    }    var existing_scripts = []\n    const scripts = document.getElementsByTagName('script')\n    for (let i = 0; i < scripts.length; i++) {\n      var script = scripts[i]\n      if (script.src != null) {\n        existing_scripts.push(script.src)\n      }\n    }\n    for (let i = 0; i < js_urls.length; i++) {\n      const url = js_urls[i];\n      const escaped = encodeURI(url)\n      if (skip.indexOf(escaped) !== -1 || existing_scripts.indexOf(escaped) !== -1) {\n        if (!window.requirejs) {\n          on_load();\n        }\n        continue;\n      }\n      const element = document.createElement('script');\n      element.onload = on_load;\n      element.onerror = on_error;\n      element.async = false;\n      element.src = url;\n      console.debug(\"Bokeh: injecting script tag for BokehJS library: \", url);\n      document.head.appendChild(element);\n    }\n    for (let i = 0; i < js_modules.length; i++) {\n      const url = js_modules[i];\n      const escaped = encodeURI(url)\n      if (skip.indexOf(escaped) !== -1 || existing_scripts.indexOf(escaped) !== -1) {\n        if (!window.requirejs) {\n          on_load();\n        }\n        continue;\n      }\n      var element = document.createElement('script');\n      element.onload = on_load;\n      element.onerror = on_error;\n      element.async = false;\n      element.src = url;\n      element.type = \"module\";\n      console.debug(\"Bokeh: injecting script tag for BokehJS library: \", url);\n      document.head.appendChild(element);\n    }\n    for (const name in js_exports) {\n      const url = js_exports[name];\n      const escaped = encodeURI(url)\n      if (skip.indexOf(escaped) >= 0 || root[name] != null) {\n        if (!window.requirejs) {\n          on_load();\n        }\n        continue;\n      }\n      var element = document.createElement('script');\n      element.onerror = on_error;\n      element.async = false;\n      element.type = \"module\";\n      console.debug(\"Bokeh: injecting script tag for BokehJS library: \", url);\n      element.textContent = `\n      import ${name} from \"${url}\"\n      window.${name} = ${name}\n      window._bokeh_on_load()\n      `\n      document.head.appendChild(element);\n    }\n    if (!js_urls.length && !js_modules.length) {\n      on_load()\n    }\n  };\n\n  function inject_raw_css(css) {\n    const element = document.createElement(\"style\");\n    element.appendChild(document.createTextNode(css));\n    document.body.appendChild(element);\n  }\n\n  const js_urls = [\"https://cdn.holoviz.org/panel/1.7.1/dist/bundled/reactiveesm/es-module-shims@^1.10.0/dist/es-module-shims.min.js\", \"https://cdn.bokeh.org/bokeh/release/bokeh-3.7.3.min.js\", \"https://cdn.bokeh.org/bokeh/release/bokeh-gl-3.7.3.min.js\", \"https://cdn.bokeh.org/bokeh/release/bokeh-widgets-3.7.3.min.js\", \"https://cdn.bokeh.org/bokeh/release/bokeh-tables-3.7.3.min.js\", \"https://cdn.holoviz.org/panel/1.7.1/dist/panel.min.js\"];\n  const js_modules = [];\n  const js_exports = {};\n  const css_urls = [];\n  const inline_js = [    function(Bokeh) {\n      Bokeh.set_log_level(\"info\");\n    },\nfunction(Bokeh) {} // ensure no trailing comma for IE\n  ];\n\n  function run_inline_js() {\n    if ((root.Bokeh !== undefined) || (force === true)) {\n      for (let i = 0; i < inline_js.length; i++) {\n        try {\n          inline_js[i].call(root, root.Bokeh);\n        } catch(e) {\n          if (!reloading) {\n            throw e;\n          }\n        }\n      }\n      // Cache old bokeh versions\n      if (Bokeh != undefined && !reloading) {\n        var NewBokeh = root.Bokeh;\n        if (Bokeh.versions === undefined) {\n          Bokeh.versions = new Map();\n        }\n        if (NewBokeh.version !== Bokeh.version) {\n          Bokeh.versions.set(NewBokeh.version, NewBokeh)\n        }\n        root.Bokeh = Bokeh;\n      }\n    } else if (Date.now() < root._bokeh_timeout) {\n      setTimeout(run_inline_js, 100);\n    } else if (!root._bokeh_failed_load) {\n      console.log(\"Bokeh: BokehJS failed to load within specified timeout.\");\n      root._bokeh_failed_load = true;\n    }\n    root._bokeh_is_initializing = false\n  }\n\n  function load_or_wait() {\n    // Implement a backoff loop that tries to ensure we do not load multiple\n    // versions of Bokeh and its dependencies at the same time.\n    // In recent versions we use the root._bokeh_is_initializing flag\n    // to determine whether there is an ongoing attempt to initialize\n    // bokeh, however for backward compatibility we also try to ensure\n    // that we do not start loading a newer (Panel>=1.0 and Bokeh>3) version\n    // before older versions are fully initialized.\n    if (root._bokeh_is_initializing && Date.now() > root._bokeh_timeout) {\n      // If the timeout and bokeh was not successfully loaded we reset\n      // everything and try loading again\n      root._bokeh_timeout = Date.now() + 5000;\n      root._bokeh_is_initializing = false;\n      root._bokeh_onload_callbacks = undefined;\n      root._bokeh_is_loading = 0\n      console.log(\"Bokeh: BokehJS was loaded multiple times but one version failed to initialize.\");\n      load_or_wait();\n    } else if (root._bokeh_is_initializing || (typeof root._bokeh_is_initializing === \"undefined\" && root._bokeh_onload_callbacks !== undefined)) {\n      setTimeout(load_or_wait, 100);\n    } else {\n      root._bokeh_is_initializing = true\n      root._bokeh_onload_callbacks = []\n      const bokeh_loaded = root.Bokeh != null && (root.Bokeh.version === py_version || (root.Bokeh.versions !== undefined && root.Bokeh.versions.has(py_version)));\n      if (!reloading && !bokeh_loaded) {\n        if (root.Bokeh) {\n          root.Bokeh = undefined;\n        }\n        console.debug(\"Bokeh: BokehJS not loaded, scheduling load and callback at\", now());\n      }\n      load_libs(css_urls, js_urls, js_modules, js_exports, function() {\n        console.debug(\"Bokeh: BokehJS plotting callback run at\", now());\n        run_inline_js();\n      });\n    }\n  }\n  // Give older versions of the autoload script a head-start to ensure\n  // they initialize before we start loading newer version.\n  setTimeout(load_or_wait, 100)\n}(window));",
      "application/vnd.holoviews_load.v0+json": ""
     },
     "metadata": {},
     "output_type": "display_data"
    },
    {
     "data": {
      "application/javascript": "\nif ((window.PyViz === undefined) || (window.PyViz instanceof HTMLElement)) {\n  window.PyViz = {comms: {}, comm_status:{}, kernels:{}, receivers: {}, plot_index: []}\n}\n\n\n    function JupyterCommManager() {\n    }\n\n    JupyterCommManager.prototype.register_target = function(plot_id, comm_id, msg_handler) {\n      if (window.comm_manager || ((window.Jupyter !== undefined) && (Jupyter.notebook.kernel != null))) {\n        var comm_manager = window.comm_manager || Jupyter.notebook.kernel.comm_manager;\n        comm_manager.register_target(comm_id, function(comm) {\n          comm.on_msg(msg_handler);\n        });\n      } else if ((plot_id in window.PyViz.kernels) && (window.PyViz.kernels[plot_id])) {\n        window.PyViz.kernels[plot_id].registerCommTarget(comm_id, function(comm) {\n          comm.onMsg = msg_handler;\n        });\n      } else if (typeof google != 'undefined' && google.colab.kernel != null) {\n        google.colab.kernel.comms.registerTarget(comm_id, (comm) => {\n          var messages = comm.messages[Symbol.asyncIterator]();\n          function processIteratorResult(result) {\n            var message = result.value;\n            var content = {data: message.data, comm_id};\n            var buffers = []\n            for (var buffer of message.buffers || []) {\n              buffers.push(new DataView(buffer))\n            }\n            var metadata = message.metadata || {};\n            var msg = {content, buffers, metadata}\n            msg_handler(msg);\n            return messages.next().then(processIteratorResult);\n          }\n          return messages.next().then(processIteratorResult);\n        })\n      }\n    }\n\n    JupyterCommManager.prototype.get_client_comm = function(plot_id, comm_id, msg_handler) {\n      if (comm_id in window.PyViz.comms) {\n        return window.PyViz.comms[comm_id];\n      } else if (window.comm_manager || ((window.Jupyter !== undefined) && (Jupyter.notebook.kernel != null))) {\n        var comm_manager = window.comm_manager || Jupyter.notebook.kernel.comm_manager;\n        var comm = comm_manager.new_comm(comm_id, {}, {}, {}, comm_id);\n        if (msg_handler) {\n          comm.on_msg(msg_handler);\n        }\n      } else if ((plot_id in window.PyViz.kernels) && (window.PyViz.kernels[plot_id])) {\n        var comm = window.PyViz.kernels[plot_id].connectToComm(comm_id);\n        let retries = 0;\n        const open = () => {\n          if (comm.active) {\n            comm.open();\n          } else if (retries > 3) {\n            console.warn('Comm target never activated')\n          } else {\n            retries += 1\n            setTimeout(open, 500)\n          }\n        }\n        if (comm.active) {\n          comm.open();\n        } else {\n          setTimeout(open, 500)\n        }\n        if (msg_handler) {\n          comm.onMsg = msg_handler;\n        }\n      } else if (typeof google != 'undefined' && google.colab.kernel != null) {\n        var comm_promise = google.colab.kernel.comms.open(comm_id)\n        comm_promise.then((comm) => {\n          window.PyViz.comms[comm_id] = comm;\n          if (msg_handler) {\n            var messages = comm.messages[Symbol.asyncIterator]();\n            function processIteratorResult(result) {\n              var message = result.value;\n              var content = {data: message.data};\n              var metadata = message.metadata || {comm_id};\n              var msg = {content, metadata}\n              msg_handler(msg);\n              return messages.next().then(processIteratorResult);\n            }\n            return messages.next().then(processIteratorResult);\n          }\n        })\n        var sendClosure = (data, metadata, buffers, disposeOnDone) => {\n          return comm_promise.then((comm) => {\n            comm.send(data, metadata, buffers, disposeOnDone);\n          });\n        };\n        var comm = {\n          send: sendClosure\n        };\n      }\n      window.PyViz.comms[comm_id] = comm;\n      return comm;\n    }\n    window.PyViz.comm_manager = new JupyterCommManager();\n    \n\n\nvar JS_MIME_TYPE = 'application/javascript';\nvar HTML_MIME_TYPE = 'text/html';\nvar EXEC_MIME_TYPE = 'application/vnd.holoviews_exec.v0+json';\nvar CLASS_NAME = 'output';\n\n/**\n * Render data to the DOM node\n */\nfunction render(props, node) {\n  var div = document.createElement(\"div\");\n  var script = document.createElement(\"script\");\n  node.appendChild(div);\n  node.appendChild(script);\n}\n\n/**\n * Handle when a new output is added\n */\nfunction handle_add_output(event, handle) {\n  var output_area = handle.output_area;\n  var output = handle.output;\n  if ((output.data == undefined) || (!output.data.hasOwnProperty(EXEC_MIME_TYPE))) {\n    return\n  }\n  var id = output.metadata[EXEC_MIME_TYPE][\"id\"];\n  var toinsert = output_area.element.find(\".\" + CLASS_NAME.split(' ')[0]);\n  if (id !== undefined) {\n    var nchildren = toinsert.length;\n    var html_node = toinsert[nchildren-1].children[0];\n    html_node.innerHTML = output.data[HTML_MIME_TYPE];\n    var scripts = [];\n    var nodelist = html_node.querySelectorAll(\"script\");\n    for (var i in nodelist) {\n      if (nodelist.hasOwnProperty(i)) {\n        scripts.push(nodelist[i])\n      }\n    }\n\n    scripts.forEach( function (oldScript) {\n      var newScript = document.createElement(\"script\");\n      var attrs = [];\n      var nodemap = oldScript.attributes;\n      for (var j in nodemap) {\n        if (nodemap.hasOwnProperty(j)) {\n          attrs.push(nodemap[j])\n        }\n      }\n      attrs.forEach(function(attr) { newScript.setAttribute(attr.name, attr.value) });\n      newScript.appendChild(document.createTextNode(oldScript.innerHTML));\n      oldScript.parentNode.replaceChild(newScript, oldScript);\n    });\n    if (JS_MIME_TYPE in output.data) {\n      toinsert[nchildren-1].children[1].textContent = output.data[JS_MIME_TYPE];\n    }\n    output_area._hv_plot_id = id;\n    if ((window.Bokeh !== undefined) && (id in Bokeh.index)) {\n      window.PyViz.plot_index[id] = Bokeh.index[id];\n    } else {\n      window.PyViz.plot_index[id] = null;\n    }\n  } else if (output.metadata[EXEC_MIME_TYPE][\"server_id\"] !== undefined) {\n    var bk_div = document.createElement(\"div\");\n    bk_div.innerHTML = output.data[HTML_MIME_TYPE];\n    var script_attrs = bk_div.children[0].attributes;\n    for (var i = 0; i < script_attrs.length; i++) {\n      toinsert[toinsert.length - 1].childNodes[1].setAttribute(script_attrs[i].name, script_attrs[i].value);\n    }\n    // store reference to server id on output_area\n    output_area._bokeh_server_id = output.metadata[EXEC_MIME_TYPE][\"server_id\"];\n  }\n}\n\n/**\n * Handle when an output is cleared or removed\n */\nfunction handle_clear_output(event, handle) {\n  var id = handle.cell.output_area._hv_plot_id;\n  var server_id = handle.cell.output_area._bokeh_server_id;\n  if (((id === undefined) || !(id in PyViz.plot_index)) && (server_id !== undefined)) { return; }\n  var comm = window.PyViz.comm_manager.get_client_comm(\"hv-extension-comm\", \"hv-extension-comm\", function () {});\n  if (server_id !== null) {\n    comm.send({event_type: 'server_delete', 'id': server_id});\n    return;\n  } else if (comm !== null) {\n    comm.send({event_type: 'delete', 'id': id});\n  }\n  delete PyViz.plot_index[id];\n  if ((window.Bokeh !== undefined) & (id in window.Bokeh.index)) {\n    var doc = window.Bokeh.index[id].model.document\n    doc.clear();\n    const i = window.Bokeh.documents.indexOf(doc);\n    if (i > -1) {\n      window.Bokeh.documents.splice(i, 1);\n    }\n  }\n}\n\n/**\n * Handle kernel restart event\n */\nfunction handle_kernel_cleanup(event, handle) {\n  delete PyViz.comms[\"hv-extension-comm\"];\n  window.PyViz.plot_index = {}\n}\n\n/**\n * Handle update_display_data messages\n */\nfunction handle_update_output(event, handle) {\n  handle_clear_output(event, {cell: {output_area: handle.output_area}})\n  handle_add_output(event, handle)\n}\n\nfunction register_renderer(events, OutputArea) {\n  function append_mime(data, metadata, element) {\n    // create a DOM node to render to\n    var toinsert = this.create_output_subarea(\n    metadata,\n    CLASS_NAME,\n    EXEC_MIME_TYPE\n    );\n    this.keyboard_manager.register_events(toinsert);\n    // Render to node\n    var props = {data: data, metadata: metadata[EXEC_MIME_TYPE]};\n    render(props, toinsert[0]);\n    element.append(toinsert);\n    return toinsert\n  }\n\n  events.on('output_added.OutputArea', handle_add_output);\n  events.on('output_updated.OutputArea', handle_update_output);\n  events.on('clear_output.CodeCell', handle_clear_output);\n  events.on('delete.Cell', handle_clear_output);\n  events.on('kernel_ready.Kernel', handle_kernel_cleanup);\n\n  OutputArea.prototype.register_mime_type(EXEC_MIME_TYPE, append_mime, {\n    safe: true,\n    index: 0\n  });\n}\n\nif (window.Jupyter !== undefined) {\n  try {\n    var events = require('base/js/events');\n    var OutputArea = require('notebook/js/outputarea').OutputArea;\n    if (OutputArea.prototype.mime_types().indexOf(EXEC_MIME_TYPE) == -1) {\n      register_renderer(events, OutputArea);\n    }\n  } catch(err) {\n  }\n}\n",
      "application/vnd.holoviews_load.v0+json": ""
     },
     "metadata": {},
     "output_type": "display_data"
    },
    {
     "data": {
      "application/vnd.holoviews_exec.v0+json": "",
      "text/html": [
       "<div id='346822ff-8174-4cf8-bb9b-5856ae8a8bb9'>\n",
       "  <div id=\"b5c9c6ff-5e52-4fa8-bf26-0be364589f87\" data-root-id=\"346822ff-8174-4cf8-bb9b-5856ae8a8bb9\" style=\"display: contents;\"></div>\n",
       "</div>\n",
       "<script type=\"application/javascript\">(function(root) {\n",
       "  var docs_json = {\"88f9cf96-57be-4ced-a1e7-aef410a5d5bc\":{\"version\":\"3.7.3\",\"title\":\"Bokeh Application\",\"roots\":[{\"type\":\"object\",\"name\":\"panel.models.browser.BrowserInfo\",\"id\":\"346822ff-8174-4cf8-bb9b-5856ae8a8bb9\"},{\"type\":\"object\",\"name\":\"panel.models.comm_manager.CommManager\",\"id\":\"8bd8d2a9-1cb3-4ecf-8478-4fde7fb924d2\",\"attributes\":{\"plot_id\":\"346822ff-8174-4cf8-bb9b-5856ae8a8bb9\",\"comm_id\":\"81e3e1685a014b12bbba36253740e455\",\"client_comm_id\":\"9fef278a74fa495695df46fa8999ba84\"}}],\"defs\":[{\"type\":\"model\",\"name\":\"ReactiveHTML1\"},{\"type\":\"model\",\"name\":\"FlexBox1\",\"properties\":[{\"name\":\"align_content\",\"kind\":\"Any\",\"default\":\"flex-start\"},{\"name\":\"align_items\",\"kind\":\"Any\",\"default\":\"flex-start\"},{\"name\":\"flex_direction\",\"kind\":\"Any\",\"default\":\"row\"},{\"name\":\"flex_wrap\",\"kind\":\"Any\",\"default\":\"wrap\"},{\"name\":\"gap\",\"kind\":\"Any\",\"default\":\"\"},{\"name\":\"justify_content\",\"kind\":\"Any\",\"default\":\"flex-start\"}]},{\"type\":\"model\",\"name\":\"FloatPanel1\",\"properties\":[{\"name\":\"config\",\"kind\":\"Any\",\"default\":{\"type\":\"map\"}},{\"name\":\"contained\",\"kind\":\"Any\",\"default\":true},{\"name\":\"position\",\"kind\":\"Any\",\"default\":\"right-top\"},{\"name\":\"offsetx\",\"kind\":\"Any\",\"default\":null},{\"name\":\"offsety\",\"kind\":\"Any\",\"default\":null},{\"name\":\"theme\",\"kind\":\"Any\",\"default\":\"primary\"},{\"name\":\"status\",\"kind\":\"Any\",\"default\":\"normalized\"}]},{\"type\":\"model\",\"name\":\"GridStack1\",\"properties\":[{\"name\":\"ncols\",\"kind\":\"Any\",\"default\":null},{\"name\":\"nrows\",\"kind\":\"Any\",\"default\":null},{\"name\":\"allow_resize\",\"kind\":\"Any\",\"default\":true},{\"name\":\"allow_drag\",\"kind\":\"Any\",\"default\":true},{\"name\":\"state\",\"kind\":\"Any\",\"default\":[]}]},{\"type\":\"model\",\"name\":\"drag1\",\"properties\":[{\"name\":\"slider_width\",\"kind\":\"Any\",\"default\":5},{\"name\":\"slider_color\",\"kind\":\"Any\",\"default\":\"black\"},{\"name\":\"value\",\"kind\":\"Any\",\"default\":50}]},{\"type\":\"model\",\"name\":\"click1\",\"properties\":[{\"name\":\"terminal_output\",\"kind\":\"Any\",\"default\":\"\"},{\"name\":\"debug_name\",\"kind\":\"Any\",\"default\":\"\"},{\"name\":\"clears\",\"kind\":\"Any\",\"default\":0}]},{\"type\":\"model\",\"name\":\"FastWrapper1\",\"properties\":[{\"name\":\"object\",\"kind\":\"Any\",\"default\":null},{\"name\":\"style\",\"kind\":\"Any\",\"default\":null}]},{\"type\":\"model\",\"name\":\"NotificationArea1\",\"properties\":[{\"name\":\"js_events\",\"kind\":\"Any\",\"default\":{\"type\":\"map\"}},{\"name\":\"max_notifications\",\"kind\":\"Any\",\"default\":5},{\"name\":\"notifications\",\"kind\":\"Any\",\"default\":[]},{\"name\":\"position\",\"kind\":\"Any\",\"default\":\"bottom-right\"},{\"name\":\"_clear\",\"kind\":\"Any\",\"default\":0},{\"name\":\"types\",\"kind\":\"Any\",\"default\":[{\"type\":\"map\",\"entries\":[[\"type\",\"warning\"],[\"background\",\"#ffc107\"],[\"icon\",{\"type\":\"map\",\"entries\":[[\"className\",\"fas fa-exclamation-triangle\"],[\"tagName\",\"i\"],[\"color\",\"white\"]]}]]},{\"type\":\"map\",\"entries\":[[\"type\",\"info\"],[\"background\",\"#007bff\"],[\"icon\",{\"type\":\"map\",\"entries\":[[\"className\",\"fas fa-info-circle\"],[\"tagName\",\"i\"],[\"color\",\"white\"]]}]]}]}]},{\"type\":\"model\",\"name\":\"Notification\",\"properties\":[{\"name\":\"background\",\"kind\":\"Any\",\"default\":null},{\"name\":\"duration\",\"kind\":\"Any\",\"default\":3000},{\"name\":\"icon\",\"kind\":\"Any\",\"default\":null},{\"name\":\"message\",\"kind\":\"Any\",\"default\":\"\"},{\"name\":\"notification_type\",\"kind\":\"Any\",\"default\":null},{\"name\":\"_rendered\",\"kind\":\"Any\",\"default\":false},{\"name\":\"_destroyed\",\"kind\":\"Any\",\"default\":false}]},{\"type\":\"model\",\"name\":\"TemplateActions1\",\"properties\":[{\"name\":\"open_modal\",\"kind\":\"Any\",\"default\":0},{\"name\":\"close_modal\",\"kind\":\"Any\",\"default\":0}]},{\"type\":\"model\",\"name\":\"BootstrapTemplateActions1\",\"properties\":[{\"name\":\"open_modal\",\"kind\":\"Any\",\"default\":0},{\"name\":\"close_modal\",\"kind\":\"Any\",\"default\":0}]},{\"type\":\"model\",\"name\":\"TemplateEditor1\",\"properties\":[{\"name\":\"layout\",\"kind\":\"Any\",\"default\":[]}]},{\"type\":\"model\",\"name\":\"MaterialTemplateActions1\",\"properties\":[{\"name\":\"open_modal\",\"kind\":\"Any\",\"default\":0},{\"name\":\"close_modal\",\"kind\":\"Any\",\"default\":0}]},{\"type\":\"model\",\"name\":\"ReactiveESM1\",\"properties\":[{\"name\":\"esm_constants\",\"kind\":\"Any\",\"default\":{\"type\":\"map\"}}]},{\"type\":\"model\",\"name\":\"JSComponent1\",\"properties\":[{\"name\":\"esm_constants\",\"kind\":\"Any\",\"default\":{\"type\":\"map\"}}]},{\"type\":\"model\",\"name\":\"ReactComponent1\",\"properties\":[{\"name\":\"esm_constants\",\"kind\":\"Any\",\"default\":{\"type\":\"map\"}}]},{\"type\":\"model\",\"name\":\"AnyWidgetComponent1\",\"properties\":[{\"name\":\"esm_constants\",\"kind\":\"Any\",\"default\":{\"type\":\"map\"}}]},{\"type\":\"model\",\"name\":\"request_value1\",\"properties\":[{\"name\":\"fill\",\"kind\":\"Any\",\"default\":\"none\"},{\"name\":\"_synced\",\"kind\":\"Any\",\"default\":null},{\"name\":\"_request_sync\",\"kind\":\"Any\",\"default\":0}]}]}};\n",
       "  var render_items = [{\"docid\":\"88f9cf96-57be-4ced-a1e7-aef410a5d5bc\",\"roots\":{\"346822ff-8174-4cf8-bb9b-5856ae8a8bb9\":\"b5c9c6ff-5e52-4fa8-bf26-0be364589f87\"},\"root_ids\":[\"346822ff-8174-4cf8-bb9b-5856ae8a8bb9\"]}];\n",
       "  var docs = Object.values(docs_json)\n",
       "  if (!docs) {\n",
       "    return\n",
       "  }\n",
       "  const py_version = docs[0].version.replace('rc', '-rc.').replace('.dev', '-dev.')\n",
       "  async function embed_document(root) {\n",
       "    var Bokeh = get_bokeh(root)\n",
       "    await Bokeh.embed.embed_items_notebook(docs_json, render_items);\n",
       "    for (const render_item of render_items) {\n",
       "      for (const root_id of render_item.root_ids) {\n",
       "\tconst id_el = document.getElementById(root_id)\n",
       "\tif (id_el.children.length && id_el.children[0].hasAttribute('data-root-id')) {\n",
       "\t  const root_el = id_el.children[0]\n",
       "\t  root_el.id = root_el.id + '-rendered'\n",
       "\t  for (const child of root_el.children) {\n",
       "            // Ensure JupyterLab does not capture keyboard shortcuts\n",
       "            // see: https://jupyterlab.readthedocs.io/en/4.1.x/extension/notebook.html#keyboard-interaction-model\n",
       "\t    child.setAttribute('data-lm-suppress-shortcuts', 'true')\n",
       "\t  }\n",
       "\t}\n",
       "      }\n",
       "    }\n",
       "  }\n",
       "  function get_bokeh(root) {\n",
       "    if (root.Bokeh === undefined) {\n",
       "      return null\n",
       "    } else if (root.Bokeh.version !== py_version) {\n",
       "      if (root.Bokeh.versions === undefined || !root.Bokeh.versions.has(py_version)) {\n",
       "\treturn null\n",
       "      }\n",
       "      return root.Bokeh.versions.get(py_version);\n",
       "    } else if (root.Bokeh.version === py_version) {\n",
       "      return root.Bokeh\n",
       "    }\n",
       "    return null\n",
       "  }\n",
       "  function is_loaded(root) {\n",
       "    var Bokeh = get_bokeh(root)\n",
       "    return (Bokeh != null && Bokeh.Panel !== undefined)\n",
       "  }\n",
       "  if (is_loaded(root)) {\n",
       "    embed_document(root);\n",
       "  } else {\n",
       "    var attempts = 0;\n",
       "    var timer = setInterval(function(root) {\n",
       "      if (is_loaded(root)) {\n",
       "        clearInterval(timer);\n",
       "        embed_document(root);\n",
       "      } else if (document.readyState == \"complete\") {\n",
       "        attempts++;\n",
       "        if (attempts > 200) {\n",
       "          clearInterval(timer);\n",
       "\t  var Bokeh = get_bokeh(root)\n",
       "\t  if (Bokeh == null || Bokeh.Panel == null) {\n",
       "            console.warn(\"Panel: ERROR: Unable to run Panel code because Bokeh or Panel library is missing\");\n",
       "\t  } else {\n",
       "\t    console.warn(\"Panel: WARNING: Attempting to render but not all required libraries could be resolved.\")\n",
       "\t    embed_document(root)\n",
       "\t  }\n",
       "        }\n",
       "      }\n",
       "    }, 25, root)\n",
       "  }\n",
       "})(window);</script>"
      ]
     },
     "metadata": {
      "application/vnd.holoviews_exec.v0+json": {
       "id": "346822ff-8174-4cf8-bb9b-5856ae8a8bb9"
      }
     },
     "output_type": "display_data"
    },
    {
     "data": {
      "text/html": [
       "<script type=\"esms-options\">{\"shimMode\": true}</script><style>*[data-root-id],\n",
       "*[data-root-id] > * {\n",
       "  box-sizing: border-box;\n",
       "  font-family: var(--jp-ui-font-family);\n",
       "  font-size: var(--jp-ui-font-size1);\n",
       "  color: var(--vscode-editor-foreground, var(--jp-ui-font-color1));\n",
       "}\n",
       "\n",
       "/* Override VSCode background color */\n",
       ".cell-output-ipywidget-background:has(\n",
       "    > .cell-output-ipywidget-background > .lm-Widget > *[data-root-id]\n",
       "  ),\n",
       ".cell-output-ipywidget-background:has(> .lm-Widget > *[data-root-id]) {\n",
       "  background-color: transparent !important;\n",
       "}\n",
       "</style>"
      ]
     },
     "metadata": {},
     "output_type": "display_data"
    },
    {
     "data": {
      "application/javascript": "(function(root) {\n  function now() {\n    return new Date();\n  }\n\n  const force = false;\n  const py_version = '3.7.3'.replace('rc', '-rc.').replace('.dev', '-dev.');\n  const reloading = true;\n  const Bokeh = root.Bokeh;\n\n  // Set a timeout for this load but only if we are not already initializing\n  if (typeof (root._bokeh_timeout) === \"undefined\" || (force || !root._bokeh_is_initializing)) {\n    root._bokeh_timeout = Date.now() + 5000;\n    root._bokeh_failed_load = false;\n  }\n\n  function run_callbacks() {\n    try {\n      root._bokeh_onload_callbacks.forEach(function(callback) {\n        if (callback != null)\n          callback();\n      });\n    } finally {\n      delete root._bokeh_onload_callbacks;\n    }\n    console.debug(\"Bokeh: all callbacks have finished\");\n  }\n\n  function load_libs(css_urls, js_urls, js_modules, js_exports, callback) {\n    if (css_urls == null) css_urls = [];\n    if (js_urls == null) js_urls = [];\n    if (js_modules == null) js_modules = [];\n    if (js_exports == null) js_exports = {};\n\n    root._bokeh_onload_callbacks.push(callback);\n\n    if (root._bokeh_is_loading > 0) {\n      // Don't load bokeh if it is still initializing\n      console.debug(\"Bokeh: BokehJS is being loaded, scheduling callback at\", now());\n      return null;\n    } else if (js_urls.length === 0 && js_modules.length === 0 && Object.keys(js_exports).length === 0) {\n      // There is nothing to load\n      run_callbacks();\n      return null;\n    }\n\n    function on_load() {\n      root._bokeh_is_loading--;\n      if (root._bokeh_is_loading === 0) {\n        console.debug(\"Bokeh: all BokehJS libraries/stylesheets loaded\");\n        run_callbacks()\n      }\n    }\n    window._bokeh_on_load = on_load\n\n    function on_error(e) {\n      const src_el = e.srcElement\n      console.error(\"failed to load \" + (src_el.href || src_el.src));\n    }\n\n    const skip = [];\n    if (window.requirejs) {\n      window.requirejs.config({'packages': {}, 'paths': {}, 'shim': {}});\n      root._bokeh_is_loading = css_urls.length + 0;\n    } else {\n      root._bokeh_is_loading = css_urls.length + js_urls.length + js_modules.length + Object.keys(js_exports).length;\n    }\n\n    const existing_stylesheets = []\n    const links = document.getElementsByTagName('link')\n    for (let i = 0; i < links.length; i++) {\n      const link = links[i]\n      if (link.href != null) {\n        existing_stylesheets.push(link.href)\n      }\n    }\n    for (let i = 0; i < css_urls.length; i++) {\n      const url = css_urls[i];\n      const escaped = encodeURI(url)\n      if (existing_stylesheets.indexOf(escaped) !== -1) {\n        on_load()\n        continue;\n      }\n      const element = document.createElement(\"link\");\n      element.onload = on_load;\n      element.onerror = on_error;\n      element.rel = \"stylesheet\";\n      element.type = \"text/css\";\n      element.href = url;\n      console.debug(\"Bokeh: injecting link tag for BokehJS stylesheet: \", url);\n      document.body.appendChild(element);\n    }    var existing_scripts = []\n    const scripts = document.getElementsByTagName('script')\n    for (let i = 0; i < scripts.length; i++) {\n      var script = scripts[i]\n      if (script.src != null) {\n        existing_scripts.push(script.src)\n      }\n    }\n    for (let i = 0; i < js_urls.length; i++) {\n      const url = js_urls[i];\n      const escaped = encodeURI(url)\n      if (skip.indexOf(escaped) !== -1 || existing_scripts.indexOf(escaped) !== -1) {\n        if (!window.requirejs) {\n          on_load();\n        }\n        continue;\n      }\n      const element = document.createElement('script');\n      element.onload = on_load;\n      element.onerror = on_error;\n      element.async = false;\n      element.src = url;\n      console.debug(\"Bokeh: injecting script tag for BokehJS library: \", url);\n      document.head.appendChild(element);\n    }\n    for (let i = 0; i < js_modules.length; i++) {\n      const url = js_modules[i];\n      const escaped = encodeURI(url)\n      if (skip.indexOf(escaped) !== -1 || existing_scripts.indexOf(escaped) !== -1) {\n        if (!window.requirejs) {\n          on_load();\n        }\n        continue;\n      }\n      var element = document.createElement('script');\n      element.onload = on_load;\n      element.onerror = on_error;\n      element.async = false;\n      element.src = url;\n      element.type = \"module\";\n      console.debug(\"Bokeh: injecting script tag for BokehJS library: \", url);\n      document.head.appendChild(element);\n    }\n    for (const name in js_exports) {\n      const url = js_exports[name];\n      const escaped = encodeURI(url)\n      if (skip.indexOf(escaped) >= 0 || root[name] != null) {\n        if (!window.requirejs) {\n          on_load();\n        }\n        continue;\n      }\n      var element = document.createElement('script');\n      element.onerror = on_error;\n      element.async = false;\n      element.type = \"module\";\n      console.debug(\"Bokeh: injecting script tag for BokehJS library: \", url);\n      element.textContent = `\n      import ${name} from \"${url}\"\n      window.${name} = ${name}\n      window._bokeh_on_load()\n      `\n      document.head.appendChild(element);\n    }\n    if (!js_urls.length && !js_modules.length) {\n      on_load()\n    }\n  };\n\n  function inject_raw_css(css) {\n    const element = document.createElement(\"style\");\n    element.appendChild(document.createTextNode(css));\n    document.body.appendChild(element);\n  }\n\n  const js_urls = [\"https://cdn.holoviz.org/panel/1.7.1/dist/bundled/reactiveesm/es-module-shims@^1.10.0/dist/es-module-shims.min.js\"];\n  const js_modules = [];\n  const js_exports = {};\n  const css_urls = [];\n  const inline_js = [    function(Bokeh) {\n      Bokeh.set_log_level(\"info\");\n    },\nfunction(Bokeh) {} // ensure no trailing comma for IE\n  ];\n\n  function run_inline_js() {\n    if ((root.Bokeh !== undefined) || (force === true)) {\n      for (let i = 0; i < inline_js.length; i++) {\n        try {\n          inline_js[i].call(root, root.Bokeh);\n        } catch(e) {\n          if (!reloading) {\n            throw e;\n          }\n        }\n      }\n      // Cache old bokeh versions\n      if (Bokeh != undefined && !reloading) {\n        var NewBokeh = root.Bokeh;\n        if (Bokeh.versions === undefined) {\n          Bokeh.versions = new Map();\n        }\n        if (NewBokeh.version !== Bokeh.version) {\n          Bokeh.versions.set(NewBokeh.version, NewBokeh)\n        }\n        root.Bokeh = Bokeh;\n      }\n    } else if (Date.now() < root._bokeh_timeout) {\n      setTimeout(run_inline_js, 100);\n    } else if (!root._bokeh_failed_load) {\n      console.log(\"Bokeh: BokehJS failed to load within specified timeout.\");\n      root._bokeh_failed_load = true;\n    }\n    root._bokeh_is_initializing = false\n  }\n\n  function load_or_wait() {\n    // Implement a backoff loop that tries to ensure we do not load multiple\n    // versions of Bokeh and its dependencies at the same time.\n    // In recent versions we use the root._bokeh_is_initializing flag\n    // to determine whether there is an ongoing attempt to initialize\n    // bokeh, however for backward compatibility we also try to ensure\n    // that we do not start loading a newer (Panel>=1.0 and Bokeh>3) version\n    // before older versions are fully initialized.\n    if (root._bokeh_is_initializing && Date.now() > root._bokeh_timeout) {\n      // If the timeout and bokeh was not successfully loaded we reset\n      // everything and try loading again\n      root._bokeh_timeout = Date.now() + 5000;\n      root._bokeh_is_initializing = false;\n      root._bokeh_onload_callbacks = undefined;\n      root._bokeh_is_loading = 0\n      console.log(\"Bokeh: BokehJS was loaded multiple times but one version failed to initialize.\");\n      load_or_wait();\n    } else if (root._bokeh_is_initializing || (typeof root._bokeh_is_initializing === \"undefined\" && root._bokeh_onload_callbacks !== undefined)) {\n      setTimeout(load_or_wait, 100);\n    } else {\n      root._bokeh_is_initializing = true\n      root._bokeh_onload_callbacks = []\n      const bokeh_loaded = root.Bokeh != null && (root.Bokeh.version === py_version || (root.Bokeh.versions !== undefined && root.Bokeh.versions.has(py_version)));\n      if (!reloading && !bokeh_loaded) {\n        if (root.Bokeh) {\n          root.Bokeh = undefined;\n        }\n        console.debug(\"Bokeh: BokehJS not loaded, scheduling load and callback at\", now());\n      }\n      load_libs(css_urls, js_urls, js_modules, js_exports, function() {\n        console.debug(\"Bokeh: BokehJS plotting callback run at\", now());\n        run_inline_js();\n      });\n    }\n  }\n  // Give older versions of the autoload script a head-start to ensure\n  // they initialize before we start loading newer version.\n  setTimeout(load_or_wait, 100)\n}(window));",
      "application/vnd.holoviews_load.v0+json": ""
     },
     "metadata": {},
     "output_type": "display_data"
    },
    {
     "data": {
      "application/javascript": "\nif ((window.PyViz === undefined) || (window.PyViz instanceof HTMLElement)) {\n  window.PyViz = {comms: {}, comm_status:{}, kernels:{}, receivers: {}, plot_index: []}\n}\n\n\n    function JupyterCommManager() {\n    }\n\n    JupyterCommManager.prototype.register_target = function(plot_id, comm_id, msg_handler) {\n      if (window.comm_manager || ((window.Jupyter !== undefined) && (Jupyter.notebook.kernel != null))) {\n        var comm_manager = window.comm_manager || Jupyter.notebook.kernel.comm_manager;\n        comm_manager.register_target(comm_id, function(comm) {\n          comm.on_msg(msg_handler);\n        });\n      } else if ((plot_id in window.PyViz.kernels) && (window.PyViz.kernels[plot_id])) {\n        window.PyViz.kernels[plot_id].registerCommTarget(comm_id, function(comm) {\n          comm.onMsg = msg_handler;\n        });\n      } else if (typeof google != 'undefined' && google.colab.kernel != null) {\n        google.colab.kernel.comms.registerTarget(comm_id, (comm) => {\n          var messages = comm.messages[Symbol.asyncIterator]();\n          function processIteratorResult(result) {\n            var message = result.value;\n            var content = {data: message.data, comm_id};\n            var buffers = []\n            for (var buffer of message.buffers || []) {\n              buffers.push(new DataView(buffer))\n            }\n            var metadata = message.metadata || {};\n            var msg = {content, buffers, metadata}\n            msg_handler(msg);\n            return messages.next().then(processIteratorResult);\n          }\n          return messages.next().then(processIteratorResult);\n        })\n      }\n    }\n\n    JupyterCommManager.prototype.get_client_comm = function(plot_id, comm_id, msg_handler) {\n      if (comm_id in window.PyViz.comms) {\n        return window.PyViz.comms[comm_id];\n      } else if (window.comm_manager || ((window.Jupyter !== undefined) && (Jupyter.notebook.kernel != null))) {\n        var comm_manager = window.comm_manager || Jupyter.notebook.kernel.comm_manager;\n        var comm = comm_manager.new_comm(comm_id, {}, {}, {}, comm_id);\n        if (msg_handler) {\n          comm.on_msg(msg_handler);\n        }\n      } else if ((plot_id in window.PyViz.kernels) && (window.PyViz.kernels[plot_id])) {\n        var comm = window.PyViz.kernels[plot_id].connectToComm(comm_id);\n        let retries = 0;\n        const open = () => {\n          if (comm.active) {\n            comm.open();\n          } else if (retries > 3) {\n            console.warn('Comm target never activated')\n          } else {\n            retries += 1\n            setTimeout(open, 500)\n          }\n        }\n        if (comm.active) {\n          comm.open();\n        } else {\n          setTimeout(open, 500)\n        }\n        if (msg_handler) {\n          comm.onMsg = msg_handler;\n        }\n      } else if (typeof google != 'undefined' && google.colab.kernel != null) {\n        var comm_promise = google.colab.kernel.comms.open(comm_id)\n        comm_promise.then((comm) => {\n          window.PyViz.comms[comm_id] = comm;\n          if (msg_handler) {\n            var messages = comm.messages[Symbol.asyncIterator]();\n            function processIteratorResult(result) {\n              var message = result.value;\n              var content = {data: message.data};\n              var metadata = message.metadata || {comm_id};\n              var msg = {content, metadata}\n              msg_handler(msg);\n              return messages.next().then(processIteratorResult);\n            }\n            return messages.next().then(processIteratorResult);\n          }\n        })\n        var sendClosure = (data, metadata, buffers, disposeOnDone) => {\n          return comm_promise.then((comm) => {\n            comm.send(data, metadata, buffers, disposeOnDone);\n          });\n        };\n        var comm = {\n          send: sendClosure\n        };\n      }\n      window.PyViz.comms[comm_id] = comm;\n      return comm;\n    }\n    window.PyViz.comm_manager = new JupyterCommManager();\n    \n\n\nvar JS_MIME_TYPE = 'application/javascript';\nvar HTML_MIME_TYPE = 'text/html';\nvar EXEC_MIME_TYPE = 'application/vnd.holoviews_exec.v0+json';\nvar CLASS_NAME = 'output';\n\n/**\n * Render data to the DOM node\n */\nfunction render(props, node) {\n  var div = document.createElement(\"div\");\n  var script = document.createElement(\"script\");\n  node.appendChild(div);\n  node.appendChild(script);\n}\n\n/**\n * Handle when a new output is added\n */\nfunction handle_add_output(event, handle) {\n  var output_area = handle.output_area;\n  var output = handle.output;\n  if ((output.data == undefined) || (!output.data.hasOwnProperty(EXEC_MIME_TYPE))) {\n    return\n  }\n  var id = output.metadata[EXEC_MIME_TYPE][\"id\"];\n  var toinsert = output_area.element.find(\".\" + CLASS_NAME.split(' ')[0]);\n  if (id !== undefined) {\n    var nchildren = toinsert.length;\n    var html_node = toinsert[nchildren-1].children[0];\n    html_node.innerHTML = output.data[HTML_MIME_TYPE];\n    var scripts = [];\n    var nodelist = html_node.querySelectorAll(\"script\");\n    for (var i in nodelist) {\n      if (nodelist.hasOwnProperty(i)) {\n        scripts.push(nodelist[i])\n      }\n    }\n\n    scripts.forEach( function (oldScript) {\n      var newScript = document.createElement(\"script\");\n      var attrs = [];\n      var nodemap = oldScript.attributes;\n      for (var j in nodemap) {\n        if (nodemap.hasOwnProperty(j)) {\n          attrs.push(nodemap[j])\n        }\n      }\n      attrs.forEach(function(attr) { newScript.setAttribute(attr.name, attr.value) });\n      newScript.appendChild(document.createTextNode(oldScript.innerHTML));\n      oldScript.parentNode.replaceChild(newScript, oldScript);\n    });\n    if (JS_MIME_TYPE in output.data) {\n      toinsert[nchildren-1].children[1].textContent = output.data[JS_MIME_TYPE];\n    }\n    output_area._hv_plot_id = id;\n    if ((window.Bokeh !== undefined) && (id in Bokeh.index)) {\n      window.PyViz.plot_index[id] = Bokeh.index[id];\n    } else {\n      window.PyViz.plot_index[id] = null;\n    }\n  } else if (output.metadata[EXEC_MIME_TYPE][\"server_id\"] !== undefined) {\n    var bk_div = document.createElement(\"div\");\n    bk_div.innerHTML = output.data[HTML_MIME_TYPE];\n    var script_attrs = bk_div.children[0].attributes;\n    for (var i = 0; i < script_attrs.length; i++) {\n      toinsert[toinsert.length - 1].childNodes[1].setAttribute(script_attrs[i].name, script_attrs[i].value);\n    }\n    // store reference to server id on output_area\n    output_area._bokeh_server_id = output.metadata[EXEC_MIME_TYPE][\"server_id\"];\n  }\n}\n\n/**\n * Handle when an output is cleared or removed\n */\nfunction handle_clear_output(event, handle) {\n  var id = handle.cell.output_area._hv_plot_id;\n  var server_id = handle.cell.output_area._bokeh_server_id;\n  if (((id === undefined) || !(id in PyViz.plot_index)) && (server_id !== undefined)) { return; }\n  var comm = window.PyViz.comm_manager.get_client_comm(\"hv-extension-comm\", \"hv-extension-comm\", function () {});\n  if (server_id !== null) {\n    comm.send({event_type: 'server_delete', 'id': server_id});\n    return;\n  } else if (comm !== null) {\n    comm.send({event_type: 'delete', 'id': id});\n  }\n  delete PyViz.plot_index[id];\n  if ((window.Bokeh !== undefined) & (id in window.Bokeh.index)) {\n    var doc = window.Bokeh.index[id].model.document\n    doc.clear();\n    const i = window.Bokeh.documents.indexOf(doc);\n    if (i > -1) {\n      window.Bokeh.documents.splice(i, 1);\n    }\n  }\n}\n\n/**\n * Handle kernel restart event\n */\nfunction handle_kernel_cleanup(event, handle) {\n  delete PyViz.comms[\"hv-extension-comm\"];\n  window.PyViz.plot_index = {}\n}\n\n/**\n * Handle update_display_data messages\n */\nfunction handle_update_output(event, handle) {\n  handle_clear_output(event, {cell: {output_area: handle.output_area}})\n  handle_add_output(event, handle)\n}\n\nfunction register_renderer(events, OutputArea) {\n  function append_mime(data, metadata, element) {\n    // create a DOM node to render to\n    var toinsert = this.create_output_subarea(\n    metadata,\n    CLASS_NAME,\n    EXEC_MIME_TYPE\n    );\n    this.keyboard_manager.register_events(toinsert);\n    // Render to node\n    var props = {data: data, metadata: metadata[EXEC_MIME_TYPE]};\n    render(props, toinsert[0]);\n    element.append(toinsert);\n    return toinsert\n  }\n\n  events.on('output_added.OutputArea', handle_add_output);\n  events.on('output_updated.OutputArea', handle_update_output);\n  events.on('clear_output.CodeCell', handle_clear_output);\n  events.on('delete.Cell', handle_clear_output);\n  events.on('kernel_ready.Kernel', handle_kernel_cleanup);\n\n  OutputArea.prototype.register_mime_type(EXEC_MIME_TYPE, append_mime, {\n    safe: true,\n    index: 0\n  });\n}\n\nif (window.Jupyter !== undefined) {\n  try {\n    var events = require('base/js/events');\n    var OutputArea = require('notebook/js/outputarea').OutputArea;\n    if (OutputArea.prototype.mime_types().indexOf(EXEC_MIME_TYPE) == -1) {\n      register_renderer(events, OutputArea);\n    }\n  } catch(err) {\n  }\n}\n",
      "application/vnd.holoviews_load.v0+json": ""
     },
     "metadata": {},
     "output_type": "display_data"
    }
   ],
   "source": [
    "# Import Libraries\n",
    "import polars as pl\n",
    "import numpy as np\n",
    "import matplotlib.pyplot as plt\n",
    "import seaborn as sns\n",
    "import scipy.stats as stats\n",
    "import hvplot.polars\n",
    "import hvplot.pandas\n",
    "import numpy as np\n",
    "from bokeh.models import NumeralTickFormatter"
   ]
  },
  {
   "cell_type": "code",
   "execution_count": 19,
   "id": "2f1d02b1",
   "metadata": {},
   "outputs": [
    {
     "name": "stdout",
     "output_type": "stream",
     "text": [
      "The dataset contains 1460 rows and 80 columns\n"
     ]
    },
    {
     "data": {
      "text/html": [
       "<div><style>\n",
       ".dataframe > thead > tr,\n",
       ".dataframe > tbody > tr {\n",
       "  text-align: right;\n",
       "  white-space: pre-wrap;\n",
       "}\n",
       "</style>\n",
       "<small>shape: (5, 80)</small><table border=\"1\" class=\"dataframe\"><thead><tr><th>MSSubClass</th><th>MSZoning</th><th>LotFrontage</th><th>LotArea</th><th>Street</th><th>Alley</th><th>LotShape</th><th>LandContour</th><th>Utilities</th><th>LotConfig</th><th>LandSlope</th><th>Neighborhood</th><th>Condition1</th><th>Condition2</th><th>BldgType</th><th>HouseStyle</th><th>OverallQual</th><th>OverallCond</th><th>YearBuilt</th><th>YearRemodAdd</th><th>RoofStyle</th><th>RoofMatl</th><th>Exterior1st</th><th>Exterior2nd</th><th>MasVnrType</th><th>MasVnrArea</th><th>ExterQual</th><th>ExterCond</th><th>Foundation</th><th>BsmtQual</th><th>BsmtCond</th><th>BsmtExposure</th><th>BsmtFinType1</th><th>BsmtFinSF1</th><th>BsmtFinType2</th><th>BsmtFinSF2</th><th>BsmtUnfSF</th><th>&hellip;</th><th>2ndFlrSF</th><th>LowQualFinSF</th><th>GrLivArea</th><th>BsmtFullBath</th><th>BsmtHalfBath</th><th>FullBath</th><th>HalfBath</th><th>BedroomAbvGr</th><th>KitchenAbvGr</th><th>KitchenQual</th><th>TotRmsAbvGrd</th><th>Functional</th><th>Fireplaces</th><th>FireplaceQu</th><th>GarageType</th><th>GarageYrBlt</th><th>GarageFinish</th><th>GarageCars</th><th>GarageArea</th><th>GarageQual</th><th>GarageCond</th><th>PavedDrive</th><th>WoodDeckSF</th><th>OpenPorchSF</th><th>EnclosedPorch</th><th>3SsnPorch</th><th>ScreenPorch</th><th>PoolArea</th><th>PoolQC</th><th>Fence</th><th>MiscFeature</th><th>MiscVal</th><th>MoSold</th><th>YrSold</th><th>SaleType</th><th>SaleCondition</th><th>SalePrice</th></tr><tr><td>i64</td><td>str</td><td>i64</td><td>i64</td><td>str</td><td>str</td><td>str</td><td>str</td><td>str</td><td>str</td><td>str</td><td>str</td><td>str</td><td>str</td><td>str</td><td>str</td><td>i64</td><td>i64</td><td>i64</td><td>i64</td><td>str</td><td>str</td><td>str</td><td>str</td><td>str</td><td>i64</td><td>str</td><td>str</td><td>str</td><td>str</td><td>str</td><td>str</td><td>str</td><td>i64</td><td>str</td><td>i64</td><td>i64</td><td>&hellip;</td><td>i64</td><td>i64</td><td>i64</td><td>i64</td><td>i64</td><td>i64</td><td>i64</td><td>i64</td><td>i64</td><td>str</td><td>i64</td><td>str</td><td>i64</td><td>str</td><td>str</td><td>i64</td><td>str</td><td>i64</td><td>i64</td><td>str</td><td>str</td><td>str</td><td>i64</td><td>i64</td><td>i64</td><td>i64</td><td>i64</td><td>i64</td><td>str</td><td>str</td><td>str</td><td>i64</td><td>i64</td><td>i64</td><td>str</td><td>str</td><td>i64</td></tr></thead><tbody><tr><td>60</td><td>&quot;RL&quot;</td><td>65</td><td>8450</td><td>&quot;Pave&quot;</td><td>null</td><td>&quot;Reg&quot;</td><td>&quot;Lvl&quot;</td><td>&quot;AllPub&quot;</td><td>&quot;Inside&quot;</td><td>&quot;Gtl&quot;</td><td>&quot;CollgCr&quot;</td><td>&quot;Norm&quot;</td><td>&quot;Norm&quot;</td><td>&quot;1Fam&quot;</td><td>&quot;2Story&quot;</td><td>7</td><td>5</td><td>2003</td><td>2003</td><td>&quot;Gable&quot;</td><td>&quot;CompShg&quot;</td><td>&quot;VinylSd&quot;</td><td>&quot;VinylSd&quot;</td><td>&quot;BrkFace&quot;</td><td>196</td><td>&quot;Gd&quot;</td><td>&quot;TA&quot;</td><td>&quot;PConc&quot;</td><td>&quot;Gd&quot;</td><td>&quot;TA&quot;</td><td>&quot;No&quot;</td><td>&quot;GLQ&quot;</td><td>706</td><td>&quot;Unf&quot;</td><td>0</td><td>150</td><td>&hellip;</td><td>854</td><td>0</td><td>1710</td><td>1</td><td>0</td><td>2</td><td>1</td><td>3</td><td>1</td><td>&quot;Gd&quot;</td><td>8</td><td>&quot;Typ&quot;</td><td>0</td><td>null</td><td>&quot;Attchd&quot;</td><td>2003</td><td>&quot;RFn&quot;</td><td>2</td><td>548</td><td>&quot;TA&quot;</td><td>&quot;TA&quot;</td><td>&quot;Y&quot;</td><td>0</td><td>61</td><td>0</td><td>0</td><td>0</td><td>0</td><td>null</td><td>null</td><td>null</td><td>0</td><td>2</td><td>2008</td><td>&quot;WD&quot;</td><td>&quot;Normal&quot;</td><td>208500</td></tr><tr><td>20</td><td>&quot;RL&quot;</td><td>80</td><td>9600</td><td>&quot;Pave&quot;</td><td>null</td><td>&quot;Reg&quot;</td><td>&quot;Lvl&quot;</td><td>&quot;AllPub&quot;</td><td>&quot;FR2&quot;</td><td>&quot;Gtl&quot;</td><td>&quot;Veenker&quot;</td><td>&quot;Feedr&quot;</td><td>&quot;Norm&quot;</td><td>&quot;1Fam&quot;</td><td>&quot;1Story&quot;</td><td>6</td><td>8</td><td>1976</td><td>1976</td><td>&quot;Gable&quot;</td><td>&quot;CompShg&quot;</td><td>&quot;MetalSd&quot;</td><td>&quot;MetalSd&quot;</td><td>&quot;None&quot;</td><td>0</td><td>&quot;TA&quot;</td><td>&quot;TA&quot;</td><td>&quot;CBlock&quot;</td><td>&quot;Gd&quot;</td><td>&quot;TA&quot;</td><td>&quot;Gd&quot;</td><td>&quot;ALQ&quot;</td><td>978</td><td>&quot;Unf&quot;</td><td>0</td><td>284</td><td>&hellip;</td><td>0</td><td>0</td><td>1262</td><td>0</td><td>1</td><td>2</td><td>0</td><td>3</td><td>1</td><td>&quot;TA&quot;</td><td>6</td><td>&quot;Typ&quot;</td><td>1</td><td>&quot;TA&quot;</td><td>&quot;Attchd&quot;</td><td>1976</td><td>&quot;RFn&quot;</td><td>2</td><td>460</td><td>&quot;TA&quot;</td><td>&quot;TA&quot;</td><td>&quot;Y&quot;</td><td>298</td><td>0</td><td>0</td><td>0</td><td>0</td><td>0</td><td>null</td><td>null</td><td>null</td><td>0</td><td>5</td><td>2007</td><td>&quot;WD&quot;</td><td>&quot;Normal&quot;</td><td>181500</td></tr><tr><td>60</td><td>&quot;RL&quot;</td><td>68</td><td>11250</td><td>&quot;Pave&quot;</td><td>null</td><td>&quot;IR1&quot;</td><td>&quot;Lvl&quot;</td><td>&quot;AllPub&quot;</td><td>&quot;Inside&quot;</td><td>&quot;Gtl&quot;</td><td>&quot;CollgCr&quot;</td><td>&quot;Norm&quot;</td><td>&quot;Norm&quot;</td><td>&quot;1Fam&quot;</td><td>&quot;2Story&quot;</td><td>7</td><td>5</td><td>2001</td><td>2002</td><td>&quot;Gable&quot;</td><td>&quot;CompShg&quot;</td><td>&quot;VinylSd&quot;</td><td>&quot;VinylSd&quot;</td><td>&quot;BrkFace&quot;</td><td>162</td><td>&quot;Gd&quot;</td><td>&quot;TA&quot;</td><td>&quot;PConc&quot;</td><td>&quot;Gd&quot;</td><td>&quot;TA&quot;</td><td>&quot;Mn&quot;</td><td>&quot;GLQ&quot;</td><td>486</td><td>&quot;Unf&quot;</td><td>0</td><td>434</td><td>&hellip;</td><td>866</td><td>0</td><td>1786</td><td>1</td><td>0</td><td>2</td><td>1</td><td>3</td><td>1</td><td>&quot;Gd&quot;</td><td>6</td><td>&quot;Typ&quot;</td><td>1</td><td>&quot;TA&quot;</td><td>&quot;Attchd&quot;</td><td>2001</td><td>&quot;RFn&quot;</td><td>2</td><td>608</td><td>&quot;TA&quot;</td><td>&quot;TA&quot;</td><td>&quot;Y&quot;</td><td>0</td><td>42</td><td>0</td><td>0</td><td>0</td><td>0</td><td>null</td><td>null</td><td>null</td><td>0</td><td>9</td><td>2008</td><td>&quot;WD&quot;</td><td>&quot;Normal&quot;</td><td>223500</td></tr><tr><td>70</td><td>&quot;RL&quot;</td><td>60</td><td>9550</td><td>&quot;Pave&quot;</td><td>null</td><td>&quot;IR1&quot;</td><td>&quot;Lvl&quot;</td><td>&quot;AllPub&quot;</td><td>&quot;Corner&quot;</td><td>&quot;Gtl&quot;</td><td>&quot;Crawfor&quot;</td><td>&quot;Norm&quot;</td><td>&quot;Norm&quot;</td><td>&quot;1Fam&quot;</td><td>&quot;2Story&quot;</td><td>7</td><td>5</td><td>1915</td><td>1970</td><td>&quot;Gable&quot;</td><td>&quot;CompShg&quot;</td><td>&quot;Wd Sdng&quot;</td><td>&quot;Wd Shng&quot;</td><td>&quot;None&quot;</td><td>0</td><td>&quot;TA&quot;</td><td>&quot;TA&quot;</td><td>&quot;BrkTil&quot;</td><td>&quot;TA&quot;</td><td>&quot;Gd&quot;</td><td>&quot;No&quot;</td><td>&quot;ALQ&quot;</td><td>216</td><td>&quot;Unf&quot;</td><td>0</td><td>540</td><td>&hellip;</td><td>756</td><td>0</td><td>1717</td><td>1</td><td>0</td><td>1</td><td>0</td><td>3</td><td>1</td><td>&quot;Gd&quot;</td><td>7</td><td>&quot;Typ&quot;</td><td>1</td><td>&quot;Gd&quot;</td><td>&quot;Detchd&quot;</td><td>1998</td><td>&quot;Unf&quot;</td><td>3</td><td>642</td><td>&quot;TA&quot;</td><td>&quot;TA&quot;</td><td>&quot;Y&quot;</td><td>0</td><td>35</td><td>272</td><td>0</td><td>0</td><td>0</td><td>null</td><td>null</td><td>null</td><td>0</td><td>2</td><td>2006</td><td>&quot;WD&quot;</td><td>&quot;Abnorml&quot;</td><td>140000</td></tr><tr><td>60</td><td>&quot;RL&quot;</td><td>84</td><td>14260</td><td>&quot;Pave&quot;</td><td>null</td><td>&quot;IR1&quot;</td><td>&quot;Lvl&quot;</td><td>&quot;AllPub&quot;</td><td>&quot;FR2&quot;</td><td>&quot;Gtl&quot;</td><td>&quot;NoRidge&quot;</td><td>&quot;Norm&quot;</td><td>&quot;Norm&quot;</td><td>&quot;1Fam&quot;</td><td>&quot;2Story&quot;</td><td>8</td><td>5</td><td>2000</td><td>2000</td><td>&quot;Gable&quot;</td><td>&quot;CompShg&quot;</td><td>&quot;VinylSd&quot;</td><td>&quot;VinylSd&quot;</td><td>&quot;BrkFace&quot;</td><td>350</td><td>&quot;Gd&quot;</td><td>&quot;TA&quot;</td><td>&quot;PConc&quot;</td><td>&quot;Gd&quot;</td><td>&quot;TA&quot;</td><td>&quot;Av&quot;</td><td>&quot;GLQ&quot;</td><td>655</td><td>&quot;Unf&quot;</td><td>0</td><td>490</td><td>&hellip;</td><td>1053</td><td>0</td><td>2198</td><td>1</td><td>0</td><td>2</td><td>1</td><td>4</td><td>1</td><td>&quot;Gd&quot;</td><td>9</td><td>&quot;Typ&quot;</td><td>1</td><td>&quot;TA&quot;</td><td>&quot;Attchd&quot;</td><td>2000</td><td>&quot;RFn&quot;</td><td>3</td><td>836</td><td>&quot;TA&quot;</td><td>&quot;TA&quot;</td><td>&quot;Y&quot;</td><td>192</td><td>84</td><td>0</td><td>0</td><td>0</td><td>0</td><td>null</td><td>null</td><td>null</td><td>0</td><td>12</td><td>2008</td><td>&quot;WD&quot;</td><td>&quot;Normal&quot;</td><td>250000</td></tr></tbody></table></div>"
      ],
      "text/plain": [
       "shape: (5, 80)\n",
       "┌────────────┬──────────┬─────────────┬─────────┬───┬────────┬──────────┬──────────────┬───────────┐\n",
       "│ MSSubClass ┆ MSZoning ┆ LotFrontage ┆ LotArea ┆ … ┆ YrSold ┆ SaleType ┆ SaleConditio ┆ SalePrice │\n",
       "│ ---        ┆ ---      ┆ ---         ┆ ---     ┆   ┆ ---    ┆ ---      ┆ n            ┆ ---       │\n",
       "│ i64        ┆ str      ┆ i64         ┆ i64     ┆   ┆ i64    ┆ str      ┆ ---          ┆ i64       │\n",
       "│            ┆          ┆             ┆         ┆   ┆        ┆          ┆ str          ┆           │\n",
       "╞════════════╪══════════╪═════════════╪═════════╪═══╪════════╪══════════╪══════════════╪═══════════╡\n",
       "│ 60         ┆ RL       ┆ 65          ┆ 8450    ┆ … ┆ 2008   ┆ WD       ┆ Normal       ┆ 208500    │\n",
       "│ 20         ┆ RL       ┆ 80          ┆ 9600    ┆ … ┆ 2007   ┆ WD       ┆ Normal       ┆ 181500    │\n",
       "│ 60         ┆ RL       ┆ 68          ┆ 11250   ┆ … ┆ 2008   ┆ WD       ┆ Normal       ┆ 223500    │\n",
       "│ 70         ┆ RL       ┆ 60          ┆ 9550    ┆ … ┆ 2006   ┆ WD       ┆ Abnorml      ┆ 140000    │\n",
       "│ 60         ┆ RL       ┆ 84          ┆ 14260   ┆ … ┆ 2008   ┆ WD       ┆ Normal       ┆ 250000    │\n",
       "└────────────┴──────────┴─────────────┴─────────┴───┴────────┴──────────┴──────────────┴───────────┘"
      ]
     },
     "execution_count": 19,
     "metadata": {},
     "output_type": "execute_result"
    }
   ],
   "source": [
    "# Load the dataset, handle missing values, drop Id column and get basic information\n",
    "data = pl.read_csv('data/train.csv', null_values=\"NA\")\n",
    "data = data.drop('Id')\n",
    "print(f'The dataset contains {data.shape[0]} rows and {data.shape[1]} columns')\n",
    "data.head()"
   ]
  },
  {
   "cell_type": "markdown",
   "id": "4343deb6",
   "metadata": {},
   "source": [
    "#### Analysis\n",
    "We will analyze the following:\n",
    "\n",
    "1. The target variable\n",
    "2. Variable types (categorical and numerical)\n",
    "3. Missing data\n",
    "4. Numerical variables\n",
    "5. Categorical variables"
   ]
  },
  {
   "cell_type": "code",
   "execution_count": 62,
   "id": "b976db6b",
   "metadata": {},
   "outputs": [
    {
     "data": {},
     "metadata": {},
     "output_type": "display_data"
    },
    {
     "data": {
      "application/vnd.holoviews_exec.v0+json": "",
      "text/html": [
       "<div id='47442284-49a4-4966-8b87-b807655f1ceb'>\n",
       "  <div id=\"c81de9a8-b947-492d-a637-c68c5773b547\" data-root-id=\"47442284-49a4-4966-8b87-b807655f1ceb\" style=\"display: contents;\"></div>\n",
       "</div>\n",
       "<script type=\"application/javascript\">(function(root) {\n",
       "  var docs_json = {\"1bf198b5-b2e4-4dff-a1a4-1d93e4dcdb92\":{\"version\":\"3.7.3\",\"title\":\"Bokeh Application\",\"roots\":[{\"type\":\"object\",\"name\":\"Row\",\"id\":\"47442284-49a4-4966-8b87-b807655f1ceb\",\"attributes\":{\"name\":\"Row01566\",\"tags\":[\"embedded\"],\"stylesheets\":[\"\\n:host(.pn-loading):before, .pn-loading:before {\\n  background-color: #c3c3c3;\\n  mask-size: auto calc(min(50%, 400px));\\n  -webkit-mask-size: auto calc(min(50%, 400px));\\n}\",{\"type\":\"object\",\"name\":\"ImportedStyleSheet\",\"id\":\"6a8eed75-2781-45f5-af45-690ef82a78d8\",\"attributes\":{\"url\":\"https://cdn.holoviz.org/panel/1.7.1/dist/css/loading.css\"}},{\"type\":\"object\",\"name\":\"ImportedStyleSheet\",\"id\":\"1e2af56b-3689-4f26-a2ee-b5e914a47f57\",\"attributes\":{\"url\":\"https://cdn.holoviz.org/panel/1.7.1/dist/css/listpanel.css\"}},{\"type\":\"object\",\"name\":\"ImportedStyleSheet\",\"id\":\"28417a2d-797f-485f-93cf-d5388356d8e2\",\"attributes\":{\"url\":\"https://cdn.holoviz.org/panel/1.7.1/dist/bundled/theme/default.css\"}},{\"type\":\"object\",\"name\":\"ImportedStyleSheet\",\"id\":\"0809756c-1fcc-4b91-b198-14be44bcaf3d\",\"attributes\":{\"url\":\"https://cdn.holoviz.org/panel/1.7.1/dist/bundled/theme/native.css\"}}],\"min_width\":800,\"margin\":0,\"sizing_mode\":\"stretch_width\",\"align\":\"start\",\"children\":[{\"type\":\"object\",\"name\":\"Spacer\",\"id\":\"42226d89-c843-4b1b-b4e4-cbe07a0c2b23\",\"attributes\":{\"name\":\"HSpacer01570\",\"stylesheets\":[\"\\n:host(.pn-loading):before, .pn-loading:before {\\n  background-color: #c3c3c3;\\n  mask-size: auto calc(min(50%, 400px));\\n  -webkit-mask-size: auto calc(min(50%, 400px));\\n}\",{\"id\":\"6a8eed75-2781-45f5-af45-690ef82a78d8\"},{\"id\":\"28417a2d-797f-485f-93cf-d5388356d8e2\"},{\"id\":\"0809756c-1fcc-4b91-b198-14be44bcaf3d\"}],\"min_width\":0,\"margin\":0,\"sizing_mode\":\"stretch_width\",\"align\":\"start\"}},{\"type\":\"object\",\"name\":\"Figure\",\"id\":\"ada247ff-1c6c-4daa-917a-8326fc7aa14d\",\"attributes\":{\"width\":800,\"height\":400,\"margin\":[5,10],\"sizing_mode\":\"fixed\",\"align\":\"start\",\"x_range\":{\"type\":\"object\",\"name\":\"Range1d\",\"id\":\"ea0e0e1f-30eb-4243-8c8a-8a629255f6d6\",\"attributes\":{\"name\":\"SalePrice\",\"tags\":[[[\"SalePrice\",null]],[]],\"end\":800000,\"reset_start\":0,\"reset_end\":800000}},\"y_range\":{\"type\":\"object\",\"name\":\"Range1d\",\"id\":\"2d735850-3155-4e83-b638-8fcfaf6737cb\",\"attributes\":{\"name\":\"SalePrice_count\",\"tags\":[[[\"Count\",null]],{\"type\":\"map\",\"entries\":[[\"invert_yaxis\",false],[\"autorange\",false]]}],\"end\":100,\"reset_start\":0,\"reset_end\":100}},\"x_scale\":{\"type\":\"object\",\"name\":\"LinearScale\",\"id\":\"60a6748f-79c5-4709-8fc8-1666ab74d851\"},\"y_scale\":{\"type\":\"object\",\"name\":\"LinearScale\",\"id\":\"e55ad876-768b-48bb-93c2-e6ebc7c6e25f\"},\"title\":{\"type\":\"object\",\"name\":\"Title\",\"id\":\"f0bbb7a5-60b0-4791-bb96-d6e0f6355daf\",\"attributes\":{\"text\":\"Sales Prices Distribution\",\"text_color\":\"black\",\"text_font_size\":\"12pt\"}},\"renderers\":[{\"type\":\"object\",\"name\":\"GlyphRenderer\",\"id\":\"4728b634-28e1-40ab-863c-37509638d191\",\"attributes\":{\"data_source\":{\"type\":\"object\",\"name\":\"ColumnDataSource\",\"id\":\"bcd0cdef-c258-4f10-9488-a3dbdcabf17a\",\"attributes\":{\"selected\":{\"type\":\"object\",\"name\":\"Selection\",\"id\":\"24892512-6f03-48a2-82b9-6abfd25fb418\",\"attributes\":{\"indices\":[],\"line_indices\":[]}},\"selection_policy\":{\"type\":\"object\",\"name\":\"UnionRenderers\",\"id\":\"bb89cca3-e371-41f1-80d0-453d689069f5\"},\"data\":{\"type\":\"map\",\"entries\":[[\"top\",{\"type\":\"ndarray\",\"array\":{\"type\":\"bytes\",\"data\":\"BQAAAAAAAAAFAAAABgAAAAYAAAAHAAAAIAAAAB0AAAAXAAAAIwAAADsAAABDAAAASQAAAFwAAABZAAAAWwAAAD4AAAA8AAAAOQAAAEkAAABDAAAANgAAAC0AAAAhAAAAHgAAAB8AAAAfAAAAIQAAABoAAAAXAAAAEQAAABMAAAASAAAAEgAAAA4AAAALAAAABQAAAAgAAAANAAAADAAAAAoAAAAGAAAABgAAAAUAAAABAAAAAwAAAAUAAAAGAAAABQAAAAQAAAADAAAAAgAAAAMAAAABAAAAAwAAAAEAAAACAAAAAgAAAAAAAAACAAAAAAAAAAEAAAABAAAAAAAAAAEAAAAAAAAAAAAAAAAAAAAAAAAAAQAAAAAAAAAAAAAAAgAAAAAAAAAAAAAAAAAAAAEAAAAAAAAAAAAAAAAAAAABAAAAAQAAAAAAAAAAAAAAAAAAAAAAAAAAAAAAAAAAAAAAAAAAAAAAAAAAAAAAAAAAAAAAAAAAAAAAAAAAAAAAAAAAAAAAAAABAAAAAQAAAA==\"},\"shape\":[100],\"dtype\":\"int32\",\"order\":\"little\"}],[\"left\",{\"type\":\"ndarray\",\"array\":{\"type\":\"bytes\",\"data\":\"AAAAAIAK4UAAAAAAoI7kQAAAAADAEuhAAAAAAOCW60AAAAAAABvvQAAAAACQT/FAAAAAAKAR80AAAAAAsNP0QAAAAADAlfZAAAAAANBX+EAAAAAA4Bn6QAAAAADw2/tAAAAAAACe/UAAAAAAEGD/QAAAAAAQkQBBAAAAABhyAUEAAAAAIFMCQQAAAAAoNANBAAAAADAVBEEAAAAAOPYEQQAAAABA1wVBAAAAAEi4BkEAAAAAUJkHQQAAAABYeghBAAAAAGBbCUEAAAAAaDwKQQAAAABwHQtBAAAAAHj+C0EAAAAAgN8MQQAAAACIwA1BAAAAAJChDkEAAAAAmIIPQQAAAADQMRBBAAAAAFSiEEEAAAAA2BIRQQAAAABcgxFBAAAAAODzEUEAAAAAZGQSQQAAAADo1BJBAAAAAGxFE0EAAAAA8LUTQQAAAAB0JhRBAAAAAPiWFEEAAAAAfAcVQQAAAAAAeBVBAAAAAIToFUEAAAAACFkWQQAAAACMyRZBAAAAABA6F0EAAAAAlKoXQQAAAAAYGxhBAAAAAJyLGEEAAAAAIPwYQQAAAACkbBlBAAAAACjdGUEAAAAArE0aQQAAAAAwvhpBAAAAALQuG0EAAAAAOJ8bQQAAAAC8DxxBAAAAAECAHEEAAAAAxPAcQQAAAABIYR1BAAAAAMzRHUEAAAAAUEIeQQAAAADUsh5BAAAAAFgjH0EAAAAA3JMfQQAAAAAwAiBBAAAAAHI6IEEAAAAAtHIgQQAAAAD2qiBBAAAAADjjIEEAAAAAehshQQAAAAC8UyFBAAAAAP6LIUEAAAAAQMQhQQAAAACC/CFBAAAAAMQ0IkEAAAAABm0iQQAAAABIpSJBAAAAAIrdIkEAAAAAzBUjQQAAAAAOTiNBAAAAAFCGI0EAAAAAkr4jQQAAAADU9iNBAAAAABYvJEEAAAAAWGckQQAAAACanyRBAAAAANzXJEEAAAAAHhAlQQAAAABgSCVBAAAAAKKAJUEAAAAA5LglQQAAAAAm8SVBAAAAAGgpJkEAAAAAqmEmQQAAAADsmSZBAAAAAC7SJkE=\"},\"shape\":[100],\"dtype\":\"float64\",\"order\":\"little\"}],[\"right\",{\"type\":\"ndarray\",\"array\":{\"type\":\"bytes\",\"data\":\"AAAAAKCO5EAAAAAAwBLoQAAAAADglutAAAAAAAAb70AAAAAAkE/xQAAAAACgEfNAAAAAALDT9EAAAAAAwJX2QAAAAADQV/hAAAAAAOAZ+kAAAAAA8Nv7QAAAAAAAnv1AAAAAABBg/0AAAAAAEJEAQQAAAAAYcgFBAAAAACBTAkEAAAAAKDQDQQAAAAAwFQRBAAAAADj2BEEAAAAAQNcFQQAAAABIuAZBAAAAAFCZB0EAAAAAWHoIQQAAAABgWwlBAAAAAGg8CkEAAAAAcB0LQQAAAAB4/gtBAAAAAIDfDEEAAAAAiMANQQAAAACQoQ5BAAAAAJiCD0EAAAAA0DEQQQAAAABUohBBAAAAANgSEUEAAAAAXIMRQQAAAADg8xFBAAAAAGRkEkEAAAAA6NQSQQAAAABsRRNBAAAAAPC1E0EAAAAAdCYUQQAAAAD4lhRBAAAAAHwHFUEAAAAAAHgVQQAAAACE6BVBAAAAAAhZFkEAAAAAjMkWQQAAAAAQOhdBAAAAAJSqF0EAAAAAGBsYQQAAAACcixhBAAAAACD8GEEAAAAApGwZQQAAAAAo3RlBAAAAAKxNGkEAAAAAML4aQQAAAAC0LhtBAAAAADifG0EAAAAAvA8cQQAAAABAgBxBAAAAAMTwHEEAAAAASGEdQQAAAADM0R1BAAAAAFBCHkEAAAAA1LIeQQAAAABYIx9BAAAAANyTH0EAAAAAMAIgQQAAAAByOiBBAAAAALRyIEEAAAAA9qogQQAAAAA44yBBAAAAAHobIUEAAAAAvFMhQQAAAAD+iyFBAAAAAEDEIUEAAAAAgvwhQQAAAADENCJBAAAAAAZtIkEAAAAASKUiQQAAAACK3SJBAAAAAMwVI0EAAAAADk4jQQAAAABQhiNBAAAAAJK+I0EAAAAA1PYjQQAAAAAWLyRBAAAAAFhnJEEAAAAAmp8kQQAAAADc1yRBAAAAAB4QJUEAAAAAYEglQQAAAACigCVBAAAAAOS4JUEAAAAAJvElQQAAAABoKSZBAAAAAKphJkEAAAAA7JkmQQAAAAAu0iZBAAAAAHAKJ0E=\"},\"shape\":[100],\"dtype\":\"float64\",\"order\":\"little\"}],[\"SalePrice\",{\"type\":\"ndarray\",\"array\":{\"type\":\"bytes\",\"data\":\"AAAAAJDM4kAAAAAAsFDmQAAAAADQ1OlAAAAAAPBY7UAAAAAAiG7wQAAAAACYMPJAAAAAAKjy80AAAAAAuLT1QAAAAADIdvdAAAAAANg4+UAAAAAA6Pr6QAAAAAD4vPxAAAAAAAh//kAAAAAAjCAAQQAAAACUAQFBAAAAAJziAUEAAAAApMMCQQAAAACspANBAAAAALSFBEEAAAAAvGYFQQAAAADERwZBAAAAAMwoB0EAAAAA1AkIQQAAAADc6ghBAAAAAOTLCUEAAAAA7KwKQQAAAAD0jQtBAAAAAPxuDEEAAAAABFANQQAAAAAMMQ5BAAAAABQSD0EAAAAAHPMPQQAAAAASahBBAAAAAJbaEEEAAAAAGksRQQAAAACeuxFBAAAAACIsEkEAAAAAppwSQQAAAAAqDRNBAAAAAK59E0EAAAAAMu4TQQAAAAC2XhRBAAAAADrPFEEAAAAAvj8VQQAAAABCsBVBAAAAAMYgFkEAAAAASpEWQQAAAADOARdBAAAAAFJyF0EAAAAA1uIXQQAAAABaUxhBAAAAAN7DGEEAAAAAYjQZQQAAAADmpBlBAAAAAGoVGkEAAAAA7oUaQQAAAABy9hpBAAAAAPZmG0EAAAAAetcbQQAAAAD+RxxBAAAAAIK4HEEAAAAABikdQQAAAACKmR1BAAAAAA4KHkEAAAAAknoeQQAAAAAW6x5BAAAAAJpbH0EAAAAAHswfQQAAAABRHiBBAAAAAJNWIEEAAAAA1Y4gQQAAAAAXxyBBAAAAAFn/IEEAAAAAmzchQQAAAADdbyFBAAAAAB+oIUEAAAAAYeAhQQAAAACjGCJBAAAAAOVQIkEAAAAAJ4kiQQAAAABpwSJBAAAAAKv5IkEAAAAA7TEjQQAAAAAvaiNBAAAAAHGiI0EAAAAAs9ojQQAAAAD1EiRBAAAAADdLJEEAAAAAeYMkQQAAAAC7uyRBAAAAAP3zJEEAAAAAPywlQQAAAACBZCVBAAAAAMOcJUEAAAAABdUlQQAAAABHDSZBAAAAAIlFJkEAAAAAy30mQQAAAAANtiZBAAAAAE/uJkE=\"},\"shape\":[100],\"dtype\":\"float64\",\"order\":\"little\"}],[\"SalePrice_count\",{\"type\":\"ndarray\",\"array\":{\"type\":\"bytes\",\"data\":\"BQAAAAAAAAAFAAAABgAAAAYAAAAHAAAAIAAAAB0AAAAXAAAAIwAAADsAAABDAAAASQAAAFwAAABZAAAAWwAAAD4AAAA8AAAAOQAAAEkAAABDAAAANgAAAC0AAAAhAAAAHgAAAB8AAAAfAAAAIQAAABoAAAAXAAAAEQAAABMAAAASAAAAEgAAAA4AAAALAAAABQAAAAgAAAANAAAADAAAAAoAAAAGAAAABgAAAAUAAAABAAAAAwAAAAUAAAAGAAAABQAAAAQAAAADAAAAAgAAAAMAAAABAAAAAwAAAAEAAAACAAAAAgAAAAAAAAACAAAAAAAAAAEAAAABAAAAAAAAAAEAAAAAAAAAAAAAAAAAAAAAAAAAAQAAAAAAAAAAAAAAAgAAAAAAAAAAAAAAAAAAAAEAAAAAAAAAAAAAAAAAAAABAAAAAQAAAAAAAAAAAAAAAAAAAAAAAAAAAAAAAAAAAAAAAAAAAAAAAAAAAAAAAAAAAAAAAAAAAAAAAAAAAAAAAAAAAAAAAAABAAAAAQAAAA==\"},\"shape\":[100],\"dtype\":\"int32\",\"order\":\"little\"}]]}}},\"view\":{\"type\":\"object\",\"name\":\"CDSView\",\"id\":\"4cbeac43-fe13-4bb6-b9c8-8f1a3a75e1dd\",\"attributes\":{\"filter\":{\"type\":\"object\",\"name\":\"AllIndices\",\"id\":\"50a7b4cb-6f40-4bf1-b2b5-0042830edcf8\"}}},\"glyph\":{\"type\":\"object\",\"name\":\"Quad\",\"id\":\"5c64d655-3164-41bb-a64d-97f1eaf55ebb\",\"attributes\":{\"tags\":[\"apply_ranges\"],\"left\":{\"type\":\"field\",\"field\":\"left\"},\"right\":{\"type\":\"field\",\"field\":\"right\"},\"bottom\":{\"type\":\"value\",\"value\":0},\"top\":{\"type\":\"field\",\"field\":\"top\"},\"fill_color\":{\"type\":\"value\",\"value\":\"#30a2da\"},\"hatch_color\":{\"type\":\"value\",\"value\":\"#30a2da\"}}},\"selection_glyph\":{\"type\":\"object\",\"name\":\"Quad\",\"id\":\"01919f18-db1b-470b-af65-cbff2fb5fef4\",\"attributes\":{\"tags\":[\"apply_ranges\"],\"left\":{\"type\":\"field\",\"field\":\"left\"},\"right\":{\"type\":\"field\",\"field\":\"right\"},\"bottom\":{\"type\":\"value\",\"value\":0},\"top\":{\"type\":\"field\",\"field\":\"top\"},\"line_color\":{\"type\":\"value\",\"value\":\"black\"},\"line_alpha\":{\"type\":\"value\",\"value\":1.0},\"line_width\":{\"type\":\"value\",\"value\":1},\"line_join\":{\"type\":\"value\",\"value\":\"bevel\"},\"line_cap\":{\"type\":\"value\",\"value\":\"butt\"},\"line_dash\":{\"type\":\"value\",\"value\":[]},\"line_dash_offset\":{\"type\":\"value\",\"value\":0},\"fill_color\":{\"type\":\"value\",\"value\":\"#30a2da\"},\"fill_alpha\":{\"type\":\"value\",\"value\":1.0},\"hatch_color\":{\"type\":\"value\",\"value\":\"#30a2da\"},\"hatch_alpha\":{\"type\":\"value\",\"value\":1.0},\"hatch_scale\":{\"type\":\"value\",\"value\":12.0},\"hatch_pattern\":{\"type\":\"value\",\"value\":null},\"hatch_weight\":{\"type\":\"value\",\"value\":1.0}}},\"nonselection_glyph\":{\"type\":\"object\",\"name\":\"Quad\",\"id\":\"175456b4-3105-4bc4-b619-115118dc58e4\",\"attributes\":{\"tags\":[\"apply_ranges\"],\"left\":{\"type\":\"field\",\"field\":\"left\"},\"right\":{\"type\":\"field\",\"field\":\"right\"},\"bottom\":{\"type\":\"value\",\"value\":0},\"top\":{\"type\":\"field\",\"field\":\"top\"},\"line_alpha\":{\"type\":\"value\",\"value\":0.1},\"fill_color\":{\"type\":\"value\",\"value\":\"#30a2da\"},\"fill_alpha\":{\"type\":\"value\",\"value\":0.1},\"hatch_color\":{\"type\":\"value\",\"value\":\"#30a2da\"},\"hatch_alpha\":{\"type\":\"value\",\"value\":0.1}}},\"muted_glyph\":{\"type\":\"object\",\"name\":\"Quad\",\"id\":\"3a536e0f-bbbb-4eb5-8e04-572557fd4b16\",\"attributes\":{\"tags\":[\"apply_ranges\"],\"left\":{\"type\":\"field\",\"field\":\"left\"},\"right\":{\"type\":\"field\",\"field\":\"right\"},\"bottom\":{\"type\":\"value\",\"value\":0},\"top\":{\"type\":\"field\",\"field\":\"top\"},\"line_alpha\":{\"type\":\"value\",\"value\":0.2},\"fill_color\":{\"type\":\"value\",\"value\":\"#30a2da\"},\"fill_alpha\":{\"type\":\"value\",\"value\":0.2},\"hatch_color\":{\"type\":\"value\",\"value\":\"#30a2da\"},\"hatch_alpha\":{\"type\":\"value\",\"value\":0.2}}}}}],\"toolbar\":{\"type\":\"object\",\"name\":\"Toolbar\",\"id\":\"2f86edeb-5ae4-492d-81e6-ef4a6a19de75\",\"attributes\":{\"tools\":[{\"type\":\"object\",\"name\":\"WheelZoomTool\",\"id\":\"64e44c39-1dce-4230-92fa-88351af70af7\",\"attributes\":{\"tags\":[\"hv_created\"],\"renderers\":\"auto\",\"zoom_together\":\"none\"}},{\"type\":\"object\",\"name\":\"HoverTool\",\"id\":\"105830d0-3b01-49b4-b57f-736423e6e31c\",\"attributes\":{\"tags\":[\"hv_created\"],\"renderers\":[{\"id\":\"4728b634-28e1-40ab-863c-37509638d191\"}],\"tooltips\":[[\"SalePrice\",\"@{SalePrice}\"],[\"Count\",\"@{SalePrice_count}\"]]}},{\"type\":\"object\",\"name\":\"SaveTool\",\"id\":\"9f186ea6-4f5a-4f67-a0bc-ed2271ebb9f2\"},{\"type\":\"object\",\"name\":\"PanTool\",\"id\":\"59c80b11-1c7e-4d21-9445-5706f0835c4c\"},{\"type\":\"object\",\"name\":\"BoxZoomTool\",\"id\":\"dc7926d4-bf2d-456c-bab0-4e1b6e736361\",\"attributes\":{\"dimensions\":\"both\",\"overlay\":{\"type\":\"object\",\"name\":\"BoxAnnotation\",\"id\":\"ee0681f4-d4b6-4c7e-866c-2f8366f013be\",\"attributes\":{\"syncable\":false,\"line_color\":\"black\",\"line_alpha\":1.0,\"line_width\":2,\"line_dash\":[4,4],\"fill_color\":\"lightgrey\",\"fill_alpha\":0.5,\"level\":\"overlay\",\"visible\":false,\"left\":{\"type\":\"number\",\"value\":\"nan\"},\"right\":{\"type\":\"number\",\"value\":\"nan\"},\"top\":{\"type\":\"number\",\"value\":\"nan\"},\"bottom\":{\"type\":\"number\",\"value\":\"nan\"},\"left_units\":\"canvas\",\"right_units\":\"canvas\",\"top_units\":\"canvas\",\"bottom_units\":\"canvas\",\"handles\":{\"type\":\"object\",\"name\":\"BoxInteractionHandles\",\"id\":\"c592ef77-885b-4bbc-a0e2-0df6b0d5afb2\",\"attributes\":{\"all\":{\"type\":\"object\",\"name\":\"AreaVisuals\",\"id\":\"dfac6dee-0b6b-4779-8a0b-f5d5759d2d4f\",\"attributes\":{\"fill_color\":\"white\",\"hover_fill_color\":\"lightgray\"}}}}}}}},{\"type\":\"object\",\"name\":\"ResetTool\",\"id\":\"32ad0e6c-3d17-4208-84ce-1522bc93850e\"}],\"active_drag\":{\"id\":\"59c80b11-1c7e-4d21-9445-5706f0835c4c\"},\"active_scroll\":{\"id\":\"64e44c39-1dce-4230-92fa-88351af70af7\"}}},\"left\":[{\"type\":\"object\",\"name\":\"LinearAxis\",\"id\":\"9a469493-765f-45ad-913e-16b8f8f3365c\",\"attributes\":{\"ticker\":{\"type\":\"object\",\"name\":\"BasicTicker\",\"id\":\"c082ed64-6446-437d-b525-ffeadf931d22\",\"attributes\":{\"mantissas\":[1,2,5]}},\"formatter\":{\"type\":\"object\",\"name\":\"BasicTickFormatter\",\"id\":\"b79c779a-8a21-481d-9cd6-f1ab12ab0ca5\"},\"axis_label\":\"Frequency\",\"major_label_policy\":{\"type\":\"object\",\"name\":\"AllLabels\",\"id\":\"18a442fc-e2c7-4c51-b1a0-23eba79d7b8a\"}}}],\"below\":[{\"type\":\"object\",\"name\":\"LinearAxis\",\"id\":\"a23ac805-0343-4a9b-961e-c8714ca389de\",\"attributes\":{\"ticker\":{\"type\":\"object\",\"name\":\"FixedTicker\",\"id\":\"ea665709-0a90-423d-bb4a-13a127e7af43\",\"attributes\":{\"ticks\":[0,100000,200000,300000,400000,500000,600000,700000],\"minor_ticks\":[]}},\"formatter\":{\"type\":\"object\",\"name\":\"NumeralTickFormatter\",\"id\":\"f7f3ef4d-5605-4371-a5e5-fabfd34e7015\"},\"axis_label\":\"Sales Price ($)\",\"major_label_policy\":{\"type\":\"object\",\"name\":\"AllLabels\",\"id\":\"490ef090-9f47-40a0-b29a-7a125253d907\"}}}],\"center\":[{\"type\":\"object\",\"name\":\"Grid\",\"id\":\"74e71d30-7910-4464-b689-72ac1e765c44\",\"attributes\":{\"axis\":{\"id\":\"a23ac805-0343-4a9b-961e-c8714ca389de\"},\"grid_line_color\":null}},{\"type\":\"object\",\"name\":\"Grid\",\"id\":\"3b0c1f5f-2d3e-4cca-9bf1-0ee9cd0ce59d\",\"attributes\":{\"dimension\":1,\"axis\":{\"id\":\"9a469493-765f-45ad-913e-16b8f8f3365c\"},\"grid_line_color\":null}}],\"min_border_top\":10,\"min_border_bottom\":10,\"min_border_left\":10,\"min_border_right\":10,\"output_backend\":\"webgl\"}},{\"type\":\"object\",\"name\":\"Spacer\",\"id\":\"e552ee94-c20c-4699-87c8-0a4e134a35fe\",\"attributes\":{\"name\":\"HSpacer01571\",\"stylesheets\":[\"\\n:host(.pn-loading):before, .pn-loading:before {\\n  background-color: #c3c3c3;\\n  mask-size: auto calc(min(50%, 400px));\\n  -webkit-mask-size: auto calc(min(50%, 400px));\\n}\",{\"id\":\"6a8eed75-2781-45f5-af45-690ef82a78d8\"},{\"id\":\"28417a2d-797f-485f-93cf-d5388356d8e2\"},{\"id\":\"0809756c-1fcc-4b91-b198-14be44bcaf3d\"}],\"min_width\":0,\"margin\":0,\"sizing_mode\":\"stretch_width\",\"align\":\"start\"}}]}}],\"defs\":[{\"type\":\"model\",\"name\":\"ReactiveHTML1\"},{\"type\":\"model\",\"name\":\"FlexBox1\",\"properties\":[{\"name\":\"align_content\",\"kind\":\"Any\",\"default\":\"flex-start\"},{\"name\":\"align_items\",\"kind\":\"Any\",\"default\":\"flex-start\"},{\"name\":\"flex_direction\",\"kind\":\"Any\",\"default\":\"row\"},{\"name\":\"flex_wrap\",\"kind\":\"Any\",\"default\":\"wrap\"},{\"name\":\"gap\",\"kind\":\"Any\",\"default\":\"\"},{\"name\":\"justify_content\",\"kind\":\"Any\",\"default\":\"flex-start\"}]},{\"type\":\"model\",\"name\":\"FloatPanel1\",\"properties\":[{\"name\":\"config\",\"kind\":\"Any\",\"default\":{\"type\":\"map\"}},{\"name\":\"contained\",\"kind\":\"Any\",\"default\":true},{\"name\":\"position\",\"kind\":\"Any\",\"default\":\"right-top\"},{\"name\":\"offsetx\",\"kind\":\"Any\",\"default\":null},{\"name\":\"offsety\",\"kind\":\"Any\",\"default\":null},{\"name\":\"theme\",\"kind\":\"Any\",\"default\":\"primary\"},{\"name\":\"status\",\"kind\":\"Any\",\"default\":\"normalized\"}]},{\"type\":\"model\",\"name\":\"GridStack1\",\"properties\":[{\"name\":\"ncols\",\"kind\":\"Any\",\"default\":null},{\"name\":\"nrows\",\"kind\":\"Any\",\"default\":null},{\"name\":\"allow_resize\",\"kind\":\"Any\",\"default\":true},{\"name\":\"allow_drag\",\"kind\":\"Any\",\"default\":true},{\"name\":\"state\",\"kind\":\"Any\",\"default\":[]}]},{\"type\":\"model\",\"name\":\"drag1\",\"properties\":[{\"name\":\"slider_width\",\"kind\":\"Any\",\"default\":5},{\"name\":\"slider_color\",\"kind\":\"Any\",\"default\":\"black\"},{\"name\":\"value\",\"kind\":\"Any\",\"default\":50}]},{\"type\":\"model\",\"name\":\"click1\",\"properties\":[{\"name\":\"terminal_output\",\"kind\":\"Any\",\"default\":\"\"},{\"name\":\"debug_name\",\"kind\":\"Any\",\"default\":\"\"},{\"name\":\"clears\",\"kind\":\"Any\",\"default\":0}]},{\"type\":\"model\",\"name\":\"FastWrapper1\",\"properties\":[{\"name\":\"object\",\"kind\":\"Any\",\"default\":null},{\"name\":\"style\",\"kind\":\"Any\",\"default\":null}]},{\"type\":\"model\",\"name\":\"NotificationArea1\",\"properties\":[{\"name\":\"js_events\",\"kind\":\"Any\",\"default\":{\"type\":\"map\"}},{\"name\":\"max_notifications\",\"kind\":\"Any\",\"default\":5},{\"name\":\"notifications\",\"kind\":\"Any\",\"default\":[]},{\"name\":\"position\",\"kind\":\"Any\",\"default\":\"bottom-right\"},{\"name\":\"_clear\",\"kind\":\"Any\",\"default\":0},{\"name\":\"types\",\"kind\":\"Any\",\"default\":[{\"type\":\"map\",\"entries\":[[\"type\",\"warning\"],[\"background\",\"#ffc107\"],[\"icon\",{\"type\":\"map\",\"entries\":[[\"className\",\"fas fa-exclamation-triangle\"],[\"tagName\",\"i\"],[\"color\",\"white\"]]}]]},{\"type\":\"map\",\"entries\":[[\"type\",\"info\"],[\"background\",\"#007bff\"],[\"icon\",{\"type\":\"map\",\"entries\":[[\"className\",\"fas fa-info-circle\"],[\"tagName\",\"i\"],[\"color\",\"white\"]]}]]}]}]},{\"type\":\"model\",\"name\":\"Notification\",\"properties\":[{\"name\":\"background\",\"kind\":\"Any\",\"default\":null},{\"name\":\"duration\",\"kind\":\"Any\",\"default\":3000},{\"name\":\"icon\",\"kind\":\"Any\",\"default\":null},{\"name\":\"message\",\"kind\":\"Any\",\"default\":\"\"},{\"name\":\"notification_type\",\"kind\":\"Any\",\"default\":null},{\"name\":\"_rendered\",\"kind\":\"Any\",\"default\":false},{\"name\":\"_destroyed\",\"kind\":\"Any\",\"default\":false}]},{\"type\":\"model\",\"name\":\"TemplateActions1\",\"properties\":[{\"name\":\"open_modal\",\"kind\":\"Any\",\"default\":0},{\"name\":\"close_modal\",\"kind\":\"Any\",\"default\":0}]},{\"type\":\"model\",\"name\":\"BootstrapTemplateActions1\",\"properties\":[{\"name\":\"open_modal\",\"kind\":\"Any\",\"default\":0},{\"name\":\"close_modal\",\"kind\":\"Any\",\"default\":0}]},{\"type\":\"model\",\"name\":\"TemplateEditor1\",\"properties\":[{\"name\":\"layout\",\"kind\":\"Any\",\"default\":[]}]},{\"type\":\"model\",\"name\":\"MaterialTemplateActions1\",\"properties\":[{\"name\":\"open_modal\",\"kind\":\"Any\",\"default\":0},{\"name\":\"close_modal\",\"kind\":\"Any\",\"default\":0}]},{\"type\":\"model\",\"name\":\"ReactiveESM1\",\"properties\":[{\"name\":\"esm_constants\",\"kind\":\"Any\",\"default\":{\"type\":\"map\"}}]},{\"type\":\"model\",\"name\":\"JSComponent1\",\"properties\":[{\"name\":\"esm_constants\",\"kind\":\"Any\",\"default\":{\"type\":\"map\"}}]},{\"type\":\"model\",\"name\":\"ReactComponent1\",\"properties\":[{\"name\":\"esm_constants\",\"kind\":\"Any\",\"default\":{\"type\":\"map\"}}]},{\"type\":\"model\",\"name\":\"AnyWidgetComponent1\",\"properties\":[{\"name\":\"esm_constants\",\"kind\":\"Any\",\"default\":{\"type\":\"map\"}}]},{\"type\":\"model\",\"name\":\"request_value1\",\"properties\":[{\"name\":\"fill\",\"kind\":\"Any\",\"default\":\"none\"},{\"name\":\"_synced\",\"kind\":\"Any\",\"default\":null},{\"name\":\"_request_sync\",\"kind\":\"Any\",\"default\":0}]}]}};\n",
       "  var render_items = [{\"docid\":\"1bf198b5-b2e4-4dff-a1a4-1d93e4dcdb92\",\"roots\":{\"47442284-49a4-4966-8b87-b807655f1ceb\":\"c81de9a8-b947-492d-a637-c68c5773b547\"},\"root_ids\":[\"47442284-49a4-4966-8b87-b807655f1ceb\"]}];\n",
       "  var docs = Object.values(docs_json)\n",
       "  if (!docs) {\n",
       "    return\n",
       "  }\n",
       "  const py_version = docs[0].version.replace('rc', '-rc.').replace('.dev', '-dev.')\n",
       "  async function embed_document(root) {\n",
       "    var Bokeh = get_bokeh(root)\n",
       "    await Bokeh.embed.embed_items_notebook(docs_json, render_items);\n",
       "    for (const render_item of render_items) {\n",
       "      for (const root_id of render_item.root_ids) {\n",
       "\tconst id_el = document.getElementById(root_id)\n",
       "\tif (id_el.children.length && id_el.children[0].hasAttribute('data-root-id')) {\n",
       "\t  const root_el = id_el.children[0]\n",
       "\t  root_el.id = root_el.id + '-rendered'\n",
       "\t  for (const child of root_el.children) {\n",
       "            // Ensure JupyterLab does not capture keyboard shortcuts\n",
       "            // see: https://jupyterlab.readthedocs.io/en/4.1.x/extension/notebook.html#keyboard-interaction-model\n",
       "\t    child.setAttribute('data-lm-suppress-shortcuts', 'true')\n",
       "\t  }\n",
       "\t}\n",
       "      }\n",
       "    }\n",
       "  }\n",
       "  function get_bokeh(root) {\n",
       "    if (root.Bokeh === undefined) {\n",
       "      return null\n",
       "    } else if (root.Bokeh.version !== py_version) {\n",
       "      if (root.Bokeh.versions === undefined || !root.Bokeh.versions.has(py_version)) {\n",
       "\treturn null\n",
       "      }\n",
       "      return root.Bokeh.versions.get(py_version);\n",
       "    } else if (root.Bokeh.version === py_version) {\n",
       "      return root.Bokeh\n",
       "    }\n",
       "    return null\n",
       "  }\n",
       "  function is_loaded(root) {\n",
       "    var Bokeh = get_bokeh(root)\n",
       "    return (Bokeh != null && Bokeh.Panel !== undefined)\n",
       "  }\n",
       "  if (is_loaded(root)) {\n",
       "    embed_document(root);\n",
       "  } else {\n",
       "    var attempts = 0;\n",
       "    var timer = setInterval(function(root) {\n",
       "      if (is_loaded(root)) {\n",
       "        clearInterval(timer);\n",
       "        embed_document(root);\n",
       "      } else if (document.readyState == \"complete\") {\n",
       "        attempts++;\n",
       "        if (attempts > 200) {\n",
       "          clearInterval(timer);\n",
       "\t  var Bokeh = get_bokeh(root)\n",
       "\t  if (Bokeh == null || Bokeh.Panel == null) {\n",
       "            console.warn(\"Panel: ERROR: Unable to run Panel code because Bokeh or Panel library is missing\");\n",
       "\t  } else {\n",
       "\t    console.warn(\"Panel: WARNING: Attempting to render but not all required libraries could be resolved.\")\n",
       "\t    embed_document(root)\n",
       "\t  }\n",
       "        }\n",
       "      }\n",
       "    }, 25, root)\n",
       "  }\n",
       "})(window);</script>"
      ],
      "text/plain": [
       ":Histogram   [SalePrice]   (Count)"
      ]
     },
     "execution_count": 62,
     "metadata": {
      "application/vnd.holoviews_exec.v0+json": {
       "id": "47442284-49a4-4966-8b87-b807655f1ceb"
      }
     },
     "output_type": "execute_result"
    }
   ],
   "source": [
    "# Plot the distribution of our target label\n",
    "prices = data.select('SalePrice')\n",
    "\n",
    "plot = prices.hvplot.hist( # type: ignore\n",
    "    bins=100,\n",
    "    title='Sales Prices Distribution',\n",
    "    xlabel='Sales Price ($)',\n",
    "    ylabel='Frequency',\n",
    "    xticks=np.arange(0, 800000, 100000),\n",
    "    xlim=(0, 800000),\n",
    "    ylim=(0, 100)\n",
    ")\n",
    "  \n",
    "plot = plot.opts(width=800,height=400, xformatter=NumeralTickFormatter(format=\"0,0\"))\n",
    "plot"
   ]
  },
  {
   "cell_type": "code",
   "execution_count": 63,
   "id": "1e63f133",
   "metadata": {},
   "outputs": [
    {
     "data": {},
     "metadata": {},
     "output_type": "display_data"
    },
    {
     "data": {
      "application/vnd.holoviews_exec.v0+json": "",
      "text/html": [
       "<div id='5eb400ee-cc12-42b4-99f2-6991e4c568de'>\n",
       "  <div id=\"b73b633f-19fa-434c-a1ba-d40487a5167b\" data-root-id=\"5eb400ee-cc12-42b4-99f2-6991e4c568de\" style=\"display: contents;\"></div>\n",
       "</div>\n",
       "<script type=\"application/javascript\">(function(root) {\n",
       "  var docs_json = {\"128ce549-943a-4394-ac77-9c37dc6c1f81\":{\"version\":\"3.7.3\",\"title\":\"Bokeh Application\",\"roots\":[{\"type\":\"object\",\"name\":\"Row\",\"id\":\"5eb400ee-cc12-42b4-99f2-6991e4c568de\",\"attributes\":{\"name\":\"Row01626\",\"tags\":[\"embedded\"],\"stylesheets\":[\"\\n:host(.pn-loading):before, .pn-loading:before {\\n  background-color: #c3c3c3;\\n  mask-size: auto calc(min(50%, 400px));\\n  -webkit-mask-size: auto calc(min(50%, 400px));\\n}\",{\"type\":\"object\",\"name\":\"ImportedStyleSheet\",\"id\":\"e9740f18-a171-411f-b73c-3e24ff96270c\",\"attributes\":{\"url\":\"https://cdn.holoviz.org/panel/1.7.1/dist/css/loading.css\"}},{\"type\":\"object\",\"name\":\"ImportedStyleSheet\",\"id\":\"5fa88df4-31ea-4640-b3f8-63c970dbdfd6\",\"attributes\":{\"url\":\"https://cdn.holoviz.org/panel/1.7.1/dist/css/listpanel.css\"}},{\"type\":\"object\",\"name\":\"ImportedStyleSheet\",\"id\":\"2c5a0fb3-0d76-4102-89cb-6a2045384997\",\"attributes\":{\"url\":\"https://cdn.holoviz.org/panel/1.7.1/dist/bundled/theme/default.css\"}},{\"type\":\"object\",\"name\":\"ImportedStyleSheet\",\"id\":\"840a58a6-41fa-4d93-91e6-3cee922e9c51\",\"attributes\":{\"url\":\"https://cdn.holoviz.org/panel/1.7.1/dist/bundled/theme/native.css\"}}],\"min_width\":800,\"margin\":0,\"sizing_mode\":\"stretch_width\",\"align\":\"start\",\"children\":[{\"type\":\"object\",\"name\":\"Spacer\",\"id\":\"5bbf46de-0608-482b-b7d6-4394df98afd1\",\"attributes\":{\"name\":\"HSpacer01630\",\"stylesheets\":[\"\\n:host(.pn-loading):before, .pn-loading:before {\\n  background-color: #c3c3c3;\\n  mask-size: auto calc(min(50%, 400px));\\n  -webkit-mask-size: auto calc(min(50%, 400px));\\n}\",{\"id\":\"e9740f18-a171-411f-b73c-3e24ff96270c\"},{\"id\":\"2c5a0fb3-0d76-4102-89cb-6a2045384997\"},{\"id\":\"840a58a6-41fa-4d93-91e6-3cee922e9c51\"}],\"min_width\":0,\"margin\":0,\"sizing_mode\":\"stretch_width\",\"align\":\"start\"}},{\"type\":\"object\",\"name\":\"Figure\",\"id\":\"a7839832-3747-40ca-a939-7fe564f79b7a\",\"attributes\":{\"width\":800,\"height\":400,\"margin\":[5,10],\"sizing_mode\":\"fixed\",\"align\":\"start\",\"x_range\":{\"type\":\"object\",\"name\":\"Range1d\",\"id\":\"c9cc7965-342f-4b62-bbfd-92a0609b563a\",\"attributes\":{\"name\":\"LogScalePrice\",\"tags\":[[[\"LogScalePrice\",null]],[]],\"start\":10.306560581492226,\"end\":13.68818453231652,\"reset_start\":10.306560581492226,\"reset_end\":13.68818453231652}},\"y_range\":{\"type\":\"object\",\"name\":\"Range1d\",\"id\":\"f88fd363-5ff6-4f96-87d7-44c574e66de3\",\"attributes\":{\"name\":\"LogScalePrice_count\",\"tags\":[[[\"Count\",null]],{\"type\":\"map\",\"entries\":[[\"invert_yaxis\",false],[\"autorange\",false]]}],\"end\":69.3,\"reset_start\":0.0,\"reset_end\":69.3}},\"x_scale\":{\"type\":\"object\",\"name\":\"LinearScale\",\"id\":\"73e93aee-b790-4538-8c8f-01620bcf3152\"},\"y_scale\":{\"type\":\"object\",\"name\":\"LinearScale\",\"id\":\"69aa1079-ac60-4055-9995-36fedd30914f\"},\"title\":{\"type\":\"object\",\"name\":\"Title\",\"id\":\"aa31bf00-65c9-49fa-85ab-832b9fb61723\",\"attributes\":{\"text\":\"Log Sales Prices Distribution\",\"text_color\":\"black\",\"text_font_size\":\"12pt\"}},\"renderers\":[{\"type\":\"object\",\"name\":\"GlyphRenderer\",\"id\":\"32c07aec-b7b0-41dc-bc9a-13fc1ac1dcf4\",\"attributes\":{\"data_source\":{\"type\":\"object\",\"name\":\"ColumnDataSource\",\"id\":\"8a3b78cb-c6b7-4ccd-86f1-c0e380184287\",\"attributes\":{\"selected\":{\"type\":\"object\",\"name\":\"Selection\",\"id\":\"bb49093d-538f-48d4-a6c5-329bc0a5d2f6\",\"attributes\":{\"indices\":[],\"line_indices\":[]}},\"selection_policy\":{\"type\":\"object\",\"name\":\"UnionRenderers\",\"id\":\"47c7ef94-a5a3-4a03-ad56-9d926c93b0ea\"},\"data\":{\"type\":\"map\",\"entries\":[[\"top\",{\"type\":\"ndarray\",\"array\":{\"type\":\"bytes\",\"data\":\"AgAAAAAAAAABAAAAAQAAAAEAAAAAAAAAAAAAAAAAAAAAAAAAAAAAAAAAAAAAAAAAAQAAAAEAAAACAAAAAQAAAAEAAAADAAAAAgAAAAEAAAABAAAABAAAAAAAAAABAAAAAgAAAAMAAAALAAAACgAAAAwAAAAKAAAADAAAAAsAAAAHAAAACwAAABAAAAANAAAAFwAAACMAAAAXAAAAIQAAACAAAAAhAAAAPAAAACgAAAA/AAAAOwAAADgAAAAlAAAALgAAACwAAAAoAAAAKgAAAD0AAAAvAAAAMAAAACsAAAAjAAAAHQAAABwAAAAbAAAAHQAAAB0AAAAlAAAADgAAABkAAAAVAAAAEgAAABgAAAARAAAABgAAAAoAAAATAAAADwAAAAcAAAAKAAAAAwAAAAQAAAAJAAAACgAAAAMAAAADAAAABAAAAAQAAAABAAAAAwAAAAEAAAABAAAAAAAAAAEAAAABAAAAAQAAAAEAAAAAAAAAAgAAAAAAAAAAAAAAAAAAAAAAAAAAAAAAAgAAAA==\"},\"shape\":[100],\"dtype\":\"int32\",\"order\":\"little\"}],[\"left\",{\"type\":\"ndarray\",\"array\":{\"type\":\"bytes\",\"data\":\"3z70m6jrJEB1/oEHZvskQAq+D3MjCyVAoH2d3uAaJUA1PStKniolQMv8uLVbOiVAYLxGIRlKJUD2e9SM1lklQIs7YviTaSVAIfvvY1F5JUC2un3PDoklQEx6CzvMmCVA4TmZpomoJUB3+SYSR7glQAy5tH0EyCVAonhC6cHXJUA3ONBUf+clQM33XcA89yVAYrfrK/oGJkD4dnmXtxYmQI42BwN1JiZAI/aUbjI2JkC5tSLa70UmQE51sEWtVSZA5DQ+sWplJkB59MscKHUmQA+0WYjlhCZApHPn86KUJkA6M3VfYKQmQM/yAssdtCZAZbKQNtvDJkD6cR6imNMmQJAxrA1W4yZAJvE5eRPzJkC7sMfk0AInQFBwVVCOEidA5i/ju0siJ0B873AnCTInQBGv/pLGQSdAp26M/oNRJ0A8LhpqQWEnQNLtp9X+cCdAZ601QbyAJ0D9bMOseZAnQJIsURg3oCdAKOzeg/SvJ0C9q2zvsb8nQFNr+lpvzydA6CqIxizfJ0B+6hUy6u4nQBSqo52n/idAqWkxCWUOKEA+Kb90Ih4oQNToTODfLShAaqjaS509KED/Z2i3Wk0oQJUn9iIYXShAKueDjtVsKEDAphH6knwoQFVmn2VQjChA6yUt0Q2cKECA5bo8y6soQBalSKiIuyhAq2TWE0bLKEBBJGR/A9soQNbj8erA6ihAbKN/Vn76KEACYw3COwopQJcimy35GSlALOIombYpKUDCobYEdDkpQFhhRHAxSSlA7SDS2+5YKUCD4F9HrGgpQBig7bJpeClArl97HieIKUBDHwmK5JcpQNnelvWhpylAbp4kYV+3KUAEXrLMHMcpQJkdQDja1ilAL93No5fmKUDEnFsPVfYpQFpc6XoSBipA8Bt35s8VKkCF2wRSjSUqQBqbkr1KNSpAsFogKQhFKkBGGq6UxVQqQNvZOwCDZCpAcZnJa0B0KkAGWVfX/YMqQJwY5UK7kypAMdhyrnijKkDHlwAaNrMqQFxXjoXzwipA8hYc8bDSKkCH1qlcbuIqQB2WN8gr8ipAslXFM+kBK0A=\"},\"shape\":[100],\"dtype\":\"float64\",\"order\":\"little\"}],[\"right\",{\"type\":\"ndarray\",\"array\":{\"type\":\"bytes\",\"data\":\"df6BB2b7JEAKvg9zIwslQKB9nd7gGiVANT0rSp4qJUDL/Li1WzolQGC8RiEZSiVA9nvUjNZZJUCLO2L4k2klQCH772NReSVAtrp9zw6JJUBMegs7zJglQOE5maaJqCVAd/kmEke4JUAMubR9BMglQKJ4QunB1yVANzjQVH/nJUDN913APPclQGK36yv6BiZA+HZ5l7cWJkCONgcDdSYmQCP2lG4yNiZAubUi2u9FJkBOdbBFrVUmQOQ0PrFqZSZAefTLHCh1JkAPtFmI5YQmQKRz5/OilCZAOjN1X2CkJkDP8gLLHbQmQGWykDbbwyZA+nEeopjTJkCQMawNVuMmQCbxOXkT8yZAu7DH5NACJ0BQcFVQjhInQOYv47tLIidAfO9wJwkyJ0ARr/6SxkEnQKdujP6DUSdAPC4aakFhJ0DS7afV/nAnQGetNUG8gCdA/WzDrHmQJ0CSLFEYN6AnQCjs3oP0rydAvats77G/J0BTa/pab88nQOgqiMYs3ydAfuoVMuruJ0AUqqOdp/4nQKlpMQllDihAPim/dCIeKEDU6Ezg3y0oQGqo2kudPShA/2dot1pNKECVJ/YiGF0oQCrng47VbChAwKYR+pJ8KEBVZp9lUIwoQOslLdENnChAgOW6PMurKEAWpUioiLsoQKtk1hNGyyhAQSRkfwPbKEDW4/HqwOooQGyjf1Z++ihAAmMNwjsKKUCXIpst+RkpQCziKJm2KSlAwqG2BHQ5KUBYYURwMUkpQO0g0tvuWClAg+BfR6xoKUAYoO2yaXgpQK5fex4niClAQx8JiuSXKUDZ3pb1oacpQG6eJGFftylABF6yzBzHKUCZHUA42tYpQC/dzaOX5ilAxJxbD1X2KUBaXOl6EgYqQPAbd+bPFSpAhdsEUo0lKkAam5K9SjUqQLBaICkIRSpARhqulMVUKkDb2TsAg2QqQHGZyWtAdCpABllX1/2DKkCcGOVCu5MqQDHYcq54oypAx5cAGjazKkBcV46F88IqQPIWHPGw0ipAh9apXG7iKkAdljfIK/IqQLJVxTPpAStASBVTn6YRK0A=\"},\"shape\":[100],\"dtype\":\"float64\",\"order\":\"little\"}],[\"LogScalePrice\",{\"type\":\"ndarray\",\"array\":{\"type\":\"bytes\",\"data\":\"qh67UYfzJEBA3ki9RAMlQNWd1igCEyVAal1klL8iJUAAHfL/fDIlQJbcf2s6QiVAK5wN1/dRJUDAW5tCtWElQFYbKa5ycSVA7Nq2GTCBJUCBmkSF7ZAlQBZa0vCqoCVArBlgXGiwJUBC2e3HJcAlQNeYezPjzyVAbFgJn6DfJUACGJcKXu8lQJjXJHYb/yVALZey4dgOJkDDVkBNlh4mQFgWzrhTLiZA7tVbJBE+JkCElemPzk0mQBlVd/uLXSZArhQFZ0ltJkBE1JLSBn0mQNqTID7EjCZAb1OuqYGcJkAEEzwVP6wmQJrSyYD8uyZAMJJX7LnLJkDFUeVXd9smQFsRc8M06yZA8NAAL/L6JkCGkI6arwonQBtQHAZtGidAsQ+qcSoqJ0BGzzfd5zknQNyOxUilSSdAck5TtGJZJ0AHDuEfIGknQJzNbovdeCdAMo389pqIJ0DITIpiWJgnQF0MGM4VqCdA8sulOdO3J0CIizOlkMcnQB5LwRBO1ydAswpPfAvnJ0BJytznyPYnQN6JalOGBihAdEn4vkMWKEAJCYYqASYoQJ/IE5a+NShANIihAXxFKEDKRy9tOVUoQGAHvdj2ZChA9cZKRLR0KECKhtivcYQoQCBGZhsvlChAtgX0huyjKEBLxYHyqbMoQOCED15nwyhAdkSdySTTKEAMBCs14uIoQKHDuKCf8ihAN4NGDF0CKUDMQtR3GhIpQGICYuPXISlA98HvTpUxKUCNgX26UkEpQCJBCyYQUSlAuACZkc1gKUBOwCb9inApQON/tGhIgClAeD9C1AWQKUAO/88/w58pQKS+XauArylAOX7rFj6/KUDOPXmC+84pQGT9Bu643ilA+ryUWXbuKUCPfCLFM/4pQCU8sDDxDSpAuvs9nK4dKkBQu8sHbC0qQOV6WXMpPSpAezrn3uZMKkAQ+nRKpFwqQKa5ArZhbCpAPHmQIR98KkDROB6N3IsqQGb4q/iZmypA/Lc5ZFerKkCSd8fPFLsqQCc3VTvSyipAvPbipo/aKkBStnASTeoqQOh1/n0K+ipAfTWM6ccJK0A=\"},\"shape\":[100],\"dtype\":\"float64\",\"order\":\"little\"}],[\"LogScalePrice_count\",{\"type\":\"ndarray\",\"array\":{\"type\":\"bytes\",\"data\":\"AgAAAAAAAAABAAAAAQAAAAEAAAAAAAAAAAAAAAAAAAAAAAAAAAAAAAAAAAAAAAAAAQAAAAEAAAACAAAAAQAAAAEAAAADAAAAAgAAAAEAAAABAAAABAAAAAAAAAABAAAAAgAAAAMAAAALAAAACgAAAAwAAAAKAAAADAAAAAsAAAAHAAAACwAAABAAAAANAAAAFwAAACMAAAAXAAAAIQAAACAAAAAhAAAAPAAAACgAAAA/AAAAOwAAADgAAAAlAAAALgAAACwAAAAoAAAAKgAAAD0AAAAvAAAAMAAAACsAAAAjAAAAHQAAABwAAAAbAAAAHQAAAB0AAAAlAAAADgAAABkAAAAVAAAAEgAAABgAAAARAAAABgAAAAoAAAATAAAADwAAAAcAAAAKAAAAAwAAAAQAAAAJAAAACgAAAAMAAAADAAAABAAAAAQAAAABAAAAAwAAAAEAAAABAAAAAAAAAAEAAAABAAAAAQAAAAEAAAAAAAAAAgAAAAAAAAAAAAAAAAAAAAAAAAAAAAAAAgAAAA==\"},\"shape\":[100],\"dtype\":\"int32\",\"order\":\"little\"}]]}}},\"view\":{\"type\":\"object\",\"name\":\"CDSView\",\"id\":\"2b162450-9c59-4df9-9e27-2a16751adfaa\",\"attributes\":{\"filter\":{\"type\":\"object\",\"name\":\"AllIndices\",\"id\":\"785f68a0-d86c-475a-a5b9-4198f69014df\"}}},\"glyph\":{\"type\":\"object\",\"name\":\"Quad\",\"id\":\"701942d1-96bd-45eb-90b3-18946b49001d\",\"attributes\":{\"tags\":[\"apply_ranges\"],\"left\":{\"type\":\"field\",\"field\":\"left\"},\"right\":{\"type\":\"field\",\"field\":\"right\"},\"bottom\":{\"type\":\"value\",\"value\":0},\"top\":{\"type\":\"field\",\"field\":\"top\"},\"fill_color\":{\"type\":\"value\",\"value\":\"#30a2da\"},\"hatch_color\":{\"type\":\"value\",\"value\":\"#30a2da\"}}},\"selection_glyph\":{\"type\":\"object\",\"name\":\"Quad\",\"id\":\"db3a35fa-ff74-4ebc-acaa-dcc40feae974\",\"attributes\":{\"tags\":[\"apply_ranges\"],\"left\":{\"type\":\"field\",\"field\":\"left\"},\"right\":{\"type\":\"field\",\"field\":\"right\"},\"bottom\":{\"type\":\"value\",\"value\":0},\"top\":{\"type\":\"field\",\"field\":\"top\"},\"line_color\":{\"type\":\"value\",\"value\":\"black\"},\"line_alpha\":{\"type\":\"value\",\"value\":1.0},\"line_width\":{\"type\":\"value\",\"value\":1},\"line_join\":{\"type\":\"value\",\"value\":\"bevel\"},\"line_cap\":{\"type\":\"value\",\"value\":\"butt\"},\"line_dash\":{\"type\":\"value\",\"value\":[]},\"line_dash_offset\":{\"type\":\"value\",\"value\":0},\"fill_color\":{\"type\":\"value\",\"value\":\"#30a2da\"},\"fill_alpha\":{\"type\":\"value\",\"value\":1.0},\"hatch_color\":{\"type\":\"value\",\"value\":\"#30a2da\"},\"hatch_alpha\":{\"type\":\"value\",\"value\":1.0},\"hatch_scale\":{\"type\":\"value\",\"value\":12.0},\"hatch_pattern\":{\"type\":\"value\",\"value\":null},\"hatch_weight\":{\"type\":\"value\",\"value\":1.0}}},\"nonselection_glyph\":{\"type\":\"object\",\"name\":\"Quad\",\"id\":\"3026d641-9ebe-4cc3-a280-03c600ba558d\",\"attributes\":{\"tags\":[\"apply_ranges\"],\"left\":{\"type\":\"field\",\"field\":\"left\"},\"right\":{\"type\":\"field\",\"field\":\"right\"},\"bottom\":{\"type\":\"value\",\"value\":0},\"top\":{\"type\":\"field\",\"field\":\"top\"},\"line_alpha\":{\"type\":\"value\",\"value\":0.1},\"fill_color\":{\"type\":\"value\",\"value\":\"#30a2da\"},\"fill_alpha\":{\"type\":\"value\",\"value\":0.1},\"hatch_color\":{\"type\":\"value\",\"value\":\"#30a2da\"},\"hatch_alpha\":{\"type\":\"value\",\"value\":0.1}}},\"muted_glyph\":{\"type\":\"object\",\"name\":\"Quad\",\"id\":\"a95fff42-1c63-4264-a121-7440b3e1c34c\",\"attributes\":{\"tags\":[\"apply_ranges\"],\"left\":{\"type\":\"field\",\"field\":\"left\"},\"right\":{\"type\":\"field\",\"field\":\"right\"},\"bottom\":{\"type\":\"value\",\"value\":0},\"top\":{\"type\":\"field\",\"field\":\"top\"},\"line_alpha\":{\"type\":\"value\",\"value\":0.2},\"fill_color\":{\"type\":\"value\",\"value\":\"#30a2da\"},\"fill_alpha\":{\"type\":\"value\",\"value\":0.2},\"hatch_color\":{\"type\":\"value\",\"value\":\"#30a2da\"},\"hatch_alpha\":{\"type\":\"value\",\"value\":0.2}}}}}],\"toolbar\":{\"type\":\"object\",\"name\":\"Toolbar\",\"id\":\"ce9241ae-d5ef-458d-801b-690594df4a4a\",\"attributes\":{\"tools\":[{\"type\":\"object\",\"name\":\"WheelZoomTool\",\"id\":\"45a80d40-8ba4-4a17-89ec-908562ed33ac\",\"attributes\":{\"tags\":[\"hv_created\"],\"renderers\":\"auto\",\"zoom_together\":\"none\"}},{\"type\":\"object\",\"name\":\"HoverTool\",\"id\":\"ba3cc546-5c94-4d23-89e2-ec60b7a5cb4b\",\"attributes\":{\"tags\":[\"hv_created\"],\"renderers\":[{\"id\":\"32c07aec-b7b0-41dc-bc9a-13fc1ac1dcf4\"}],\"tooltips\":[[\"LogScalePrice\",\"@{LogScalePrice}\"],[\"Count\",\"@{LogScalePrice_count}\"]]}},{\"type\":\"object\",\"name\":\"SaveTool\",\"id\":\"f3501e7f-9194-450d-b95b-ba7e76e2919c\"},{\"type\":\"object\",\"name\":\"PanTool\",\"id\":\"6d5184cf-aac1-4169-b13d-61e1e886dffe\"},{\"type\":\"object\",\"name\":\"BoxZoomTool\",\"id\":\"fd397b23-65c6-4221-ac0d-ce83c72c8b35\",\"attributes\":{\"dimensions\":\"both\",\"overlay\":{\"type\":\"object\",\"name\":\"BoxAnnotation\",\"id\":\"c012eab1-4872-40a1-a9a0-0a289ea89782\",\"attributes\":{\"syncable\":false,\"line_color\":\"black\",\"line_alpha\":1.0,\"line_width\":2,\"line_dash\":[4,4],\"fill_color\":\"lightgrey\",\"fill_alpha\":0.5,\"level\":\"overlay\",\"visible\":false,\"left\":{\"type\":\"number\",\"value\":\"nan\"},\"right\":{\"type\":\"number\",\"value\":\"nan\"},\"top\":{\"type\":\"number\",\"value\":\"nan\"},\"bottom\":{\"type\":\"number\",\"value\":\"nan\"},\"left_units\":\"canvas\",\"right_units\":\"canvas\",\"top_units\":\"canvas\",\"bottom_units\":\"canvas\",\"handles\":{\"type\":\"object\",\"name\":\"BoxInteractionHandles\",\"id\":\"72c4ccf5-09e4-4c07-861b-a8d7b07f09d3\",\"attributes\":{\"all\":{\"type\":\"object\",\"name\":\"AreaVisuals\",\"id\":\"2e33df6d-f7d2-47a6-932d-62a5ef6ccb24\",\"attributes\":{\"fill_color\":\"white\",\"hover_fill_color\":\"lightgray\"}}}}}}}},{\"type\":\"object\",\"name\":\"ResetTool\",\"id\":\"0450f219-8ff7-43b4-95f9-c00f7ce3b8eb\"}],\"active_drag\":{\"id\":\"6d5184cf-aac1-4169-b13d-61e1e886dffe\"},\"active_scroll\":{\"id\":\"45a80d40-8ba4-4a17-89ec-908562ed33ac\"}}},\"left\":[{\"type\":\"object\",\"name\":\"LinearAxis\",\"id\":\"f23708f1-9161-4e50-b2db-8f9b47fe70c2\",\"attributes\":{\"ticker\":{\"type\":\"object\",\"name\":\"BasicTicker\",\"id\":\"9e97da0d-f092-44ce-8848-fb9b11ed2458\",\"attributes\":{\"mantissas\":[1,2,5]}},\"formatter\":{\"type\":\"object\",\"name\":\"BasicTickFormatter\",\"id\":\"90915557-28e8-4cc9-aafc-246372e41617\"},\"axis_label\":\"Frequency\",\"major_label_policy\":{\"type\":\"object\",\"name\":\"AllLabels\",\"id\":\"8f1852a0-de68-4fbf-a45d-c34fc6ee2c07\"}}}],\"below\":[{\"type\":\"object\",\"name\":\"LinearAxis\",\"id\":\"d13078c3-6b35-43f2-84b7-f9bb98d1eb2c\",\"attributes\":{\"ticker\":{\"type\":\"object\",\"name\":\"FixedTicker\",\"id\":\"863dad47-552e-4d2a-8e15-ddc4a75ee992\",\"attributes\":{\"ticks\":[10,11,12,13,14,15,16,17,18,19],\"minor_ticks\":[]}},\"formatter\":{\"type\":\"object\",\"name\":\"NumeralTickFormatter\",\"id\":\"2dc9f512-c7f2-4de6-9d61-6348d224cfc6\"},\"axis_label\":\"Log Sales Price\",\"major_label_policy\":{\"type\":\"object\",\"name\":\"AllLabels\",\"id\":\"dd26a325-66c7-41c0-a396-f7ed112d9dae\"}}}],\"center\":[{\"type\":\"object\",\"name\":\"Grid\",\"id\":\"a9ccaf6c-3ad3-4740-97ee-4f1ea184fef1\",\"attributes\":{\"axis\":{\"id\":\"d13078c3-6b35-43f2-84b7-f9bb98d1eb2c\"},\"grid_line_color\":null}},{\"type\":\"object\",\"name\":\"Grid\",\"id\":\"af7abe53-f21b-4fc7-9715-e51d3e077b22\",\"attributes\":{\"dimension\":1,\"axis\":{\"id\":\"f23708f1-9161-4e50-b2db-8f9b47fe70c2\"},\"grid_line_color\":null}}],\"min_border_top\":10,\"min_border_bottom\":10,\"min_border_left\":10,\"min_border_right\":10,\"output_backend\":\"webgl\"}},{\"type\":\"object\",\"name\":\"Spacer\",\"id\":\"03375758-d25f-4222-be76-db9741527419\",\"attributes\":{\"name\":\"HSpacer01631\",\"stylesheets\":[\"\\n:host(.pn-loading):before, .pn-loading:before {\\n  background-color: #c3c3c3;\\n  mask-size: auto calc(min(50%, 400px));\\n  -webkit-mask-size: auto calc(min(50%, 400px));\\n}\",{\"id\":\"e9740f18-a171-411f-b73c-3e24ff96270c\"},{\"id\":\"2c5a0fb3-0d76-4102-89cb-6a2045384997\"},{\"id\":\"840a58a6-41fa-4d93-91e6-3cee922e9c51\"}],\"min_width\":0,\"margin\":0,\"sizing_mode\":\"stretch_width\",\"align\":\"start\"}}]}}],\"defs\":[{\"type\":\"model\",\"name\":\"ReactiveHTML1\"},{\"type\":\"model\",\"name\":\"FlexBox1\",\"properties\":[{\"name\":\"align_content\",\"kind\":\"Any\",\"default\":\"flex-start\"},{\"name\":\"align_items\",\"kind\":\"Any\",\"default\":\"flex-start\"},{\"name\":\"flex_direction\",\"kind\":\"Any\",\"default\":\"row\"},{\"name\":\"flex_wrap\",\"kind\":\"Any\",\"default\":\"wrap\"},{\"name\":\"gap\",\"kind\":\"Any\",\"default\":\"\"},{\"name\":\"justify_content\",\"kind\":\"Any\",\"default\":\"flex-start\"}]},{\"type\":\"model\",\"name\":\"FloatPanel1\",\"properties\":[{\"name\":\"config\",\"kind\":\"Any\",\"default\":{\"type\":\"map\"}},{\"name\":\"contained\",\"kind\":\"Any\",\"default\":true},{\"name\":\"position\",\"kind\":\"Any\",\"default\":\"right-top\"},{\"name\":\"offsetx\",\"kind\":\"Any\",\"default\":null},{\"name\":\"offsety\",\"kind\":\"Any\",\"default\":null},{\"name\":\"theme\",\"kind\":\"Any\",\"default\":\"primary\"},{\"name\":\"status\",\"kind\":\"Any\",\"default\":\"normalized\"}]},{\"type\":\"model\",\"name\":\"GridStack1\",\"properties\":[{\"name\":\"ncols\",\"kind\":\"Any\",\"default\":null},{\"name\":\"nrows\",\"kind\":\"Any\",\"default\":null},{\"name\":\"allow_resize\",\"kind\":\"Any\",\"default\":true},{\"name\":\"allow_drag\",\"kind\":\"Any\",\"default\":true},{\"name\":\"state\",\"kind\":\"Any\",\"default\":[]}]},{\"type\":\"model\",\"name\":\"drag1\",\"properties\":[{\"name\":\"slider_width\",\"kind\":\"Any\",\"default\":5},{\"name\":\"slider_color\",\"kind\":\"Any\",\"default\":\"black\"},{\"name\":\"value\",\"kind\":\"Any\",\"default\":50}]},{\"type\":\"model\",\"name\":\"click1\",\"properties\":[{\"name\":\"terminal_output\",\"kind\":\"Any\",\"default\":\"\"},{\"name\":\"debug_name\",\"kind\":\"Any\",\"default\":\"\"},{\"name\":\"clears\",\"kind\":\"Any\",\"default\":0}]},{\"type\":\"model\",\"name\":\"FastWrapper1\",\"properties\":[{\"name\":\"object\",\"kind\":\"Any\",\"default\":null},{\"name\":\"style\",\"kind\":\"Any\",\"default\":null}]},{\"type\":\"model\",\"name\":\"NotificationArea1\",\"properties\":[{\"name\":\"js_events\",\"kind\":\"Any\",\"default\":{\"type\":\"map\"}},{\"name\":\"max_notifications\",\"kind\":\"Any\",\"default\":5},{\"name\":\"notifications\",\"kind\":\"Any\",\"default\":[]},{\"name\":\"position\",\"kind\":\"Any\",\"default\":\"bottom-right\"},{\"name\":\"_clear\",\"kind\":\"Any\",\"default\":0},{\"name\":\"types\",\"kind\":\"Any\",\"default\":[{\"type\":\"map\",\"entries\":[[\"type\",\"warning\"],[\"background\",\"#ffc107\"],[\"icon\",{\"type\":\"map\",\"entries\":[[\"className\",\"fas fa-exclamation-triangle\"],[\"tagName\",\"i\"],[\"color\",\"white\"]]}]]},{\"type\":\"map\",\"entries\":[[\"type\",\"info\"],[\"background\",\"#007bff\"],[\"icon\",{\"type\":\"map\",\"entries\":[[\"className\",\"fas fa-info-circle\"],[\"tagName\",\"i\"],[\"color\",\"white\"]]}]]}]}]},{\"type\":\"model\",\"name\":\"Notification\",\"properties\":[{\"name\":\"background\",\"kind\":\"Any\",\"default\":null},{\"name\":\"duration\",\"kind\":\"Any\",\"default\":3000},{\"name\":\"icon\",\"kind\":\"Any\",\"default\":null},{\"name\":\"message\",\"kind\":\"Any\",\"default\":\"\"},{\"name\":\"notification_type\",\"kind\":\"Any\",\"default\":null},{\"name\":\"_rendered\",\"kind\":\"Any\",\"default\":false},{\"name\":\"_destroyed\",\"kind\":\"Any\",\"default\":false}]},{\"type\":\"model\",\"name\":\"TemplateActions1\",\"properties\":[{\"name\":\"open_modal\",\"kind\":\"Any\",\"default\":0},{\"name\":\"close_modal\",\"kind\":\"Any\",\"default\":0}]},{\"type\":\"model\",\"name\":\"BootstrapTemplateActions1\",\"properties\":[{\"name\":\"open_modal\",\"kind\":\"Any\",\"default\":0},{\"name\":\"close_modal\",\"kind\":\"Any\",\"default\":0}]},{\"type\":\"model\",\"name\":\"TemplateEditor1\",\"properties\":[{\"name\":\"layout\",\"kind\":\"Any\",\"default\":[]}]},{\"type\":\"model\",\"name\":\"MaterialTemplateActions1\",\"properties\":[{\"name\":\"open_modal\",\"kind\":\"Any\",\"default\":0},{\"name\":\"close_modal\",\"kind\":\"Any\",\"default\":0}]},{\"type\":\"model\",\"name\":\"ReactiveESM1\",\"properties\":[{\"name\":\"esm_constants\",\"kind\":\"Any\",\"default\":{\"type\":\"map\"}}]},{\"type\":\"model\",\"name\":\"JSComponent1\",\"properties\":[{\"name\":\"esm_constants\",\"kind\":\"Any\",\"default\":{\"type\":\"map\"}}]},{\"type\":\"model\",\"name\":\"ReactComponent1\",\"properties\":[{\"name\":\"esm_constants\",\"kind\":\"Any\",\"default\":{\"type\":\"map\"}}]},{\"type\":\"model\",\"name\":\"AnyWidgetComponent1\",\"properties\":[{\"name\":\"esm_constants\",\"kind\":\"Any\",\"default\":{\"type\":\"map\"}}]},{\"type\":\"model\",\"name\":\"request_value1\",\"properties\":[{\"name\":\"fill\",\"kind\":\"Any\",\"default\":\"none\"},{\"name\":\"_synced\",\"kind\":\"Any\",\"default\":null},{\"name\":\"_request_sync\",\"kind\":\"Any\",\"default\":0}]}]}};\n",
       "  var render_items = [{\"docid\":\"128ce549-943a-4394-ac77-9c37dc6c1f81\",\"roots\":{\"5eb400ee-cc12-42b4-99f2-6991e4c568de\":\"b73b633f-19fa-434c-a1ba-d40487a5167b\"},\"root_ids\":[\"5eb400ee-cc12-42b4-99f2-6991e4c568de\"]}];\n",
       "  var docs = Object.values(docs_json)\n",
       "  if (!docs) {\n",
       "    return\n",
       "  }\n",
       "  const py_version = docs[0].version.replace('rc', '-rc.').replace('.dev', '-dev.')\n",
       "  async function embed_document(root) {\n",
       "    var Bokeh = get_bokeh(root)\n",
       "    await Bokeh.embed.embed_items_notebook(docs_json, render_items);\n",
       "    for (const render_item of render_items) {\n",
       "      for (const root_id of render_item.root_ids) {\n",
       "\tconst id_el = document.getElementById(root_id)\n",
       "\tif (id_el.children.length && id_el.children[0].hasAttribute('data-root-id')) {\n",
       "\t  const root_el = id_el.children[0]\n",
       "\t  root_el.id = root_el.id + '-rendered'\n",
       "\t  for (const child of root_el.children) {\n",
       "            // Ensure JupyterLab does not capture keyboard shortcuts\n",
       "            // see: https://jupyterlab.readthedocs.io/en/4.1.x/extension/notebook.html#keyboard-interaction-model\n",
       "\t    child.setAttribute('data-lm-suppress-shortcuts', 'true')\n",
       "\t  }\n",
       "\t}\n",
       "      }\n",
       "    }\n",
       "  }\n",
       "  function get_bokeh(root) {\n",
       "    if (root.Bokeh === undefined) {\n",
       "      return null\n",
       "    } else if (root.Bokeh.version !== py_version) {\n",
       "      if (root.Bokeh.versions === undefined || !root.Bokeh.versions.has(py_version)) {\n",
       "\treturn null\n",
       "      }\n",
       "      return root.Bokeh.versions.get(py_version);\n",
       "    } else if (root.Bokeh.version === py_version) {\n",
       "      return root.Bokeh\n",
       "    }\n",
       "    return null\n",
       "  }\n",
       "  function is_loaded(root) {\n",
       "    var Bokeh = get_bokeh(root)\n",
       "    return (Bokeh != null && Bokeh.Panel !== undefined)\n",
       "  }\n",
       "  if (is_loaded(root)) {\n",
       "    embed_document(root);\n",
       "  } else {\n",
       "    var attempts = 0;\n",
       "    var timer = setInterval(function(root) {\n",
       "      if (is_loaded(root)) {\n",
       "        clearInterval(timer);\n",
       "        embed_document(root);\n",
       "      } else if (document.readyState == \"complete\") {\n",
       "        attempts++;\n",
       "        if (attempts > 200) {\n",
       "          clearInterval(timer);\n",
       "\t  var Bokeh = get_bokeh(root)\n",
       "\t  if (Bokeh == null || Bokeh.Panel == null) {\n",
       "            console.warn(\"Panel: ERROR: Unable to run Panel code because Bokeh or Panel library is missing\");\n",
       "\t  } else {\n",
       "\t    console.warn(\"Panel: WARNING: Attempting to render but not all required libraries could be resolved.\")\n",
       "\t    embed_document(root)\n",
       "\t  }\n",
       "        }\n",
       "      }\n",
       "    }, 25, root)\n",
       "  }\n",
       "})(window);</script>"
      ],
      "text/plain": [
       ":Histogram   [LogScalePrice]   (Count)"
      ]
     },
     "execution_count": 63,
     "metadata": {
      "application/vnd.holoviews_exec.v0+json": {
       "id": "5eb400ee-cc12-42b4-99f2-6991e4c568de"
      }
     },
     "output_type": "execute_result"
    }
   ],
   "source": [
    "# From the distribution we can see that the prices are right skewed, we can use log transformation to make it be closer to a normal distribution\n",
    "prices = prices.with_columns((pl.col('SalePrice') + 1).log().alias('LogScalePrice'))\n",
    "\n",
    "log_plot = prices.hvplot.hist( # type: ignore\n",
    "    'LogScalePrice',\n",
    "    bins=100,\n",
    "    title='Log Sales Prices Distribution',\n",
    "    xlabel='Log Sales Price',\n",
    "    ylabel='Frequency',\n",
    "    xticks=np.arange(10, 20, 1),\n",
    ")\n",
    "log_plot = log_plot.opts(width=800,height=400, xformatter=NumeralTickFormatter(format=\"0,0\"))\n",
    "log_plot"
   ]
  },
  {
   "cell_type": "code",
   "execution_count": null,
   "id": "20829b9a",
   "metadata": {},
   "outputs": [
    {
     "name": "stdout",
     "output_type": "stream",
     "text": [
      "The dataset contains 43 categorical features and 37 numerical features\n"
     ]
    }
   ],
   "source": [
    "# Categorical and Numerical Features\n",
    "categorical_features = data.select(pl.col(pl.String))\n",
    "numerical_features   = data.select(pl.col(pl.Int64))\n",
    "\n",
    "print(f'The dataset contains {categorical_features.shape[1]} categorical features and {numerical_features.shape[1]} numerical features')"
   ]
  },
  {
   "cell_type": "code",
   "execution_count": null,
   "id": "40b5c7af",
   "metadata": {},
   "outputs": [],
   "source": []
  }
 ],
 "metadata": {
  "kernelspec": {
   "display_name": "Python 3",
   "language": "python",
   "name": "python3"
  },
  "language_info": {
   "codemirror_mode": {
    "name": "ipython",
    "version": 3
   },
   "file_extension": ".py",
   "mimetype": "text/x-python",
   "name": "python",
   "nbconvert_exporter": "python",
   "pygments_lexer": "ipython3",
   "version": "3.10.11"
  }
 },
 "nbformat": 4,
 "nbformat_minor": 5
}
